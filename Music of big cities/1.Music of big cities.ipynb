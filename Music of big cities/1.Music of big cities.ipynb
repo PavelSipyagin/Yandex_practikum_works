{
 "cells": [
  {
   "cell_type": "markdown",
   "metadata": {
    "id": "E0vqbgi9ay0H"
   },
   "source": [
    "# Яндекс Музыка"
   ]
  },
  {
   "cell_type": "markdown",
   "metadata": {
    "id": "VUC88oWjTJw2"
   },
   "source": [
    "Сравнение Москвы и Петербурга окружено мифами. Например:\n",
    " * Москва — мегаполис, подчинённый жёсткому ритму рабочей недели;\n",
    " * Петербург — культурная столица, со своими вкусами.\n",
    "\n",
    "На данных Яндекс Музыки  сравним поведение пользователей двух столиц.\n",
    "\n",
    "**Цель исследования** — проверить три гипотезы:\n",
    "1. Активность пользователей зависит от дня недели. Причём в Москве и Петербурге это проявляется по-разному.\n",
    "2. В понедельник утром в Москве преобладают одни жанры, а в Петербурге — другие. Так же и вечером пятницы преобладают разные жанры — в зависимости от города. \n",
    "3. Москва и Петербург предпочитают разные жанры музыки. В Москве чаще слушают поп-музыку, в Петербурге — русский рэп.\n",
    "\n",
    "**Ход исследования**\n",
    "\n",
    "О качестве данных ничего не известно. Поэтому перед проверкой гипотез понадобится обзор данных. \n",
    "\n",
    "Проверим данные на ошибки и оценим их влияние на исследование. Затем, на этапе предобработки  поищем возможность исправить самые критичные ошибки данных.\n",
    " \n",
    "Таким образом, исследование пройдёт в три этапа:\n",
    " 1. Обзор данных.\n",
    " 2. Предобработка данных.\n",
    " 3. Проверка гипотез.\n",
    "\n"
   ]
  },
  {
   "cell_type": "markdown",
   "metadata": {
    "deletable": false,
    "editable": false,
    "id": "Ml1hmfXC_Zcs"
   },
   "source": [
    "## Обзор данных\n",
    "\n",
    "Составьте первое представление о данных Яндекс Музыки.\n",
    "\n",
    "\n"
   ]
  },
  {
   "cell_type": "markdown",
   "metadata": {
    "deletable": false,
    "editable": false,
    "id": "57eAOGIz_Zcs",
    "tags": [
     "start_task"
    ]
   },
   "source": [
    "**Задание 1**\n",
    "\n",
    "Основной инструмент аналитика — `pandas`. Импортируйте эту библиотеку."
   ]
  },
  {
   "cell_type": "code",
   "execution_count": 2,
   "metadata": {
    "deletable": false,
    "id": "AXN7PHPN_Zcs"
   },
   "outputs": [],
   "source": [
    "import pandas as pd # импорт библиотеки pandas"
   ]
  },
  {
   "cell_type": "markdown",
   "metadata": {
    "deletable": false,
    "editable": false,
    "id": "SG23P8tt_Zcs",
    "tags": [
     "start_task"
    ]
   },
   "source": [
    "**Задание 2**\n",
    "\n",
    "Прочитайте файл `yandex_music_project.csv` из папки `/datasets` и сохраните его в переменной `df`:"
   ]
  },
  {
   "cell_type": "code",
   "execution_count": 40,
   "metadata": {
    "deletable": false,
    "id": "fFVu7vqh_Zct"
   },
   "outputs": [],
   "source": [
    "df=pd.read_csv('/datasets/yandex_music_project.csv')# чтение файла с данными и сохранение в df\n",
    "df.to_csv('yandex_music_project.csv',index=False)"
   ]
  },
  {
   "cell_type": "markdown",
   "metadata": {
    "deletable": false,
    "editable": false,
    "id": "rDoOMd3uTqnZ",
    "tags": [
     "start_task"
    ]
   },
   "source": [
    "**Задание 3**\n",
    "\n",
    "\n",
    "Выведите на экран первые десять строк таблицы:"
   ]
  },
  {
   "cell_type": "code",
   "execution_count": 4,
   "metadata": {
    "deletable": false,
    "id": "oWTVX3gW_Zct"
   },
   "outputs": [
    {
     "name": "stdout",
     "output_type": "stream",
     "text": [
      "     userID                        Track            artist   genre  \\\n",
      "0  FFB692EC            Kamigata To Boots  The Mass Missile    rock   \n",
      "1  55204538  Delayed Because of Accident  Andreas Rönnberg    rock   \n",
      "2    20EC38            Funiculì funiculà       Mario Lanza     pop   \n",
      "3  A3DD03C9        Dragons in the Sunset        Fire + Ice    folk   \n",
      "4  E2DC1FAE                  Soul People        Space Echo   dance   \n",
      "5  842029A1                    Преданная         IMPERVTOR  rusrap   \n",
      "6  4CB90AA5                         True      Roman Messer   dance   \n",
      "7  F03E1C1F             Feeling This Way   Polina Griffith   dance   \n",
      "8  8FA1D3BE     И вновь продолжается бой               NaN  ruspop   \n",
      "9  E772D5C0                    Pessimist               NaN   dance   \n",
      "\n",
      "             City        time        Day  \n",
      "0  Saint-Petersburg  20:28:33  Wednesday  \n",
      "1            Moscow  14:07:09     Friday  \n",
      "2  Saint-Petersburg  20:58:07  Wednesday  \n",
      "3  Saint-Petersburg  08:37:09     Monday  \n",
      "4            Moscow  08:34:34     Monday  \n",
      "5  Saint-Petersburg  13:09:41     Friday  \n",
      "6            Moscow  13:00:07  Wednesday  \n",
      "7            Moscow  20:47:49  Wednesday  \n",
      "8            Moscow  09:17:40     Friday  \n",
      "9  Saint-Petersburg  21:20:49  Wednesday  \n"
     ]
    }
   ],
   "source": [
    "print(df.head(10))# получение первых 10 строк таблицы df"
   ]
  },
  {
   "cell_type": "markdown",
   "metadata": {
    "deletable": false,
    "editable": false,
    "id": "EO73Kwic_Zct",
    "tags": [
     "start_task"
    ]
   },
   "source": [
    "**Задание 4**\n",
    "\n",
    "\n",
    "Одной командой получить общую информацию о таблице c помощью метода `info()`:"
   ]
  },
  {
   "cell_type": "code",
   "execution_count": 5,
   "metadata": {
    "deletable": false,
    "id": "DSf2kIb-_Zct"
   },
   "outputs": [
    {
     "name": "stdout",
     "output_type": "stream",
     "text": [
      "<class 'pandas.core.frame.DataFrame'>\n",
      "RangeIndex: 65079 entries, 0 to 65078\n",
      "Data columns (total 7 columns):\n",
      " #   Column    Non-Null Count  Dtype \n",
      "---  ------    --------------  ----- \n",
      " 0     userID  65079 non-null  object\n",
      " 1   Track     63848 non-null  object\n",
      " 2   artist    57876 non-null  object\n",
      " 3   genre     63881 non-null  object\n",
      " 4     City    65079 non-null  object\n",
      " 5   time      65079 non-null  object\n",
      " 6   Day       65079 non-null  object\n",
      "dtypes: object(7)\n",
      "memory usage: 3.5+ MB\n"
     ]
    }
   ],
   "source": [
    "df.info()# получение общей информации о данных в таблице df"
   ]
  },
  {
   "cell_type": "markdown",
   "metadata": {
    "deletable": false,
    "editable": false,
    "id": "TaQ2Iwbr_Zct"
   },
   "source": [
    "Итак, в таблице семь столбцов. Тип данных во всех столбцах — `object`.\n",
    "\n",
    "Согласно документации к данным:\n",
    "* `userID` — идентификатор пользователя;\n",
    "* `Track` — название трека;  \n",
    "* `artist` — имя исполнителя;\n",
    "* `genre` — название жанра;\n",
    "* `City` — город пользователя;\n",
    "* `time` — время начала прослушивания;\n",
    "* `Day` — день недели.\n",
    "\n",
    "Количество значений в столбцах различается. Значит, в данных есть пропущенные значения."
   ]
  },
  {
   "cell_type": "markdown",
   "metadata": {
    "deletable": false,
    "editable": false,
    "id": "rAfziTBDmf2h",
    "tags": [
     "start_task"
    ]
   },
   "source": [
    "**Задание 5**\n",
    "\n",
    "**Вопрос со свободной формой ответа**\n",
    "\n",
    "В названиях колонок видны нарушения стиля:\n",
    "* Строчные буквы сочетаются с прописными.\n",
    "* Встречаются пробелы.\n",
    "\n",
    "Какое третье нарушение?"
   ]
  },
  {
   "cell_type": "code",
   "execution_count": 6,
   "metadata": {
    "id": "jD8EXEIvmf2h"
   },
   "outputs": [],
   "source": [
    "#не соблюден 'змеиный ' регистр"
   ]
  },
  {
   "cell_type": "markdown",
   "metadata": {
    "deletable": false,
    "editable": false,
    "id": "MCB6-dXG_Zct"
   },
   "source": [
    "**Выводы**\n",
    "\n",
    "В каждой строке таблицы — данные о прослушанном треке. Часть колонок описывает саму композицию: название, исполнителя и жанр. Остальные данные рассказывают о пользователе: из какого он города, когда он слушал музыку. \n",
    "\n",
    "Предварительно можно утверждать, что данных достаточно для проверки гипотез. Но встречаются пропуски в данных, а в названиях колонок — расхождения с хорошим стилем.\n",
    "\n",
    "Чтобы двигаться дальше, нужно устранить проблемы в данных."
   ]
  },
  {
   "cell_type": "markdown",
   "metadata": {
    "deletable": false,
    "editable": false,
    "id": "SjYF6Ub9_Zct"
   },
   "source": [
    "## Предобработка данных\n",
    "Исправьте стиль в заголовках столбцов, исключите пропуски. Затем проверьте данные на дубликаты."
   ]
  },
  {
   "cell_type": "markdown",
   "metadata": {
    "deletable": false,
    "editable": false,
    "id": "dIaKXr29_Zct",
    "tags": [
     "start_task"
    ]
   },
   "source": [
    "### Стиль заголовков\n",
    "\n",
    "**Задание 6**\n",
    "\n",
    "Выведите на экран названия столбцов:"
   ]
  },
  {
   "cell_type": "code",
   "execution_count": 7,
   "metadata": {
    "deletable": false,
    "id": "oKOTdF_Q_Zct"
   },
   "outputs": [
    {
     "data": {
      "text/plain": [
       "Index(['  userID', 'Track', 'artist', 'genre', '  City  ', 'time', 'Day'], dtype='object')"
      ]
     },
     "execution_count": 7,
     "metadata": {},
     "output_type": "execute_result"
    }
   ],
   "source": [
    "df.columns# перечень названий столбцов таблицы df"
   ]
  },
  {
   "cell_type": "markdown",
   "metadata": {
    "deletable": false,
    "editable": false,
    "id": "zj5534cv_Zct",
    "tags": [
     "start_task"
    ]
   },
   "source": [
    "**Задание 7**\n",
    "\n",
    "\n",
    "Приведите названия в соответствие с хорошим стилем:\n",
    "* несколько слов в названии запишите в «змеином_регистре»,\n",
    "* все символы сделайте строчными,\n",
    "* устраните пробелы.\n",
    "\n",
    "Для этого переименуйте колонки так:\n",
    "* `'  userID'` → `'user_id'`;\n",
    "* `'Track'` → `'track'`;\n",
    "* `'  City  '` → `'city'`;\n",
    "* `'Day'` → `'day'`."
   ]
  },
  {
   "cell_type": "code",
   "execution_count": 8,
   "metadata": {
    "deletable": false,
    "id": "ISlFqs5y_Zct"
   },
   "outputs": [],
   "source": [
    "df=df.rename(columns={'  userID':'user_id','Track':'track','  City  ':'city','Day':'day'})# переименование столбцов"
   ]
  },
  {
   "cell_type": "markdown",
   "metadata": {
    "deletable": false,
    "editable": false,
    "id": "1dqbh00J_Zct",
    "tags": [
     "start_task"
    ]
   },
   "source": [
    "**Задание 8**\n",
    "\n",
    "\n",
    "Проверьте результат. Для этого ещё раз выведите на экран названия столбцов:"
   ]
  },
  {
   "cell_type": "code",
   "execution_count": 9,
   "metadata": {
    "deletable": false,
    "id": "d4NOAmTW_Zct"
   },
   "outputs": [
    {
     "data": {
      "text/plain": [
       "Index(['user_id', 'track', 'artist', 'genre', 'city', 'time', 'day'], dtype='object')"
      ]
     },
     "execution_count": 9,
     "metadata": {},
     "output_type": "execute_result"
    }
   ],
   "source": [
    "df.columns# проверка результатов - перечень названий столбцов"
   ]
  },
  {
   "cell_type": "markdown",
   "metadata": {
    "deletable": false,
    "editable": false,
    "id": "5ISfbcfY_Zct",
    "tags": [
     "start_task"
    ]
   },
   "source": [
    "### Пропуски значений\n",
    "\n",
    "**Задание 9**\n",
    "\n",
    "Сначала посчитайте, сколько в таблице пропущенных значений. Для этого достаточно двух методов `pandas`:"
   ]
  },
  {
   "cell_type": "code",
   "execution_count": 10,
   "metadata": {
    "deletable": false,
    "id": "RskX29qr_Zct",
    "scrolled": true
   },
   "outputs": [
    {
     "data": {
      "text/plain": [
       "user_id       0\n",
       "track      1231\n",
       "artist     7203\n",
       "genre      1198\n",
       "city          0\n",
       "time          0\n",
       "day           0\n",
       "dtype: int64"
      ]
     },
     "execution_count": 10,
     "metadata": {},
     "output_type": "execute_result"
    }
   ],
   "source": [
    "df.isna().sum()# подсчёт пропусков"
   ]
  },
  {
   "cell_type": "markdown",
   "metadata": {
    "deletable": false,
    "editable": false,
    "id": "qubhgnlO_Zct"
   },
   "source": [
    "Не все пропущенные значения влияют на исследование. Так в `track` и `artist` пропуски не важны для вашей работы. Достаточно заменить их явными обозначениями.\n",
    "\n",
    "Но пропуски в `genre` могут помешать сравнению музыкальных вкусов в Москве и Санкт-Петербурге. На практике было бы правильно установить причину пропусков и восстановить данные. Такой возможности нет в учебном проекте. Придётся:\n",
    "* заполнить и эти пропуски явными обозначениями;\n",
    "* оценить, насколько они повредят расчётам. "
   ]
  },
  {
   "cell_type": "markdown",
   "metadata": {
    "deletable": false,
    "editable": false,
    "id": "fSv2laPA_Zct",
    "tags": [
     "start_task"
    ]
   },
   "source": [
    "**Задание 10**\n",
    "\n",
    "Замените пропущенные значения в столбцах `track`, `artist` и `genre` на строку `'unknown'`. Для этого создайте список `columns_to_replace`, переберите его элементы циклом `for` и для каждого столбца выполните замену пропущенных значений:"
   ]
  },
  {
   "cell_type": "code",
   "execution_count": 11,
   "metadata": {
    "deletable": false,
    "id": "KplB5qWs_Zct"
   },
   "outputs": [],
   "source": [
    "columns_to_replace=['track','artist','genre']\n",
    "for i in columns_to_replace:\n",
    "    df[i]=df[i].fillna('unknown')# перебор названий столбцов в цикле и замена пропущенных значений на 'unknown'"
   ]
  },
  {
   "cell_type": "markdown",
   "metadata": {
    "deletable": false,
    "editable": false,
    "id": "Ilsm-MZo_Zct",
    "tags": [
     "start_task"
    ]
   },
   "source": [
    "**Задание 11**\n",
    "\n",
    "Убедитесь, что в таблице не осталось пропусков. Для этого ещё раз посчитайте пропущенные значения."
   ]
  },
  {
   "cell_type": "code",
   "execution_count": 12,
   "metadata": {
    "deletable": false,
    "id": "Tq4nYRX4_Zct"
   },
   "outputs": [
    {
     "data": {
      "text/plain": [
       "user_id    0\n",
       "track      0\n",
       "artist     0\n",
       "genre      0\n",
       "city       0\n",
       "time       0\n",
       "day        0\n",
       "dtype: int64"
      ]
     },
     "execution_count": 12,
     "metadata": {},
     "output_type": "execute_result"
    }
   ],
   "source": [
    "df.isna().sum()# подсчёт пропусков"
   ]
  },
  {
   "cell_type": "markdown",
   "metadata": {
    "deletable": false,
    "editable": false,
    "id": "BWKRtBJ3_Zct",
    "tags": [
     "start_task"
    ]
   },
   "source": [
    "### Дубликаты\n",
    "\n",
    "**Задание 12**\n",
    "\n",
    "Посчитайте явные дубликаты в таблице одной командой:"
   ]
  },
  {
   "cell_type": "code",
   "execution_count": 13,
   "metadata": {
    "deletable": false,
    "id": "36eES_S0_Zct"
   },
   "outputs": [
    {
     "data": {
      "text/plain": [
       "3826"
      ]
     },
     "execution_count": 13,
     "metadata": {},
     "output_type": "execute_result"
    }
   ],
   "source": [
    "df.duplicated().sum()# подсчёт явных дубликатов"
   ]
  },
  {
   "cell_type": "markdown",
   "metadata": {
    "deletable": false,
    "editable": false,
    "id": "Ot25h6XR_Zct",
    "tags": [
     "start_task"
    ]
   },
   "source": [
    "**Задание 13**\n",
    "\n",
    "Вызовите специальный метод `pandas`, чтобы удалить явные дубликаты:"
   ]
  },
  {
   "cell_type": "code",
   "execution_count": 14,
   "metadata": {
    "deletable": false,
    "id": "exFHq6tt_Zct"
   },
   "outputs": [],
   "source": [
    "df=df.drop_duplicates()# удаление явных дубликатов"
   ]
  },
  {
   "cell_type": "markdown",
   "metadata": {
    "deletable": false,
    "editable": false,
    "id": "Im2YwBEG_Zct",
    "tags": [
     "start_task"
    ]
   },
   "source": [
    "**Задание 14**\n",
    "\n",
    "Ещё раз посчитайте явные дубликаты в таблице — убедитесь, что полностью от них избавились:"
   ]
  },
  {
   "cell_type": "code",
   "execution_count": 15,
   "metadata": {
    "deletable": false,
    "id": "-8PuNWQ0_Zct"
   },
   "outputs": [
    {
     "data": {
      "text/plain": [
       "0"
      ]
     },
     "execution_count": 15,
     "metadata": {},
     "output_type": "execute_result"
    }
   ],
   "source": [
    "df.duplicated().sum()# проверка на отсутствие дубликатов"
   ]
  },
  {
   "cell_type": "markdown",
   "metadata": {
    "deletable": false,
    "editable": false,
    "id": "QlFBsxAr_Zct"
   },
   "source": [
    "Теперь избавьтесь от неявных дубликатов в колонке `genre`. Например, название одного и того же жанра может быть записано немного по-разному. Такие ошибки тоже повлияют на результат исследования."
   ]
  },
  {
   "cell_type": "markdown",
   "metadata": {
    "deletable": false,
    "editable": false,
    "id": "eSjWwsOh_Zct",
    "tags": [
     "start_task"
    ]
   },
   "source": [
    "**Задание 15**\n",
    "\n",
    "Выведите на экран список уникальных названий жанров, отсортированный в алфавитном порядке. Для этого:\n",
    "1. извлеките нужный столбец датафрейма; \n",
    "2. примените к нему метод сортировки;\n",
    "3. для отсортированного столбца вызовите метод, который вернёт уникальные значения из столбца."
   ]
  },
  {
   "cell_type": "code",
   "execution_count": 16,
   "metadata": {
    "deletable": false,
    "id": "JIUcqzZN_Zct"
   },
   "outputs": [
    {
     "data": {
      "text/plain": [
       "array(['acid', 'acoustic', 'action', 'adult', 'africa', 'afrikaans',\n",
       "       'alternative', 'alternativepunk', 'ambient', 'americana',\n",
       "       'animated', 'anime', 'arabesk', 'arabic', 'arena',\n",
       "       'argentinetango', 'art', 'audiobook', 'author', 'avantgarde',\n",
       "       'axé', 'baile', 'balkan', 'beats', 'bigroom', 'black', 'bluegrass',\n",
       "       'blues', 'bollywood', 'bossa', 'brazilian', 'breakbeat', 'breaks',\n",
       "       'broadway', 'cantautori', 'cantopop', 'canzone', 'caribbean',\n",
       "       'caucasian', 'celtic', 'chamber', 'chanson', 'children', 'chill',\n",
       "       'chinese', 'choral', 'christian', 'christmas', 'classical',\n",
       "       'classicmetal', 'club', 'colombian', 'comedy', 'conjazz',\n",
       "       'contemporary', 'country', 'cuban', 'dance', 'dancehall',\n",
       "       'dancepop', 'dark', 'death', 'deep', 'deutschrock', 'deutschspr',\n",
       "       'dirty', 'disco', 'dnb', 'documentary', 'downbeat', 'downtempo',\n",
       "       'drum', 'dub', 'dubstep', 'eastern', 'easy', 'electronic',\n",
       "       'electropop', 'emo', 'entehno', 'epicmetal', 'estrada', 'ethnic',\n",
       "       'eurofolk', 'european', 'experimental', 'extrememetal', 'fado',\n",
       "       'fairytail', 'film', 'fitness', 'flamenco', 'folk', 'folklore',\n",
       "       'folkmetal', 'folkrock', 'folktronica', 'forró', 'frankreich',\n",
       "       'französisch', 'french', 'funk', 'future', 'gangsta', 'garage',\n",
       "       'german', 'ghazal', 'gitarre', 'glitch', 'gospel', 'gothic',\n",
       "       'grime', 'grunge', 'gypsy', 'handsup', \"hard'n'heavy\", 'hardcore',\n",
       "       'hardstyle', 'hardtechno', 'hip', 'hip-hop', 'hiphop',\n",
       "       'historisch', 'holiday', 'hop', 'horror', 'house', 'hymn', 'idm',\n",
       "       'independent', 'indian', 'indie', 'indipop', 'industrial',\n",
       "       'inspirational', 'instrumental', 'international', 'irish', 'jam',\n",
       "       'japanese', 'jazz', 'jewish', 'jpop', 'jungle', 'k-pop',\n",
       "       'karadeniz', 'karaoke', 'kayokyoku', 'korean', 'laiko', 'latin',\n",
       "       'latino', 'leftfield', 'local', 'lounge', 'loungeelectronic',\n",
       "       'lovers', 'malaysian', 'mandopop', 'marschmusik', 'meditative',\n",
       "       'mediterranean', 'melodic', 'metal', 'metalcore', 'mexican',\n",
       "       'middle', 'minimal', 'miscellaneous', 'modern', 'mood', 'mpb',\n",
       "       'muslim', 'native', 'neoklassik', 'neue', 'new', 'newage',\n",
       "       'newwave', 'nu', 'nujazz', 'numetal', 'oceania', 'old', 'opera',\n",
       "       'orchestral', 'other', 'piano', 'podcasts', 'pop', 'popdance',\n",
       "       'popelectronic', 'popeurodance', 'poprussian', 'post',\n",
       "       'posthardcore', 'postrock', 'power', 'progmetal', 'progressive',\n",
       "       'psychedelic', 'punjabi', 'punk', 'quebecois', 'ragga', 'ram',\n",
       "       'rancheras', 'rap', 'rave', 'reggae', 'reggaeton', 'regional',\n",
       "       'relax', 'religious', 'retro', 'rhythm', 'rnb', 'rnr', 'rock',\n",
       "       'rockabilly', 'rockalternative', 'rockindie', 'rockother',\n",
       "       'romance', 'roots', 'ruspop', 'rusrap', 'rusrock', 'russian',\n",
       "       'salsa', 'samba', 'scenic', 'schlager', 'self', 'sertanejo',\n",
       "       'shanson', 'shoegazing', 'showtunes', 'singer', 'ska', 'skarock',\n",
       "       'slow', 'smooth', 'soft', 'soul', 'soulful', 'sound', 'soundtrack',\n",
       "       'southern', 'specialty', 'speech', 'spiritual', 'sport',\n",
       "       'stonerrock', 'surf', 'swing', 'synthpop', 'synthrock',\n",
       "       'sängerportrait', 'tango', 'tanzorchester', 'taraftar', 'tatar',\n",
       "       'tech', 'techno', 'teen', 'thrash', 'top', 'traditional',\n",
       "       'tradjazz', 'trance', 'tribal', 'trip', 'triphop', 'tropical',\n",
       "       'türk', 'türkçe', 'ukrrock', 'unknown', 'urban', 'uzbek',\n",
       "       'variété', 'vi', 'videogame', 'vocal', 'western', 'world',\n",
       "       'worldbeat', 'ïîï', 'электроника'], dtype=object)"
      ]
     },
     "execution_count": 16,
     "metadata": {},
     "output_type": "execute_result"
    }
   ],
   "source": [
    "(df['genre'].sort_values(ascending=True)).unique()\n",
    "# Просмотр уникальных названий жанров"
   ]
  },
  {
   "cell_type": "markdown",
   "metadata": {
    "deletable": false,
    "editable": false,
    "id": "qej-Qmuo_Zct",
    "tags": [
     "start_task"
    ]
   },
   "source": [
    "**Задание 16**\n",
    "\n",
    "Просмотрите список и найдите неявные дубликаты названия `hiphop`. Это могут быть названия с ошибками или альтернативные названия того же жанра.\n",
    "\n",
    "Вы увидите следующие неявные дубликаты:\n",
    "* *hip*,\n",
    "* *hop*,\n",
    "* *hip-hop*.\n",
    "\n",
    "Чтобы очистить от них таблицу используйте метод `replace()` с двумя аргументами: списком строк-дубликатов (включащий *hip*, *hop* и *hip-hop*) и строкой с правильным значением. Вам нужно исправить колонку `genre` в таблице `df`: заменить каждое значение из списка дубликатов на верное. Вместо `hip`, `hop` и `hip-hop` в таблице должно быть значение `hiphop`:"
   ]
  },
  {
   "cell_type": "code",
   "execution_count": 17,
   "metadata": {
    "deletable": false,
    "id": "ErNDkmns_Zct"
   },
   "outputs": [],
   "source": [
    "\n",
    "wrong=['hip','hop','hip-hop']\n",
    "df['genre']=df['genre'].replace(wrong,'hiphop')# Устранение неявных дубликатов"
   ]
  },
  {
   "cell_type": "markdown",
   "metadata": {
    "deletable": false,
    "editable": false,
    "id": "zQKF16_RG15m",
    "tags": [
     "start_task"
    ]
   },
   "source": [
    "**Задание 17**\n",
    "\n",
    "Проверьте, что заменили неправильные названия:\n",
    "\n",
    "*   hip,\n",
    "*   hop,\n",
    "*   hip-hop.\n",
    "\n",
    "Выведите отсортированный список уникальных значений столбца `genre`:"
   ]
  },
  {
   "cell_type": "code",
   "execution_count": 18,
   "metadata": {
    "deletable": false,
    "id": "wvixALnFG15m"
   },
   "outputs": [
    {
     "data": {
      "text/plain": [
       "array(['acid', 'acoustic', 'action', 'adult', 'africa', 'afrikaans',\n",
       "       'alternative', 'alternativepunk', 'ambient', 'americana',\n",
       "       'animated', 'anime', 'arabesk', 'arabic', 'arena',\n",
       "       'argentinetango', 'art', 'audiobook', 'author', 'avantgarde',\n",
       "       'axé', 'baile', 'balkan', 'beats', 'bigroom', 'black', 'bluegrass',\n",
       "       'blues', 'bollywood', 'bossa', 'brazilian', 'breakbeat', 'breaks',\n",
       "       'broadway', 'cantautori', 'cantopop', 'canzone', 'caribbean',\n",
       "       'caucasian', 'celtic', 'chamber', 'chanson', 'children', 'chill',\n",
       "       'chinese', 'choral', 'christian', 'christmas', 'classical',\n",
       "       'classicmetal', 'club', 'colombian', 'comedy', 'conjazz',\n",
       "       'contemporary', 'country', 'cuban', 'dance', 'dancehall',\n",
       "       'dancepop', 'dark', 'death', 'deep', 'deutschrock', 'deutschspr',\n",
       "       'dirty', 'disco', 'dnb', 'documentary', 'downbeat', 'downtempo',\n",
       "       'drum', 'dub', 'dubstep', 'eastern', 'easy', 'electronic',\n",
       "       'electropop', 'emo', 'entehno', 'epicmetal', 'estrada', 'ethnic',\n",
       "       'eurofolk', 'european', 'experimental', 'extrememetal', 'fado',\n",
       "       'fairytail', 'film', 'fitness', 'flamenco', 'folk', 'folklore',\n",
       "       'folkmetal', 'folkrock', 'folktronica', 'forró', 'frankreich',\n",
       "       'französisch', 'french', 'funk', 'future', 'gangsta', 'garage',\n",
       "       'german', 'ghazal', 'gitarre', 'glitch', 'gospel', 'gothic',\n",
       "       'grime', 'grunge', 'gypsy', 'handsup', \"hard'n'heavy\", 'hardcore',\n",
       "       'hardstyle', 'hardtechno', 'hiphop', 'historisch', 'holiday',\n",
       "       'horror', 'house', 'hymn', 'idm', 'independent', 'indian', 'indie',\n",
       "       'indipop', 'industrial', 'inspirational', 'instrumental',\n",
       "       'international', 'irish', 'jam', 'japanese', 'jazz', 'jewish',\n",
       "       'jpop', 'jungle', 'k-pop', 'karadeniz', 'karaoke', 'kayokyoku',\n",
       "       'korean', 'laiko', 'latin', 'latino', 'leftfield', 'local',\n",
       "       'lounge', 'loungeelectronic', 'lovers', 'malaysian', 'mandopop',\n",
       "       'marschmusik', 'meditative', 'mediterranean', 'melodic', 'metal',\n",
       "       'metalcore', 'mexican', 'middle', 'minimal', 'miscellaneous',\n",
       "       'modern', 'mood', 'mpb', 'muslim', 'native', 'neoklassik', 'neue',\n",
       "       'new', 'newage', 'newwave', 'nu', 'nujazz', 'numetal', 'oceania',\n",
       "       'old', 'opera', 'orchestral', 'other', 'piano', 'podcasts', 'pop',\n",
       "       'popdance', 'popelectronic', 'popeurodance', 'poprussian', 'post',\n",
       "       'posthardcore', 'postrock', 'power', 'progmetal', 'progressive',\n",
       "       'psychedelic', 'punjabi', 'punk', 'quebecois', 'ragga', 'ram',\n",
       "       'rancheras', 'rap', 'rave', 'reggae', 'reggaeton', 'regional',\n",
       "       'relax', 'religious', 'retro', 'rhythm', 'rnb', 'rnr', 'rock',\n",
       "       'rockabilly', 'rockalternative', 'rockindie', 'rockother',\n",
       "       'romance', 'roots', 'ruspop', 'rusrap', 'rusrock', 'russian',\n",
       "       'salsa', 'samba', 'scenic', 'schlager', 'self', 'sertanejo',\n",
       "       'shanson', 'shoegazing', 'showtunes', 'singer', 'ska', 'skarock',\n",
       "       'slow', 'smooth', 'soft', 'soul', 'soulful', 'sound', 'soundtrack',\n",
       "       'southern', 'specialty', 'speech', 'spiritual', 'sport',\n",
       "       'stonerrock', 'surf', 'swing', 'synthpop', 'synthrock',\n",
       "       'sängerportrait', 'tango', 'tanzorchester', 'taraftar', 'tatar',\n",
       "       'tech', 'techno', 'teen', 'thrash', 'top', 'traditional',\n",
       "       'tradjazz', 'trance', 'tribal', 'trip', 'triphop', 'tropical',\n",
       "       'türk', 'türkçe', 'ukrrock', 'unknown', 'urban', 'uzbek',\n",
       "       'variété', 'vi', 'videogame', 'vocal', 'western', 'world',\n",
       "       'worldbeat', 'ïîï', 'электроника'], dtype=object)"
      ]
     },
     "execution_count": 18,
     "metadata": {},
     "output_type": "execute_result"
    }
   ],
   "source": [
    "(df['genre'].sort_values(ascending=True)).unique()# Проверка на неявные дубликаты"
   ]
  },
  {
   "cell_type": "markdown",
   "metadata": {
    "deletable": false,
    "editable": false,
    "id": "jz6a9-7HQUDd"
   },
   "source": [
    "**Выводы**\n",
    "\n",
    "Предобработка обнаружила три проблемы в данных:\n",
    "\n",
    "- нарушения в стиле заголовков,\n",
    "- пропущенные значения,\n",
    "- дубликаты — явные и неявные.\n",
    "\n",
    "Вы исправили заголовки, чтобы упростить работу с таблицей. Без дубликатов исследование станет более точным.\n",
    "\n",
    "Пропущенные значения вы заменили на `'unknown'`. Ещё предстоит увидеть, не повредят ли исследованию пропуски в колонке `genre`.\n",
    "\n",
    "Теперь можно перейти к проверке гипотез. "
   ]
  },
  {
   "cell_type": "markdown",
   "metadata": {
    "deletable": false,
    "editable": false,
    "id": "WttZHXH0SqKk"
   },
   "source": [
    "## Проверка гипотез"
   ]
  },
  {
   "cell_type": "markdown",
   "metadata": {
    "deletable": false,
    "editable": false,
    "id": "Im936VVi_Zcu"
   },
   "source": [
    "### Сравнение поведения пользователей двух столиц"
   ]
  },
  {
   "cell_type": "markdown",
   "metadata": {
    "deletable": false,
    "editable": false,
    "id": "nwt_MuaL_Zcu"
   },
   "source": [
    "Первая гипотеза утверждает, что пользователи по-разному слушают музыку в Москве и Санкт-Петербурге. Проверьте это предположение по данным о трёх днях недели — понедельнике, среде и пятнице. Для этого:\n",
    "\n",
    "* Разделите пользователей Москвы и Санкт-Петербурга.\n",
    "* Сравните, сколько треков послушала каждая группа пользователей в понедельник, среду и пятницу.\n"
   ]
  },
  {
   "cell_type": "markdown",
   "metadata": {
    "deletable": false,
    "editable": false,
    "id": "8Dw_YMmT_Zcu",
    "tags": [
     "start_task"
    ]
   },
   "source": [
    "**Задание 18**\n",
    "\n",
    "Для тренировки сначала выполните каждый из расчётов по отдельности. \n",
    "\n",
    "Оцените активность пользователей в каждом городе. Сгруппируйте данные по городу и посчитайте прослушивания в каждой группе.\n",
    "\n"
   ]
  },
  {
   "cell_type": "code",
   "execution_count": 19,
   "metadata": {
    "deletable": false,
    "id": "0_Qs96oh_Zcu"
   },
   "outputs": [
    {
     "data": {
      "text/plain": [
       "city\n",
       "Moscow              42741\n",
       "Saint-Petersburg    18512\n",
       "Name: track, dtype: int64"
      ]
     },
     "execution_count": 19,
     "metadata": {},
     "output_type": "execute_result"
    }
   ],
   "source": [
    "df.groupby('city')['track'].count()# Подсчёт прослушиваний в каждом городе"
   ]
  },
  {
   "cell_type": "markdown",
   "metadata": {
    "deletable": false,
    "editable": false,
    "id": "dzli3w8o_Zcu",
    "tags": [
     "start_task"
    ]
   },
   "source": [
    "В Москве прослушиваний больше, чем в Петербурге. Из этого не следует, что московские пользователи чаще слушают музыку. Просто самих пользователей в Москве больше.\n",
    "\n",
    "**Задание 19**\n",
    "\n",
    "Теперь сгруппируйте данные по дню недели и посчитайте прослушивания в понедельник, среду и пятницу. Учтите, что в данных есть информация о прослушиваниях только за эти дни.\n"
   ]
  },
  {
   "cell_type": "code",
   "execution_count": 20,
   "metadata": {
    "deletable": false,
    "id": "uZMKjiJz_Zcu"
   },
   "outputs": [
    {
     "data": {
      "text/plain": [
       "day\n",
       "Friday       21840\n",
       "Monday       21354\n",
       "Wednesday    18059\n",
       "Name: track, dtype: int64"
      ]
     },
     "execution_count": 20,
     "metadata": {},
     "output_type": "execute_result"
    }
   ],
   "source": [
    "df.groupby('day')['track'].count()# Подсчёт прослушиваний в каждый из трёх дней"
   ]
  },
  {
   "cell_type": "markdown",
   "metadata": {
    "deletable": false,
    "editable": false,
    "id": "cC2tNrlL_Zcu"
   },
   "source": [
    "В среднем пользователи из двух городов менее активны по средам. Но картина может измениться, если рассмотреть каждый город в отдельности."
   ]
  },
  {
   "cell_type": "markdown",
   "metadata": {
    "deletable": false,
    "editable": false,
    "id": "POzs8bGa_Zcu",
    "tags": [
     "start_task"
    ]
   },
   "source": [
    "**Задание 20**\n",
    "\n",
    "\n",
    "Вы видели, как работает группировка по городу и по дням недели. Теперь напишите функцию, которая объединит два эти расчёта.\n",
    "\n",
    "Создайте функцию `number_tracks()`, которая посчитает прослушивания для заданного дня и города. Ей понадобятся два параметра:\n",
    "* день недели,\n",
    "* название города.\n",
    "\n",
    "В функции сохраните в переменную строки исходной таблицы, у которых значение:\n",
    "  * в колонке `day` равно параметру `day`,\n",
    "  * в колонке `city` равно параметру `city`.\n",
    "\n",
    "Для этого примените последовательную фильтрацию с логической индексацией (или сложные логические выражения в одну строку, если вы уже знакомы с ними).\n",
    "\n",
    "Затем посчитайте значения в столбце `user_id` получившейся таблицы. Результат сохраните в новую переменную. Верните эту переменную из функции."
   ]
  },
  {
   "cell_type": "code",
   "execution_count": 21,
   "metadata": {
    "deletable": false,
    "id": "Nz3GdQB1_Zcu"
   },
   "outputs": [],
   "source": [
    "def number_tracks(day,city):\n",
    "    track_list=df[(df['day']==day)&(df['city']==city)]\n",
    "   \n",
    "    track_list_count=track_list['user_id'].count()\n",
    "    return track_list_count\n",
    "# <создание функции number_tracks()>\n",
    "# Объявляется функция с двумя параметрами: day, city."
   ]
  },
  {
   "cell_type": "markdown",
   "metadata": {
    "deletable": false,
    "editable": false,
    "id": "ytf7xFrFJQ2r",
    "tags": [
     "start_task"
    ]
   },
   "source": [
    "**Задание 21**\n",
    "\n",
    "Вызовите `number_tracks()` шесть раз, меняя значение параметров — так, чтобы получить данные для каждого города в каждый из трёх дней."
   ]
  },
  {
   "cell_type": "code",
   "execution_count": 22,
   "metadata": {
    "deletable": false,
    "id": "rJcRATNQ_Zcu"
   },
   "outputs": [
    {
     "data": {
      "text/plain": [
       "15740"
      ]
     },
     "execution_count": 22,
     "metadata": {},
     "output_type": "execute_result"
    }
   ],
   "source": [
    "\n",
    "\n",
    "\n",
    "number_tracks('Monday','Moscow')\n",
    "# количество прослушиваний в Москве по понедельникам"
   ]
  },
  {
   "cell_type": "code",
   "execution_count": 23,
   "metadata": {
    "deletable": false,
    "id": "hq_ncZ5T_Zcu"
   },
   "outputs": [
    {
     "data": {
      "text/plain": [
       "5614"
      ]
     },
     "execution_count": 23,
     "metadata": {},
     "output_type": "execute_result"
    }
   ],
   "source": [
    "\n",
    "number_tracks('Monday','Saint-Petersburg') \n",
    "# количество прослушиваний в Санкт-Петербурге по понедельникам"
   ]
  },
  {
   "cell_type": "code",
   "execution_count": 24,
   "metadata": {
    "deletable": false,
    "id": "_NTy2VPU_Zcu"
   },
   "outputs": [
    {
     "data": {
      "text/plain": [
       "11056"
      ]
     },
     "execution_count": 24,
     "metadata": {},
     "output_type": "execute_result"
    }
   ],
   "source": [
    "number_tracks('Wednesday','Moscow')\n",
    "\n",
    " # количество прослушиваний в Москве по средам"
   ]
  },
  {
   "cell_type": "code",
   "execution_count": 25,
   "metadata": {
    "deletable": false,
    "id": "j2y3TAwo_Zcu"
   },
   "outputs": [
    {
     "data": {
      "text/plain": [
       "7003"
      ]
     },
     "execution_count": 25,
     "metadata": {},
     "output_type": "execute_result"
    }
   ],
   "source": [
    "number_tracks('Wednesday','Saint-Petersburg')\n",
    "              # количество прослушиваний в Санкт-Петербурге по средам"
   ]
  },
  {
   "cell_type": "code",
   "execution_count": 26,
   "metadata": {
    "deletable": false,
    "id": "vYDw5u_K_Zcu"
   },
   "outputs": [
    {
     "data": {
      "text/plain": [
       "15945"
      ]
     },
     "execution_count": 26,
     "metadata": {},
     "output_type": "execute_result"
    }
   ],
   "source": [
    "number_tracks('Friday','Moscow')\n",
    "              # количество прослушиваний в Москве по пятницам"
   ]
  },
  {
   "cell_type": "code",
   "execution_count": 27,
   "metadata": {
    "deletable": false,
    "id": "8_yzFtW3_Zcu"
   },
   "outputs": [
    {
     "data": {
      "text/plain": [
       "5895"
      ]
     },
     "execution_count": 27,
     "metadata": {},
     "output_type": "execute_result"
    }
   ],
   "source": [
    "number_tracks('Friday','Saint-Petersburg')\n",
    "              # количество прослушиваний в Санкт-Петербурге по пятницам"
   ]
  },
  {
   "cell_type": "markdown",
   "metadata": {
    "deletable": false,
    "editable": false,
    "id": "7QXffbO-_Zcu",
    "tags": [
     "start_task"
    ]
   },
   "source": [
    "**Задание 22**\n",
    "\n",
    "Создайте c помощью конструктора `pd.DataFrame` таблицу, где\n",
    "* названия колонок — `['city', 'monday', 'wednesday', 'friday']`;\n",
    "* данные — результаты, которые вы получили с помощью `number_tracks`."
   ]
  },
  {
   "cell_type": "code",
   "execution_count": 28,
   "metadata": {
    "deletable": false,
    "id": "APAcLpOr_Zcu"
   },
   "outputs": [
    {
     "data": {
      "text/html": [
       "<div>\n",
       "<style scoped>\n",
       "    .dataframe tbody tr th:only-of-type {\n",
       "        vertical-align: middle;\n",
       "    }\n",
       "\n",
       "    .dataframe tbody tr th {\n",
       "        vertical-align: top;\n",
       "    }\n",
       "\n",
       "    .dataframe thead th {\n",
       "        text-align: right;\n",
       "    }\n",
       "</style>\n",
       "<table border=\"1\" class=\"dataframe\">\n",
       "  <thead>\n",
       "    <tr style=\"text-align: right;\">\n",
       "      <th></th>\n",
       "      <th>city</th>\n",
       "      <th>monday</th>\n",
       "      <th>wednesday</th>\n",
       "      <th>friday</th>\n",
       "    </tr>\n",
       "  </thead>\n",
       "  <tbody>\n",
       "    <tr>\n",
       "      <th>0</th>\n",
       "      <td>Москва</td>\n",
       "      <td>15740</td>\n",
       "      <td>11056</td>\n",
       "      <td>15945</td>\n",
       "    </tr>\n",
       "    <tr>\n",
       "      <th>1</th>\n",
       "      <td>Санкт-Петербург</td>\n",
       "      <td>5614</td>\n",
       "      <td>7003</td>\n",
       "      <td>5895</td>\n",
       "    </tr>\n",
       "  </tbody>\n",
       "</table>\n",
       "</div>"
      ],
      "text/plain": [
       "              city  monday  wednesday  friday\n",
       "0           Москва   15740      11056   15945\n",
       "1  Санкт-Петербург    5614       7003    5895"
      ]
     },
     "execution_count": 28,
     "metadata": {},
     "output_type": "execute_result"
    }
   ],
   "source": [
    "info = pd.DataFrame(data=[['Москва',15740 ,11056,15945], ['Санкт-Петербург',5614,7003,5895]], columns=['city', 'monday', 'wednesday', 'friday'])\n",
    "info\n",
    "# Таблица с результатами"
   ]
  },
  {
   "cell_type": "markdown",
   "metadata": {
    "deletable": false,
    "editable": false,
    "id": "-EgPIHYu_Zcu"
   },
   "source": [
    "**Выводы**\n",
    "\n",
    "Данные показывают разницу поведения пользователей:\n",
    "\n",
    "- В Москве пик прослушиваний приходится на понедельник и пятницу, а в среду заметен спад.\n",
    "- В Петербурге, наоборот, больше слушают музыку по средам. Активность в понедельник и пятницу здесь почти в равной мере уступает среде.\n",
    "\n",
    "Значит, данные говорят в пользу первой гипотезы."
   ]
  },
  {
   "cell_type": "markdown",
   "metadata": {
    "deletable": false,
    "editable": false,
    "id": "atZAxtq4_Zcu"
   },
   "source": [
    "### Музыка в начале и в конце недели"
   ]
  },
  {
   "cell_type": "markdown",
   "metadata": {
    "deletable": false,
    "editable": false,
    "id": "eXrQqXFH_Zcu"
   },
   "source": [
    "Согласно второй гипотезе, утром в понедельник в Москве преобладают одни жанры, а в Петербурге — другие. Так же и вечером пятницы преобладают разные жанры — в зависимости от города."
   ]
  },
  {
   "cell_type": "markdown",
   "metadata": {
    "deletable": false,
    "editable": false,
    "id": "S8UcW6Hw_Zcu",
    "tags": [
     "start_task"
    ]
   },
   "source": [
    "**Задание 23**\n",
    "\n",
    "Сохраните таблицы с данными в две переменные:\n",
    "* по Москве — в `moscow_general`;\n",
    "* по Санкт-Петербургу — в `spb_general`."
   ]
  },
  {
   "cell_type": "code",
   "execution_count": 29,
   "metadata": {
    "deletable": false,
    "id": "qeaFfM_P_Zcu"
   },
   "outputs": [],
   "source": [
    "\n",
    "moscow_general = df[df['city'] == 'Moscow']\n",
    "\n",
    "# получение таблицы moscow_general из тех строк таблицы df, \n",
    "# для которых значение в столбце 'city' равно 'Moscow'\n"
   ]
  },
  {
   "cell_type": "code",
   "execution_count": 30,
   "metadata": {
    "deletable": false,
    "id": "ORaVRKto_Zcu"
   },
   "outputs": [],
   "source": [
    "spb_general = df[df['city'] == 'Saint-Petersburg']\n",
    "# получение таблицы spb_general из тех строк таблицы df,\n",
    "# для которых значение в столбце 'city' равно 'Saint-Petersburg'\n"
   ]
  },
  {
   "cell_type": "markdown",
   "metadata": {
    "deletable": false,
    "id": "MEJV-CX2_Zcu",
    "tags": [
     "start_task"
    ]
   },
   "source": [
    "**Задание 24**\n",
    "\n",
    "Создайте функцию `genre_weekday()` с четырьмя параметрами:\n",
    "* таблица (датафрейм) с данными,\n",
    "* день недели,\n",
    "* начальная временная метка в формате 'hh:mm', \n",
    "* последняя временная метка в формате 'hh:mm'.\n",
    "\n",
    "Функция должна вернуть информацию о топ-10 жанров тех треков, которые прослушивали в указанный день, в промежутке между двумя отметками времени."
   ]
  },
  {
   "cell_type": "code",
   "execution_count": 31,
   "metadata": {
    "deletable": false,
    "id": "laJT9BYl_Zcu"
   },
   "outputs": [],
   "source": [
    "# Объявление функции genre_weekday() с параметрами table, day, time1, time2,\n",
    "# которая возвращает информацию о самых популярных жанрах в указанный день в\n",
    "# заданное время:\n",
    "\n",
    "def genre_weekday(df, day, time1, time2):\n",
    "    \n",
    "    # оставляем в genre_df только те строки df, у которых день равен day\n",
    "    genre_df =df[df['day']==day] # ваш код здесь\n",
    "    # оставляем в genre_df только те строки genre_df, у которых время меньше time2\n",
    "    genre_df =genre_df[genre_df['time']<time2] # ваш код здесь\n",
    "    # оставляем в genre_df только те строки genre_df, у которых время больше time1\n",
    "    genre_df =genre_df[genre_df['time']>time1] # ваш код здесь\n",
    "    # сгруппируем отфильтрованный датафрейм по столбцу с названиями жанров, возьмём столбец genre и посчитаем кол-во строк для каждого жанра методом count()\n",
    "    genre_df_grouped =(genre_df.groupby('genre')['genre']).count() # ваш код здесь\n",
    "    # отсортируем результат по убыванию (чтобы в начале Series оказались самые популярные жанры)\n",
    "    genre_df_sorted =genre_df_grouped.sort_values(ascending=False) # ваш код здесь\n",
    "    # вернём Series с 10 самыми популярными жанрами в указанный отрезок времени заданного дня\n",
    "    return genre_df_sorted[:10]"
   ]
  },
  {
   "cell_type": "markdown",
   "metadata": {
    "deletable": false,
    "editable": false,
    "id": "la2s2_PF_Zcu",
    "tags": [
     "start_task"
    ]
   },
   "source": [
    "**Задание 25**\n",
    "\n",
    "\n",
    "Cравните результаты функции `genre_weekday()` для Москвы и Санкт-Петербурга в понедельник утром (с 7:00 до 11:00) и в пятницу вечером (с 17:00 до 23:00):"
   ]
  },
  {
   "cell_type": "code",
   "execution_count": 32,
   "metadata": {
    "deletable": false,
    "id": "yz7itPUQ_Zcu"
   },
   "outputs": [
    {
     "data": {
      "text/plain": [
       "genre\n",
       "pop            781\n",
       "dance          549\n",
       "electronic     480\n",
       "rock           474\n",
       "hiphop         286\n",
       "ruspop         186\n",
       "world          181\n",
       "rusrap         175\n",
       "alternative    164\n",
       "unknown        161\n",
       "Name: genre, dtype: int64"
      ]
     },
     "execution_count": 32,
     "metadata": {},
     "output_type": "execute_result"
    }
   ],
   "source": [
    "genre_weekday(moscow_general, 'Monday', '07:00', '11:00')\n",
    "# вызов функции для утра понедельника в Москве (вместо df — таблица moscow_general)"
   ]
  },
  {
   "cell_type": "code",
   "execution_count": 33,
   "metadata": {
    "deletable": false,
    "id": "kwUcHPdy_Zcu"
   },
   "outputs": [
    {
     "data": {
      "text/plain": [
       "genre\n",
       "pop            218\n",
       "dance          182\n",
       "rock           162\n",
       "electronic     147\n",
       "hiphop          80\n",
       "ruspop          64\n",
       "alternative     58\n",
       "rusrap          55\n",
       "jazz            44\n",
       "classical       40\n",
       "Name: genre, dtype: int64"
      ]
     },
     "execution_count": 33,
     "metadata": {},
     "output_type": "execute_result"
    }
   ],
   "source": [
    "genre_weekday(spb_general, 'Monday', '07:00', '11:00')\n",
    "# вызов функции для утра понедельника в Петербурге (вместо df — таблица spb_general)"
   ]
  },
  {
   "cell_type": "code",
   "execution_count": 34,
   "metadata": {
    "deletable": false,
    "id": "EzXVRE1o_Zcu"
   },
   "outputs": [
    {
     "data": {
      "text/plain": [
       "genre\n",
       "pop            713\n",
       "rock           517\n",
       "dance          495\n",
       "electronic     482\n",
       "hiphop         273\n",
       "world          208\n",
       "ruspop         170\n",
       "alternative    163\n",
       "classical      163\n",
       "rusrap         142\n",
       "Name: genre, dtype: int64"
      ]
     },
     "execution_count": 34,
     "metadata": {},
     "output_type": "execute_result"
    }
   ],
   "source": [
    "genre_weekday(moscow_general, 'Friday', '17:00', '23:00')\n",
    "# вызов функции для вечера пятницы в Москве"
   ]
  },
  {
   "cell_type": "code",
   "execution_count": 35,
   "metadata": {
    "deletable": false,
    "id": "JZaEKu5v_Zcu"
   },
   "outputs": [
    {
     "data": {
      "text/plain": [
       "genre\n",
       "pop            256\n",
       "electronic     216\n",
       "rock           216\n",
       "dance          210\n",
       "hiphop          97\n",
       "alternative     63\n",
       "jazz            61\n",
       "classical       60\n",
       "rusrap          59\n",
       "world           54\n",
       "Name: genre, dtype: int64"
      ]
     },
     "execution_count": 35,
     "metadata": {},
     "output_type": "execute_result"
    }
   ],
   "source": [
    "genre_weekday(spb_general, 'Friday', '17:00', '23:00')\n",
    "# вызов функции для вечера пятницы в Петербурге"
   ]
  },
  {
   "cell_type": "markdown",
   "metadata": {
    "deletable": false,
    "editable": false,
    "id": "wrCe4MNX_Zcu"
   },
   "source": [
    "**Выводы**\n",
    "\n",
    "Если сравнить топ-10 жанров в понедельник утром, можно сделать такие выводы:\n",
    "\n",
    "1. В Москве и Петербурге слушают похожую музыку. Единственное отличие — в московский рейтинг вошёл жанр “world”, а в петербургский — джаз и классика.\n",
    "\n",
    "2. В Москве пропущенных значений оказалось так много, что значение `'unknown'` заняло десятое место среди самых популярных жанров. Значит, пропущенные значения занимают существенную долю в данных и угрожают достоверности исследования.\n",
    "\n",
    "Вечер пятницы не меняет эту картину. Некоторые жанры поднимаются немного выше, другие спускаются, но в целом топ-10 остаётся тем же самым.\n",
    "\n",
    "Таким образом, вторая гипотеза подтвердилась лишь частично:\n",
    "* Пользователи слушают похожую музыку в начале недели и в конце.\n",
    "* Разница между Москвой и Петербургом не слишком выражена. В Москве чаще слушают русскую популярную музыку, в Петербурге — джаз.\n",
    "\n",
    "Однако пропуски в данных ставят под сомнение этот результат. В Москве их так много, что рейтинг топ-10 мог бы выглядеть иначе, если бы не утерянные  данные о жанрах."
   ]
  },
  {
   "cell_type": "markdown",
   "metadata": {
    "deletable": false,
    "editable": false,
    "id": "JolODAqr_Zcu"
   },
   "source": [
    "### Жанровые предпочтения в Москве и Петербурге\n",
    "\n",
    "Гипотеза: Петербург — столица рэпа, музыку этого жанра там слушают чаще, чем в Москве.  А Москва — город контрастов, в котором, тем не менее, преобладает поп-музыка."
   ]
  },
  {
   "cell_type": "markdown",
   "metadata": {
    "deletable": false,
    "editable": false,
    "id": "DlegSvaT_Zcu",
    "tags": [
     "start_task"
    ]
   },
   "source": [
    "**Задание 26**\n",
    "\n",
    "Сгруппируйте таблицу `moscow_general` по жанру и посчитайте прослушивания треков каждого жанра методом `count()`. Затем отсортируйте результат в порядке убывания и сохраните его в таблице `moscow_genres`."
   ]
  },
  {
   "cell_type": "code",
   "execution_count": 36,
   "metadata": {
    "deletable": false,
    "id": "r19lIPke_Zcu"
   },
   "outputs": [],
   "source": [
    "moscow_genres=(moscow_general.groupby('genre')['genre'].count())\n",
    "moscow_genres=moscow_genres.sort_values(ascending=False)"
   ]
  },
  {
   "cell_type": "markdown",
   "metadata": {
    "deletable": false,
    "editable": false,
    "id": "6kMuomxTiIr8",
    "tags": [
     "start_task"
    ]
   },
   "source": [
    "**Задание 27**\n",
    "\n",
    "Выведите на экран первые десять строк `moscow_genres`:"
   ]
  },
  {
   "cell_type": "code",
   "execution_count": 37,
   "metadata": {
    "deletable": false,
    "id": "WhCSooF8_Zcv"
   },
   "outputs": [
    {
     "data": {
      "text/plain": [
       "genre\n",
       "pop            5892\n",
       "dance          4435\n",
       "rock           3965\n",
       "electronic     3786\n",
       "hiphop         2096\n",
       "classical      1616\n",
       "world          1432\n",
       "alternative    1379\n",
       "ruspop         1372\n",
       "rusrap         1161\n",
       "Name: genre, dtype: int64"
      ]
     },
     "execution_count": 37,
     "metadata": {},
     "output_type": "execute_result"
    }
   ],
   "source": [
    "moscow_genres[:10]\n",
    "# просмотр первых 10 строк moscow_genres"
   ]
  },
  {
   "cell_type": "markdown",
   "metadata": {
    "deletable": false,
    "editable": false,
    "id": "cnPG2vnN_Zcv",
    "tags": [
     "start_task"
    ]
   },
   "source": [
    "**Задание 28**\n",
    "\n",
    "\n",
    "Теперь повторите то же и для Петербурга.\n",
    "\n",
    "Сгруппируйте таблицу `spb_general` по жанру. Посчитайте прослушивания треков каждого жанра. Результат отсортируйте в порядке убывания и сохраните в таблице `spb_genres`:\n"
   ]
  },
  {
   "cell_type": "code",
   "execution_count": 38,
   "metadata": {
    "deletable": false,
    "id": "gluLIpE7_Zcv"
   },
   "outputs": [],
   "source": [
    "spb_genres=(spb_general.groupby('genre')['genre'].count()).sort_values(ascending=False)\n"
   ]
  },
  {
   "cell_type": "markdown",
   "metadata": {
    "deletable": false,
    "editable": false,
    "id": "5Doha_ODgyQ8",
    "tags": [
     "start_task"
    ]
   },
   "source": [
    "**Задание 29**\n",
    "\n",
    "Выведите на экран первые десять строк `spb_genres`:"
   ]
  },
  {
   "cell_type": "code",
   "execution_count": 39,
   "metadata": {
    "deletable": false,
    "id": "uaGJHjVU_Zcv"
   },
   "outputs": [
    {
     "data": {
      "text/plain": [
       "genre\n",
       "pop            2431\n",
       "dance          1932\n",
       "rock           1879\n",
       "electronic     1736\n",
       "hiphop          960\n",
       "alternative     649\n",
       "classical       646\n",
       "rusrap          564\n",
       "ruspop          538\n",
       "world           515\n",
       "Name: genre, dtype: int64"
      ]
     },
     "execution_count": 39,
     "metadata": {},
     "output_type": "execute_result"
    }
   ],
   "source": [
    "spb_genres[:10]\n",
    "# просмотр первых 10 строк spb_genres"
   ]
  },
  {
   "cell_type": "markdown",
   "metadata": {
    "deletable": false,
    "editable": false,
    "id": "RY51YJYu_Zcv"
   },
   "source": [
    "**Выводы**"
   ]
  },
  {
   "cell_type": "markdown",
   "metadata": {
    "deletable": false,
    "editable": false,
    "id": "nVhnJEm__Zcv"
   },
   "source": [
    "Гипотеза частично подтвердилась:\n",
    "* Поп-музыка — самый популярный жанр в Москве, как и предполагала гипотеза. Более того, в топ-10 жанров встречается близкий жанр — русская популярная музыка.\n",
    "* Вопреки ожиданиям, рэп одинаково популярен в Москве и Петербурге. \n"
   ]
  },
  {
   "cell_type": "markdown",
   "metadata": {
    "deletable": false,
    "editable": false,
    "id": "ykKQ0N65_Zcv"
   },
   "source": [
    "## Итоги исследования"
   ]
  },
  {
   "cell_type": "markdown",
   "metadata": {
    "deletable": false,
    "editable": false,
    "id": "tjUwbHb3_Zcv"
   },
   "source": [
    "Вы проверили три гипотезы и установили:\n",
    "\n",
    "1. День недели по-разному влияет на активность пользователей в Москве и Петербурге. \n",
    "\n",
    "Первая гипотеза полностью подтвердилась.\n",
    "\n",
    "2. Музыкальные предпочтения не сильно меняются в течение недели — будь то Москва или Петербург. Небольшие различия заметны в начале недели, по понедельникам:\n",
    "* в Москве слушают музыку жанра “world”,\n",
    "* в Петербурге — джаз и классику.\n",
    "\n",
    "Таким образом, вторая гипотеза подтвердилась лишь отчасти. Этот результат мог оказаться иным, если бы не пропуски в данных.\n",
    "\n",
    "3. Во вкусах пользователей Москвы и Петербурга больше общего чем различий. Вопреки ожиданиям, предпочтения жанров в Петербурге напоминают московские.\n",
    "\n",
    "Третья гипотеза не подтвердилась. Если различия в предпочтениях и существуют, на основной массе пользователей они незаметны.\n",
    "\n",
    "**На практике исследования содержат проверки статистических гипотез.**\n",
    "Из данных одного сервиса не всегда можно сделать вывод о всех жителях города.\n",
    "Проверки статистических гипотез покажут, насколько они достоверны, исходя из имеющихся данных. \n",
    "С методами проверок гипотез вы ещё познакомитесь в следующих темах."
   ]
  },
  {
   "cell_type": "markdown",
   "metadata": {},
   "source": []
  }
 ],
 "metadata": {
  "ExecuteTimeLog": [
   {
    "duration": 356,
    "start_time": "2022-07-03T05:26:29.802Z"
   },
   {
    "duration": 66,
    "start_time": "2022-07-03T05:27:39.423Z"
   },
   {
    "duration": 62,
    "start_time": "2022-07-03T05:27:56.984Z"
   },
   {
    "duration": 75,
    "start_time": "2022-07-03T05:29:06.533Z"
   },
   {
    "duration": 51,
    "start_time": "2022-07-03T05:29:28.092Z"
   },
   {
    "duration": 56,
    "start_time": "2022-07-03T05:30:00.627Z"
   },
   {
    "duration": 213,
    "start_time": "2022-07-03T05:30:05.532Z"
   },
   {
    "duration": 9,
    "start_time": "2022-07-03T05:30:50.093Z"
   },
   {
    "duration": 22,
    "start_time": "2022-07-03T05:32:15.585Z"
   },
   {
    "duration": 30,
    "start_time": "2022-07-03T05:32:36.307Z"
   },
   {
    "duration": 75,
    "start_time": "2022-07-03T05:34:13.647Z"
   },
   {
    "duration": 9,
    "start_time": "2022-07-03T05:37:35.021Z"
   },
   {
    "duration": 14,
    "start_time": "2022-07-03T05:37:50.449Z"
   },
   {
    "duration": 25,
    "start_time": "2022-07-03T05:39:44.322Z"
   },
   {
    "duration": 21,
    "start_time": "2022-07-03T05:40:50.430Z"
   },
   {
    "duration": 10,
    "start_time": "2022-07-03T05:41:17.528Z"
   },
   {
    "duration": 16,
    "start_time": "2022-07-03T05:41:21.776Z"
   },
   {
    "duration": 15,
    "start_time": "2022-07-03T05:41:39.001Z"
   },
   {
    "duration": 10,
    "start_time": "2022-07-03T05:42:01.380Z"
   },
   {
    "duration": 4,
    "start_time": "2022-07-03T05:42:08.822Z"
   },
   {
    "duration": 23,
    "start_time": "2022-07-03T05:44:05.923Z"
   },
   {
    "duration": 8,
    "start_time": "2022-07-03T05:47:03.843Z"
   },
   {
    "duration": 7,
    "start_time": "2022-07-03T05:47:19.820Z"
   },
   {
    "duration": 14,
    "start_time": "2022-07-03T06:03:39.404Z"
   },
   {
    "duration": 7,
    "start_time": "2022-07-03T06:03:58.117Z"
   },
   {
    "duration": 63,
    "start_time": "2022-07-03T06:05:07.184Z"
   },
   {
    "duration": 17,
    "start_time": "2022-07-03T06:05:27.488Z"
   },
   {
    "duration": 31,
    "start_time": "2022-07-03T06:05:54.545Z"
   },
   {
    "duration": 40,
    "start_time": "2022-07-03T06:07:01.214Z"
   },
   {
    "duration": 48,
    "start_time": "2022-07-03T06:07:26.279Z"
   },
   {
    "duration": 150,
    "start_time": "2022-07-03T06:08:06.044Z"
   },
   {
    "duration": 166,
    "start_time": "2022-07-03T06:08:39.243Z"
   },
   {
    "duration": 120,
    "start_time": "2022-07-03T06:09:12.546Z"
   },
   {
    "duration": 139,
    "start_time": "2022-07-03T06:09:49.393Z"
   },
   {
    "duration": 131,
    "start_time": "2022-07-03T06:09:54.989Z"
   },
   {
    "duration": 98,
    "start_time": "2022-07-03T06:12:36.731Z"
   },
   {
    "duration": 509,
    "start_time": "2022-07-03T06:12:49.336Z"
   },
   {
    "duration": 267,
    "start_time": "2022-07-03T06:12:49.847Z"
   },
   {
    "duration": 12,
    "start_time": "2022-07-03T06:12:50.117Z"
   },
   {
    "duration": 95,
    "start_time": "2022-07-03T06:12:50.131Z"
   },
   {
    "duration": 12,
    "start_time": "2022-07-03T06:12:50.233Z"
   },
   {
    "duration": 19,
    "start_time": "2022-07-03T06:12:50.247Z"
   },
   {
    "duration": 74,
    "start_time": "2022-07-03T06:12:50.273Z"
   },
   {
    "duration": 44,
    "start_time": "2022-07-03T06:12:50.349Z"
   },
   {
    "duration": 37,
    "start_time": "2022-07-03T06:12:50.403Z"
   },
   {
    "duration": 44,
    "start_time": "2022-07-03T06:12:50.443Z"
   },
   {
    "duration": 42,
    "start_time": "2022-07-03T06:12:50.491Z"
   },
   {
    "duration": 86,
    "start_time": "2022-07-03T06:12:50.535Z"
   },
   {
    "duration": 105,
    "start_time": "2022-07-03T06:12:50.623Z"
   },
   {
    "duration": 85,
    "start_time": "2022-07-03T06:12:50.735Z"
   },
   {
    "duration": 5,
    "start_time": "2022-07-03T06:12:50.821Z"
   },
   {
    "duration": 16,
    "start_time": "2022-07-03T06:12:50.828Z"
   },
   {
    "duration": 5,
    "start_time": "2022-07-03T06:12:50.846Z"
   },
   {
    "duration": 48,
    "start_time": "2022-07-03T06:12:50.867Z"
   },
   {
    "duration": 18,
    "start_time": "2022-07-03T06:12:50.916Z"
   },
   {
    "duration": 5,
    "start_time": "2022-07-03T06:12:50.936Z"
   },
   {
    "duration": 83,
    "start_time": "2022-07-03T06:12:50.942Z"
   },
   {
    "duration": 3,
    "start_time": "2022-07-03T06:12:51.027Z"
   },
   {
    "duration": 5,
    "start_time": "2022-07-03T06:12:51.032Z"
   },
   {
    "duration": 5,
    "start_time": "2022-07-03T06:12:51.039Z"
   },
   {
    "duration": 48,
    "start_time": "2022-07-03T06:12:51.045Z"
   },
   {
    "duration": 26,
    "start_time": "2022-07-03T06:12:51.103Z"
   },
   {
    "duration": 5,
    "start_time": "2022-07-03T06:12:51.130Z"
   },
   {
    "duration": 4,
    "start_time": "2022-07-03T06:12:51.139Z"
   },
   {
    "duration": 11,
    "start_time": "2022-07-03T06:12:51.144Z"
   },
   {
    "duration": 187,
    "start_time": "2022-07-03T06:12:51.157Z"
   },
   {
    "duration": 0,
    "start_time": "2022-07-03T06:12:51.347Z"
   },
   {
    "duration": 0,
    "start_time": "2022-07-03T06:12:51.348Z"
   },
   {
    "duration": 0,
    "start_time": "2022-07-03T06:12:51.350Z"
   },
   {
    "duration": 0,
    "start_time": "2022-07-03T06:12:51.351Z"
   },
   {
    "duration": 0,
    "start_time": "2022-07-03T06:12:51.352Z"
   },
   {
    "duration": 0,
    "start_time": "2022-07-03T06:12:51.352Z"
   },
   {
    "duration": 0,
    "start_time": "2022-07-03T06:12:51.353Z"
   },
   {
    "duration": 0,
    "start_time": "2022-07-03T06:12:51.354Z"
   },
   {
    "duration": 123,
    "start_time": "2022-07-03T06:13:03.395Z"
   },
   {
    "duration": 99,
    "start_time": "2022-07-03T06:13:58.817Z"
   },
   {
    "duration": 139,
    "start_time": "2022-07-03T06:14:02.707Z"
   },
   {
    "duration": 171,
    "start_time": "2022-07-03T06:14:58.863Z"
   },
   {
    "duration": 109,
    "start_time": "2022-07-03T06:15:03.527Z"
   },
   {
    "duration": 126,
    "start_time": "2022-07-03T06:15:13.497Z"
   },
   {
    "duration": 100,
    "start_time": "2022-07-03T06:15:21.540Z"
   },
   {
    "duration": 105,
    "start_time": "2022-07-03T06:16:44.379Z"
   },
   {
    "duration": 92,
    "start_time": "2022-07-03T06:16:54.232Z"
   },
   {
    "duration": 125,
    "start_time": "2022-07-03T06:17:36.400Z"
   },
   {
    "duration": 101,
    "start_time": "2022-07-03T06:18:13.483Z"
   },
   {
    "duration": 109,
    "start_time": "2022-07-03T06:18:30.009Z"
   },
   {
    "duration": 92,
    "start_time": "2022-07-03T06:18:49.644Z"
   },
   {
    "duration": 443,
    "start_time": "2022-07-03T06:19:02.121Z"
   },
   {
    "duration": 11,
    "start_time": "2022-07-03T06:19:14.103Z"
   },
   {
    "duration": 308,
    "start_time": "2022-07-03T06:19:14.120Z"
   },
   {
    "duration": 8,
    "start_time": "2022-07-03T06:19:14.432Z"
   },
   {
    "duration": 37,
    "start_time": "2022-07-03T06:19:14.442Z"
   },
   {
    "duration": 52,
    "start_time": "2022-07-03T06:19:14.482Z"
   },
   {
    "duration": 10,
    "start_time": "2022-07-03T06:19:14.536Z"
   },
   {
    "duration": 63,
    "start_time": "2022-07-03T06:19:14.548Z"
   },
   {
    "duration": 27,
    "start_time": "2022-07-03T06:19:14.613Z"
   },
   {
    "duration": 86,
    "start_time": "2022-07-03T06:19:14.641Z"
   },
   {
    "duration": 18,
    "start_time": "2022-07-03T06:19:14.731Z"
   },
   {
    "duration": 52,
    "start_time": "2022-07-03T06:19:14.750Z"
   },
   {
    "duration": 131,
    "start_time": "2022-07-03T06:19:14.804Z"
   },
   {
    "duration": 108,
    "start_time": "2022-07-03T06:19:14.937Z"
   },
   {
    "duration": 106,
    "start_time": "2022-07-03T06:19:15.050Z"
   },
   {
    "duration": 2,
    "start_time": "2022-07-03T06:19:15.158Z"
   },
   {
    "duration": 75,
    "start_time": "2022-07-03T06:19:15.161Z"
   },
   {
    "duration": 7,
    "start_time": "2022-07-03T06:19:15.238Z"
   },
   {
    "duration": 58,
    "start_time": "2022-07-03T06:19:15.247Z"
   },
   {
    "duration": 33,
    "start_time": "2022-07-03T06:19:15.308Z"
   },
   {
    "duration": 104,
    "start_time": "2022-07-03T06:19:15.343Z"
   },
   {
    "duration": 71,
    "start_time": "2022-07-03T06:19:15.449Z"
   },
   {
    "duration": 16,
    "start_time": "2022-07-03T06:19:15.522Z"
   },
   {
    "duration": 66,
    "start_time": "2022-07-03T06:19:15.540Z"
   },
   {
    "duration": 37,
    "start_time": "2022-07-03T06:19:15.610Z"
   },
   {
    "duration": 104,
    "start_time": "2022-07-03T06:19:15.649Z"
   },
   {
    "duration": 75,
    "start_time": "2022-07-03T06:19:15.764Z"
   },
   {
    "duration": 16,
    "start_time": "2022-07-03T06:19:15.841Z"
   },
   {
    "duration": 73,
    "start_time": "2022-07-03T06:19:15.858Z"
   },
   {
    "duration": 15,
    "start_time": "2022-07-03T06:19:15.933Z"
   },
   {
    "duration": 147,
    "start_time": "2022-07-03T06:19:15.951Z"
   },
   {
    "duration": 0,
    "start_time": "2022-07-03T06:19:16.100Z"
   },
   {
    "duration": 0,
    "start_time": "2022-07-03T06:19:16.101Z"
   },
   {
    "duration": 0,
    "start_time": "2022-07-03T06:19:16.102Z"
   },
   {
    "duration": 0,
    "start_time": "2022-07-03T06:19:16.106Z"
   },
   {
    "duration": 0,
    "start_time": "2022-07-03T06:19:16.107Z"
   },
   {
    "duration": 0,
    "start_time": "2022-07-03T06:19:16.109Z"
   },
   {
    "duration": 0,
    "start_time": "2022-07-03T06:19:16.109Z"
   },
   {
    "duration": 0,
    "start_time": "2022-07-03T06:19:16.110Z"
   },
   {
    "duration": 86,
    "start_time": "2022-07-03T06:19:31.524Z"
   },
   {
    "duration": 83,
    "start_time": "2022-07-03T06:19:39.211Z"
   },
   {
    "duration": 82,
    "start_time": "2022-07-03T06:19:50.004Z"
   },
   {
    "duration": 115,
    "start_time": "2022-07-03T06:20:05.428Z"
   },
   {
    "duration": 89,
    "start_time": "2022-07-03T06:20:27.675Z"
   },
   {
    "duration": 106,
    "start_time": "2022-07-03T06:21:01.532Z"
   },
   {
    "duration": 441,
    "start_time": "2022-07-03T06:23:06.852Z"
   },
   {
    "duration": 209,
    "start_time": "2022-07-03T06:23:07.295Z"
   },
   {
    "duration": 10,
    "start_time": "2022-07-03T06:23:07.506Z"
   },
   {
    "duration": 58,
    "start_time": "2022-07-03T06:23:07.518Z"
   },
   {
    "duration": 49,
    "start_time": "2022-07-03T06:23:07.579Z"
   },
   {
    "duration": 17,
    "start_time": "2022-07-03T06:23:07.630Z"
   },
   {
    "duration": 71,
    "start_time": "2022-07-03T06:23:07.649Z"
   },
   {
    "duration": 5,
    "start_time": "2022-07-03T06:23:07.721Z"
   },
   {
    "duration": 35,
    "start_time": "2022-07-03T06:23:07.727Z"
   },
   {
    "duration": 55,
    "start_time": "2022-07-03T06:23:07.765Z"
   },
   {
    "duration": 22,
    "start_time": "2022-07-03T06:23:07.822Z"
   },
   {
    "duration": 82,
    "start_time": "2022-07-03T06:23:07.845Z"
   },
   {
    "duration": 111,
    "start_time": "2022-07-03T06:23:07.928Z"
   },
   {
    "duration": 91,
    "start_time": "2022-07-03T06:23:08.040Z"
   },
   {
    "duration": 3,
    "start_time": "2022-07-03T06:23:08.135Z"
   },
   {
    "duration": 7,
    "start_time": "2022-07-03T06:23:08.139Z"
   },
   {
    "duration": 80,
    "start_time": "2022-07-03T06:23:08.152Z"
   },
   {
    "duration": 10,
    "start_time": "2022-07-03T06:23:08.234Z"
   },
   {
    "duration": 12,
    "start_time": "2022-07-03T06:23:08.246Z"
   },
   {
    "duration": 58,
    "start_time": "2022-07-03T06:23:08.260Z"
   },
   {
    "duration": 5,
    "start_time": "2022-07-03T06:23:08.320Z"
   },
   {
    "duration": 5,
    "start_time": "2022-07-03T06:23:08.327Z"
   },
   {
    "duration": 8,
    "start_time": "2022-07-03T06:23:08.334Z"
   },
   {
    "duration": 6,
    "start_time": "2022-07-03T06:23:08.344Z"
   },
   {
    "duration": 48,
    "start_time": "2022-07-03T06:23:08.352Z"
   },
   {
    "duration": 18,
    "start_time": "2022-07-03T06:23:08.401Z"
   },
   {
    "duration": 7,
    "start_time": "2022-07-03T06:23:08.421Z"
   },
   {
    "duration": 5,
    "start_time": "2022-07-03T06:23:08.432Z"
   },
   {
    "duration": 7,
    "start_time": "2022-07-03T06:23:08.439Z"
   },
   {
    "duration": 93,
    "start_time": "2022-07-03T06:23:08.447Z"
   },
   {
    "duration": 0,
    "start_time": "2022-07-03T06:23:08.541Z"
   },
   {
    "duration": 0,
    "start_time": "2022-07-03T06:23:08.542Z"
   },
   {
    "duration": 0,
    "start_time": "2022-07-03T06:23:08.543Z"
   },
   {
    "duration": 0,
    "start_time": "2022-07-03T06:23:08.544Z"
   },
   {
    "duration": 0,
    "start_time": "2022-07-03T06:23:08.545Z"
   },
   {
    "duration": 0,
    "start_time": "2022-07-03T06:23:08.547Z"
   },
   {
    "duration": 0,
    "start_time": "2022-07-03T06:23:08.548Z"
   },
   {
    "duration": 0,
    "start_time": "2022-07-03T06:23:08.550Z"
   },
   {
    "duration": 106,
    "start_time": "2022-07-03T06:23:29.239Z"
   },
   {
    "duration": 89,
    "start_time": "2022-07-03T06:23:38.532Z"
   },
   {
    "duration": 125,
    "start_time": "2022-07-03T06:23:44.195Z"
   },
   {
    "duration": 86,
    "start_time": "2022-07-03T06:23:49.602Z"
   },
   {
    "duration": 7,
    "start_time": "2022-07-03T06:25:09.401Z"
   },
   {
    "duration": 196,
    "start_time": "2022-07-03T06:25:09.413Z"
   },
   {
    "duration": 11,
    "start_time": "2022-07-03T06:25:09.610Z"
   },
   {
    "duration": 35,
    "start_time": "2022-07-03T06:25:09.623Z"
   },
   {
    "duration": 6,
    "start_time": "2022-07-03T06:25:09.660Z"
   },
   {
    "duration": 53,
    "start_time": "2022-07-03T06:25:09.668Z"
   },
   {
    "duration": 10,
    "start_time": "2022-07-03T06:25:09.723Z"
   },
   {
    "duration": 5,
    "start_time": "2022-07-03T06:25:09.734Z"
   },
   {
    "duration": 45,
    "start_time": "2022-07-03T06:25:09.741Z"
   },
   {
    "duration": 49,
    "start_time": "2022-07-03T06:25:09.789Z"
   },
   {
    "duration": 30,
    "start_time": "2022-07-03T06:25:09.840Z"
   },
   {
    "duration": 140,
    "start_time": "2022-07-03T06:25:09.871Z"
   },
   {
    "duration": 105,
    "start_time": "2022-07-03T06:25:15.722Z"
   },
   {
    "duration": 105,
    "start_time": "2022-07-03T06:26:14.581Z"
   },
   {
    "duration": 69,
    "start_time": "2022-07-03T06:27:14.101Z"
   },
   {
    "duration": 7,
    "start_time": "2022-07-03T06:36:03.302Z"
   },
   {
    "duration": 96,
    "start_time": "2022-07-03T06:36:12.477Z"
   },
   {
    "duration": 87,
    "start_time": "2022-07-03T06:37:22.433Z"
   },
   {
    "duration": 56,
    "start_time": "2022-07-04T03:59:01.380Z"
   },
   {
    "duration": 393,
    "start_time": "2022-07-04T04:00:15.547Z"
   },
   {
    "duration": 251,
    "start_time": "2022-07-04T04:00:15.942Z"
   },
   {
    "duration": 10,
    "start_time": "2022-07-04T04:00:16.194Z"
   },
   {
    "duration": 41,
    "start_time": "2022-07-04T04:00:16.205Z"
   },
   {
    "duration": 3,
    "start_time": "2022-07-04T04:00:16.249Z"
   },
   {
    "duration": 18,
    "start_time": "2022-07-04T04:00:16.255Z"
   },
   {
    "duration": 20,
    "start_time": "2022-07-04T04:00:16.276Z"
   },
   {
    "duration": 32,
    "start_time": "2022-07-04T04:00:16.298Z"
   },
   {
    "duration": 42,
    "start_time": "2022-07-04T04:00:16.331Z"
   },
   {
    "duration": 29,
    "start_time": "2022-07-04T04:00:16.375Z"
   },
   {
    "duration": 72,
    "start_time": "2022-07-04T04:00:16.406Z"
   },
   {
    "duration": 128,
    "start_time": "2022-07-04T04:00:16.480Z"
   },
   {
    "duration": 99,
    "start_time": "2022-07-04T04:00:16.610Z"
   },
   {
    "duration": 121,
    "start_time": "2022-07-04T04:00:16.713Z"
   },
   {
    "duration": 4,
    "start_time": "2022-07-04T04:00:16.836Z"
   },
   {
    "duration": 23,
    "start_time": "2022-07-04T04:00:16.842Z"
   },
   {
    "duration": 23,
    "start_time": "2022-07-04T04:00:16.867Z"
   },
   {
    "duration": 9,
    "start_time": "2022-07-04T04:00:16.893Z"
   },
   {
    "duration": 16,
    "start_time": "2022-07-04T04:00:16.904Z"
   },
   {
    "duration": 7,
    "start_time": "2022-07-04T04:00:16.923Z"
   },
   {
    "duration": 13,
    "start_time": "2022-07-04T04:00:16.932Z"
   },
   {
    "duration": 9,
    "start_time": "2022-07-04T04:00:16.947Z"
   },
   {
    "duration": 6,
    "start_time": "2022-07-04T04:00:16.958Z"
   },
   {
    "duration": 9,
    "start_time": "2022-07-04T04:00:16.966Z"
   },
   {
    "duration": 12,
    "start_time": "2022-07-04T04:00:16.977Z"
   },
   {
    "duration": 8,
    "start_time": "2022-07-04T04:00:16.991Z"
   },
   {
    "duration": 17,
    "start_time": "2022-07-04T04:00:17.002Z"
   },
   {
    "duration": 7,
    "start_time": "2022-07-04T04:00:17.021Z"
   },
   {
    "duration": 5,
    "start_time": "2022-07-04T04:00:17.030Z"
   },
   {
    "duration": 54,
    "start_time": "2022-07-04T04:00:17.038Z"
   },
   {
    "duration": 0,
    "start_time": "2022-07-04T04:00:17.094Z"
   },
   {
    "duration": 0,
    "start_time": "2022-07-04T04:00:17.095Z"
   },
   {
    "duration": 0,
    "start_time": "2022-07-04T04:00:17.096Z"
   },
   {
    "duration": 0,
    "start_time": "2022-07-04T04:00:17.098Z"
   },
   {
    "duration": 0,
    "start_time": "2022-07-04T04:00:17.099Z"
   },
   {
    "duration": 0,
    "start_time": "2022-07-04T04:00:17.100Z"
   },
   {
    "duration": 0,
    "start_time": "2022-07-04T04:00:17.102Z"
   },
   {
    "duration": 0,
    "start_time": "2022-07-04T04:00:17.104Z"
   },
   {
    "duration": 110,
    "start_time": "2022-07-04T04:02:51.581Z"
   },
   {
    "duration": 93,
    "start_time": "2022-07-04T04:03:17.098Z"
   },
   {
    "duration": 49,
    "start_time": "2022-07-04T04:08:51.819Z"
   },
   {
    "duration": 87,
    "start_time": "2022-07-04T04:09:06.188Z"
   },
   {
    "duration": 53,
    "start_time": "2022-07-04T04:10:08.381Z"
   },
   {
    "duration": 39,
    "start_time": "2022-07-04T04:11:20.274Z"
   },
   {
    "duration": 42,
    "start_time": "2022-07-04T04:12:14.473Z"
   },
   {
    "duration": 32,
    "start_time": "2022-07-04T04:16:22.394Z"
   },
   {
    "duration": 7,
    "start_time": "2022-07-04T04:16:55.917Z"
   },
   {
    "duration": 32,
    "start_time": "2022-07-04T04:17:27.664Z"
   },
   {
    "duration": 37,
    "start_time": "2022-07-04T04:17:53.265Z"
   },
   {
    "duration": 33,
    "start_time": "2022-07-04T04:18:15.357Z"
   },
   {
    "duration": 55,
    "start_time": "2022-07-04T04:18:53.217Z"
   },
   {
    "duration": 16,
    "start_time": "2022-07-04T04:21:16.117Z"
   },
   {
    "duration": 9,
    "start_time": "2022-07-04T04:21:42.555Z"
   },
   {
    "duration": 1184,
    "start_time": "2022-07-04T04:24:13.704Z"
   },
   {
    "duration": 7,
    "start_time": "2022-07-04T04:25:34.198Z"
   },
   {
    "duration": 10,
    "start_time": "2022-07-04T04:26:18.989Z"
   },
   {
    "duration": 13,
    "start_time": "2022-07-04T04:30:03.103Z"
   },
   {
    "duration": 9,
    "start_time": "2022-07-04T04:30:48.458Z"
   },
   {
    "duration": 50,
    "start_time": "2022-07-04T04:31:28.071Z"
   },
   {
    "duration": 53,
    "start_time": "2022-07-04T04:31:36.072Z"
   },
   {
    "duration": 43,
    "start_time": "2022-07-04T04:31:43.056Z"
   },
   {
    "duration": 60,
    "start_time": "2022-07-04T04:32:25.323Z"
   },
   {
    "duration": 17,
    "start_time": "2022-07-04T04:36:47.819Z"
   },
   {
    "duration": 8,
    "start_time": "2022-07-04T04:37:19.000Z"
   },
   {
    "duration": 8,
    "start_time": "2022-07-04T04:41:59.573Z"
   },
   {
    "duration": 7,
    "start_time": "2022-07-04T04:42:06.194Z"
   },
   {
    "duration": 12,
    "start_time": "2022-07-04T04:42:29.503Z"
   },
   {
    "duration": 11,
    "start_time": "2022-07-04T04:43:01.263Z"
   },
   {
    "duration": 6,
    "start_time": "2022-07-04T04:43:12.596Z"
   },
   {
    "duration": 13,
    "start_time": "2022-07-04T04:43:24.725Z"
   },
   {
    "duration": 8,
    "start_time": "2022-07-04T04:43:49.690Z"
   },
   {
    "duration": 10,
    "start_time": "2022-07-04T04:44:05.121Z"
   },
   {
    "duration": 9,
    "start_time": "2022-07-04T04:44:29.460Z"
   },
   {
    "duration": 11,
    "start_time": "2022-07-04T04:44:58.075Z"
   },
   {
    "duration": 8,
    "start_time": "2022-07-04T04:45:02.476Z"
   },
   {
    "duration": 7,
    "start_time": "2022-07-04T04:45:28.374Z"
   },
   {
    "duration": 12,
    "start_time": "2022-07-04T04:45:44.208Z"
   },
   {
    "duration": 12,
    "start_time": "2022-07-04T04:45:50.358Z"
   },
   {
    "duration": 6,
    "start_time": "2022-07-04T04:46:07.688Z"
   },
   {
    "duration": 12,
    "start_time": "2022-07-04T04:46:21.034Z"
   },
   {
    "duration": 11,
    "start_time": "2022-07-04T04:47:11.854Z"
   },
   {
    "duration": 12,
    "start_time": "2022-07-04T04:52:14.924Z"
   },
   {
    "duration": 944,
    "start_time": "2022-07-04T04:52:42.365Z"
   },
   {
    "duration": 8,
    "start_time": "2022-07-04T04:53:27.605Z"
   },
   {
    "duration": 10,
    "start_time": "2022-07-04T04:54:15.046Z"
   },
   {
    "duration": 11,
    "start_time": "2022-07-04T04:54:33.153Z"
   },
   {
    "duration": 6,
    "start_time": "2022-07-04T04:55:01.370Z"
   },
   {
    "duration": 7,
    "start_time": "2022-07-04T04:55:07.855Z"
   },
   {
    "duration": 10,
    "start_time": "2022-07-04T04:56:03.343Z"
   },
   {
    "duration": 9,
    "start_time": "2022-07-04T04:56:50.084Z"
   },
   {
    "duration": 7,
    "start_time": "2022-07-04T04:56:57.078Z"
   },
   {
    "duration": 8,
    "start_time": "2022-07-04T04:57:04.649Z"
   },
   {
    "duration": 8,
    "start_time": "2022-07-04T05:00:42.252Z"
   },
   {
    "duration": 11,
    "start_time": "2022-07-04T05:00:55.652Z"
   },
   {
    "duration": 9,
    "start_time": "2022-07-04T05:01:30.901Z"
   },
   {
    "duration": 11,
    "start_time": "2022-07-04T05:01:37.152Z"
   },
   {
    "duration": 426,
    "start_time": "2022-07-04T05:32:45.190Z"
   },
   {
    "duration": 217,
    "start_time": "2022-07-04T05:32:45.618Z"
   },
   {
    "duration": 12,
    "start_time": "2022-07-04T05:32:45.837Z"
   },
   {
    "duration": 53,
    "start_time": "2022-07-04T05:32:45.852Z"
   },
   {
    "duration": 7,
    "start_time": "2022-07-04T05:32:45.906Z"
   },
   {
    "duration": 13,
    "start_time": "2022-07-04T05:32:45.915Z"
   },
   {
    "duration": 50,
    "start_time": "2022-07-04T05:32:45.937Z"
   },
   {
    "duration": 11,
    "start_time": "2022-07-04T05:32:45.989Z"
   },
   {
    "duration": 37,
    "start_time": "2022-07-04T05:32:46.001Z"
   },
   {
    "duration": 60,
    "start_time": "2022-07-04T05:32:46.041Z"
   },
   {
    "duration": 23,
    "start_time": "2022-07-04T05:32:46.103Z"
   },
   {
    "duration": 141,
    "start_time": "2022-07-04T05:32:46.133Z"
   },
   {
    "duration": 95,
    "start_time": "2022-07-04T05:32:46.278Z"
   },
   {
    "duration": 111,
    "start_time": "2022-07-04T05:32:46.379Z"
   },
   {
    "duration": 85,
    "start_time": "2022-07-04T05:32:46.492Z"
   },
   {
    "duration": 16,
    "start_time": "2022-07-04T05:32:46.585Z"
   },
   {
    "duration": 66,
    "start_time": "2022-07-04T05:32:46.603Z"
   },
   {
    "duration": 15,
    "start_time": "2022-07-04T05:33:28.064Z"
   },
   {
    "duration": 12,
    "start_time": "2022-07-04T05:34:34.701Z"
   },
   {
    "duration": 3,
    "start_time": "2022-07-04T05:43:05.090Z"
   },
   {
    "duration": 4,
    "start_time": "2022-07-04T05:44:54.368Z"
   },
   {
    "duration": 4,
    "start_time": "2022-07-04T05:47:20.808Z"
   },
   {
    "duration": 4,
    "start_time": "2022-07-04T05:48:22.602Z"
   },
   {
    "duration": 1577,
    "start_time": "2022-07-04T05:53:30.621Z"
   },
   {
    "duration": 1132,
    "start_time": "2022-07-04T05:54:11.373Z"
   },
   {
    "duration": 4,
    "start_time": "2022-07-04T05:54:39.196Z"
   },
   {
    "duration": 74,
    "start_time": "2022-07-04T05:54:57.446Z"
   },
   {
    "duration": 10,
    "start_time": "2022-07-04T05:55:16.254Z"
   },
   {
    "duration": 5,
    "start_time": "2022-07-04T06:00:57.067Z"
   },
   {
    "duration": 4,
    "start_time": "2022-07-04T06:02:13.114Z"
   },
   {
    "duration": 4,
    "start_time": "2022-07-04T06:02:33.464Z"
   },
   {
    "duration": 813,
    "start_time": "2022-07-04T06:02:57.098Z"
   },
   {
    "duration": 5,
    "start_time": "2022-07-04T06:03:08.794Z"
   },
   {
    "duration": 963,
    "start_time": "2022-07-04T06:03:12.203Z"
   },
   {
    "duration": 8,
    "start_time": "2022-07-04T06:03:22.454Z"
   },
   {
    "duration": 135,
    "start_time": "2022-07-04T06:32:08.622Z"
   },
   {
    "duration": 1336,
    "start_time": "2022-07-04T06:32:22.172Z"
   },
   {
    "duration": 1005,
    "start_time": "2022-07-04T06:33:20.052Z"
   },
   {
    "duration": 51,
    "start_time": "2022-07-04T13:58:30.695Z"
   },
   {
    "duration": 435,
    "start_time": "2022-07-04T13:59:48.294Z"
   },
   {
    "duration": 312,
    "start_time": "2022-07-04T13:59:48.730Z"
   },
   {
    "duration": 8,
    "start_time": "2022-07-04T13:59:49.044Z"
   },
   {
    "duration": 54,
    "start_time": "2022-07-04T13:59:49.054Z"
   },
   {
    "duration": 3,
    "start_time": "2022-07-04T13:59:49.110Z"
   },
   {
    "duration": 12,
    "start_time": "2022-07-04T13:59:49.114Z"
   },
   {
    "duration": 15,
    "start_time": "2022-07-04T13:59:49.128Z"
   },
   {
    "duration": 8,
    "start_time": "2022-07-04T13:59:49.145Z"
   },
   {
    "duration": 52,
    "start_time": "2022-07-04T13:59:49.154Z"
   },
   {
    "duration": 24,
    "start_time": "2022-07-04T13:59:49.209Z"
   },
   {
    "duration": 39,
    "start_time": "2022-07-04T13:59:49.234Z"
   },
   {
    "duration": 76,
    "start_time": "2022-07-04T13:59:49.275Z"
   },
   {
    "duration": 101,
    "start_time": "2022-07-04T13:59:49.353Z"
   },
   {
    "duration": 76,
    "start_time": "2022-07-04T13:59:49.455Z"
   },
   {
    "duration": 75,
    "start_time": "2022-07-04T13:59:49.532Z"
   },
   {
    "duration": 13,
    "start_time": "2022-07-04T13:59:49.608Z"
   },
   {
    "duration": 56,
    "start_time": "2022-07-04T13:59:49.623Z"
   },
   {
    "duration": 23,
    "start_time": "2022-07-04T13:59:49.682Z"
   },
   {
    "duration": 13,
    "start_time": "2022-07-04T13:59:49.707Z"
   },
   {
    "duration": 4,
    "start_time": "2022-07-04T13:59:49.722Z"
   },
   {
    "duration": 39,
    "start_time": "2022-07-04T13:59:49.728Z"
   },
   {
    "duration": 64,
    "start_time": "2022-07-04T13:59:49.769Z"
   },
   {
    "duration": 0,
    "start_time": "2022-07-04T13:59:49.835Z"
   },
   {
    "duration": 0,
    "start_time": "2022-07-04T13:59:49.836Z"
   },
   {
    "duration": 0,
    "start_time": "2022-07-04T13:59:49.837Z"
   },
   {
    "duration": 0,
    "start_time": "2022-07-04T13:59:49.838Z"
   },
   {
    "duration": 0,
    "start_time": "2022-07-04T13:59:49.840Z"
   },
   {
    "duration": 0,
    "start_time": "2022-07-04T13:59:49.841Z"
   },
   {
    "duration": 0,
    "start_time": "2022-07-04T13:59:49.842Z"
   },
   {
    "duration": 0,
    "start_time": "2022-07-04T13:59:49.843Z"
   },
   {
    "duration": 0,
    "start_time": "2022-07-04T13:59:49.844Z"
   },
   {
    "duration": 0,
    "start_time": "2022-07-04T13:59:49.845Z"
   },
   {
    "duration": 0,
    "start_time": "2022-07-04T13:59:49.846Z"
   },
   {
    "duration": 0,
    "start_time": "2022-07-04T13:59:49.847Z"
   },
   {
    "duration": 0,
    "start_time": "2022-07-04T13:59:49.849Z"
   },
   {
    "duration": 0,
    "start_time": "2022-07-04T13:59:49.851Z"
   },
   {
    "duration": 0,
    "start_time": "2022-07-04T13:59:49.852Z"
   },
   {
    "duration": 0,
    "start_time": "2022-07-04T13:59:49.853Z"
   },
   {
    "duration": 13,
    "start_time": "2022-07-04T14:00:14.797Z"
   },
   {
    "duration": 102,
    "start_time": "2022-07-04T14:00:25.527Z"
   },
   {
    "duration": 83,
    "start_time": "2022-07-04T14:00:39.632Z"
   },
   {
    "duration": 55,
    "start_time": "2022-07-04T14:00:51.001Z"
   },
   {
    "duration": 16,
    "start_time": "2022-07-04T14:07:12.195Z"
   },
   {
    "duration": 61,
    "start_time": "2022-07-04T14:07:21.263Z"
   },
   {
    "duration": 47,
    "start_time": "2022-07-04T14:08:25.987Z"
   },
   {
    "duration": 4,
    "start_time": "2022-07-04T14:08:30.859Z"
   },
   {
    "duration": 47,
    "start_time": "2022-07-04T14:08:58.681Z"
   },
   {
    "duration": 4,
    "start_time": "2022-07-04T14:09:14.781Z"
   },
   {
    "duration": 6,
    "start_time": "2022-07-04T14:09:26.059Z"
   },
   {
    "duration": 73,
    "start_time": "2022-07-04T14:09:38.356Z"
   },
   {
    "duration": 12,
    "start_time": "2022-07-04T14:10:00.200Z"
   },
   {
    "duration": 82,
    "start_time": "2022-07-04T14:10:15.255Z"
   },
   {
    "duration": 10,
    "start_time": "2022-07-04T14:16:49.087Z"
   },
   {
    "duration": 47,
    "start_time": "2022-07-04T14:17:36.312Z"
   },
   {
    "duration": 65,
    "start_time": "2022-07-04T14:18:00.587Z"
   },
   {
    "duration": 20,
    "start_time": "2022-07-04T14:18:11.360Z"
   },
   {
    "duration": 10,
    "start_time": "2022-07-04T14:18:58.112Z"
   },
   {
    "duration": 10,
    "start_time": "2022-07-04T14:19:53.248Z"
   },
   {
    "duration": 17,
    "start_time": "2022-07-04T14:21:00.861Z"
   },
   {
    "duration": 9,
    "start_time": "2022-07-04T14:21:20.755Z"
   },
   {
    "duration": 10,
    "start_time": "2022-07-04T14:21:41.143Z"
   },
   {
    "duration": 13,
    "start_time": "2022-07-04T14:23:44.741Z"
   },
   {
    "duration": 3,
    "start_time": "2022-07-04T14:26:46.942Z"
   },
   {
    "duration": 9,
    "start_time": "2022-07-04T14:26:55.845Z"
   },
   {
    "duration": 13,
    "start_time": "2022-07-04T14:27:13.390Z"
   },
   {
    "duration": 15,
    "start_time": "2022-07-04T14:27:30.300Z"
   },
   {
    "duration": 22,
    "start_time": "2022-07-04T14:32:24.053Z"
   },
   {
    "duration": 16,
    "start_time": "2022-07-04T14:33:22.648Z"
   },
   {
    "duration": 11,
    "start_time": "2022-07-04T14:33:41.541Z"
   },
   {
    "duration": 17,
    "start_time": "2022-07-04T14:33:50.090Z"
   },
   {
    "duration": 16,
    "start_time": "2022-07-04T14:34:01.997Z"
   },
   {
    "duration": 10,
    "start_time": "2022-07-04T14:42:50.911Z"
   },
   {
    "duration": 16,
    "start_time": "2022-07-04T14:43:04.021Z"
   },
   {
    "duration": 12,
    "start_time": "2022-07-04T14:43:16.316Z"
   },
   {
    "duration": 13,
    "start_time": "2022-07-04T14:43:24.299Z"
   },
   {
    "duration": 5,
    "start_time": "2022-07-04T14:45:04.243Z"
   },
   {
    "duration": 4,
    "start_time": "2022-07-04T14:45:14.898Z"
   },
   {
    "duration": 18,
    "start_time": "2022-07-04T14:45:19.297Z"
   },
   {
    "duration": 18,
    "start_time": "2022-07-04T14:45:24.915Z"
   },
   {
    "duration": 12,
    "start_time": "2022-07-04T14:47:49.688Z"
   },
   {
    "duration": 19,
    "start_time": "2022-07-04T14:47:58.957Z"
   },
   {
    "duration": 11,
    "start_time": "2022-07-04T14:48:13.642Z"
   },
   {
    "duration": 82,
    "start_time": "2022-07-04T14:48:17.648Z"
   },
   {
    "duration": 47,
    "start_time": "2022-07-04T14:48:27.291Z"
   },
   {
    "duration": 67,
    "start_time": "2022-07-04T14:48:37.965Z"
   },
   {
    "duration": 58,
    "start_time": "2022-07-05T03:49:02.501Z"
   },
   {
    "duration": 5,
    "start_time": "2022-07-05T03:49:14.596Z"
   },
   {
    "duration": 7,
    "start_time": "2022-07-05T03:49:24.572Z"
   },
   {
    "duration": 7,
    "start_time": "2022-07-05T03:49:33.775Z"
   },
   {
    "duration": 4,
    "start_time": "2022-07-05T03:51:48.737Z"
   },
   {
    "duration": 7,
    "start_time": "2022-07-05T03:51:54.483Z"
   },
   {
    "duration": 401,
    "start_time": "2022-07-05T03:52:05.599Z"
   },
   {
    "duration": 206,
    "start_time": "2022-07-05T03:52:06.002Z"
   },
   {
    "duration": 8,
    "start_time": "2022-07-05T03:52:06.210Z"
   },
   {
    "duration": 47,
    "start_time": "2022-07-05T03:52:06.220Z"
   },
   {
    "duration": 3,
    "start_time": "2022-07-05T03:52:06.269Z"
   },
   {
    "duration": 11,
    "start_time": "2022-07-05T03:52:06.274Z"
   },
   {
    "duration": 16,
    "start_time": "2022-07-05T03:52:06.286Z"
   },
   {
    "duration": 9,
    "start_time": "2022-07-05T03:52:06.304Z"
   },
   {
    "duration": 47,
    "start_time": "2022-07-05T03:52:06.315Z"
   },
   {
    "duration": 16,
    "start_time": "2022-07-05T03:52:06.365Z"
   },
   {
    "duration": 22,
    "start_time": "2022-07-05T03:52:06.383Z"
   },
   {
    "duration": 76,
    "start_time": "2022-07-05T03:52:06.406Z"
   },
   {
    "duration": 66,
    "start_time": "2022-07-05T03:52:06.484Z"
   },
   {
    "duration": 56,
    "start_time": "2022-07-05T03:52:06.552Z"
   },
   {
    "duration": 59,
    "start_time": "2022-07-05T03:52:06.610Z"
   },
   {
    "duration": 9,
    "start_time": "2022-07-05T03:52:06.671Z"
   },
   {
    "duration": 60,
    "start_time": "2022-07-05T03:52:06.682Z"
   },
   {
    "duration": 11,
    "start_time": "2022-07-05T03:52:06.743Z"
   },
   {
    "duration": 20,
    "start_time": "2022-07-05T03:52:06.756Z"
   },
   {
    "duration": 8,
    "start_time": "2022-07-05T03:52:06.778Z"
   },
   {
    "duration": 97,
    "start_time": "2022-07-05T03:52:06.788Z"
   },
   {
    "duration": 0,
    "start_time": "2022-07-05T03:52:06.887Z"
   },
   {
    "duration": 0,
    "start_time": "2022-07-05T03:52:06.889Z"
   },
   {
    "duration": 0,
    "start_time": "2022-07-05T03:52:06.890Z"
   },
   {
    "duration": 0,
    "start_time": "2022-07-05T03:52:06.891Z"
   },
   {
    "duration": 0,
    "start_time": "2022-07-05T03:52:06.892Z"
   },
   {
    "duration": 0,
    "start_time": "2022-07-05T03:52:06.893Z"
   },
   {
    "duration": 0,
    "start_time": "2022-07-05T03:52:06.894Z"
   },
   {
    "duration": 0,
    "start_time": "2022-07-05T03:52:06.896Z"
   },
   {
    "duration": 0,
    "start_time": "2022-07-05T03:52:06.897Z"
   },
   {
    "duration": 0,
    "start_time": "2022-07-05T03:52:06.898Z"
   },
   {
    "duration": 0,
    "start_time": "2022-07-05T03:52:06.899Z"
   },
   {
    "duration": 0,
    "start_time": "2022-07-05T03:52:06.900Z"
   },
   {
    "duration": 0,
    "start_time": "2022-07-05T03:52:06.927Z"
   },
   {
    "duration": 0,
    "start_time": "2022-07-05T03:52:06.928Z"
   },
   {
    "duration": 0,
    "start_time": "2022-07-05T03:52:06.929Z"
   },
   {
    "duration": 0,
    "start_time": "2022-07-05T03:52:06.929Z"
   },
   {
    "duration": 0,
    "start_time": "2022-07-05T03:52:06.930Z"
   },
   {
    "duration": 25,
    "start_time": "2022-07-05T03:52:13.543Z"
   },
   {
    "duration": 24,
    "start_time": "2022-07-05T03:53:31.055Z"
   },
   {
    "duration": 8,
    "start_time": "2022-07-05T03:53:57.206Z"
   },
   {
    "duration": 25,
    "start_time": "2022-07-05T03:54:16.967Z"
   },
   {
    "duration": 64,
    "start_time": "2022-07-05T03:56:06.810Z"
   },
   {
    "duration": 52,
    "start_time": "2022-07-05T03:56:44.542Z"
   },
   {
    "duration": 70,
    "start_time": "2022-07-05T03:57:03.678Z"
   },
   {
    "duration": 387,
    "start_time": "2022-07-05T03:57:42.914Z"
   },
   {
    "duration": 158,
    "start_time": "2022-07-05T03:57:43.303Z"
   },
   {
    "duration": 8,
    "start_time": "2022-07-05T03:57:43.463Z"
   },
   {
    "duration": 32,
    "start_time": "2022-07-05T03:57:43.472Z"
   },
   {
    "duration": 6,
    "start_time": "2022-07-05T03:57:43.525Z"
   },
   {
    "duration": 19,
    "start_time": "2022-07-05T03:57:43.539Z"
   },
   {
    "duration": 17,
    "start_time": "2022-07-05T03:57:43.561Z"
   },
   {
    "duration": 7,
    "start_time": "2022-07-05T03:57:43.580Z"
   },
   {
    "duration": 44,
    "start_time": "2022-07-05T03:57:43.588Z"
   },
   {
    "duration": 25,
    "start_time": "2022-07-05T03:57:43.635Z"
   },
   {
    "duration": 22,
    "start_time": "2022-07-05T03:57:43.662Z"
   },
   {
    "duration": 76,
    "start_time": "2022-07-05T03:57:43.686Z"
   },
   {
    "duration": 79,
    "start_time": "2022-07-05T03:57:43.763Z"
   },
   {
    "duration": 57,
    "start_time": "2022-07-05T03:57:43.844Z"
   },
   {
    "duration": 53,
    "start_time": "2022-07-05T03:57:43.902Z"
   },
   {
    "duration": 11,
    "start_time": "2022-07-05T03:57:43.957Z"
   },
   {
    "duration": 56,
    "start_time": "2022-07-05T03:57:43.970Z"
   },
   {
    "duration": 14,
    "start_time": "2022-07-05T03:57:44.031Z"
   },
   {
    "duration": 12,
    "start_time": "2022-07-05T03:57:44.047Z"
   },
   {
    "duration": 42,
    "start_time": "2022-07-05T03:57:44.060Z"
   },
   {
    "duration": 0,
    "start_time": "2022-07-05T03:57:44.104Z"
   },
   {
    "duration": 0,
    "start_time": "2022-07-05T03:57:44.104Z"
   },
   {
    "duration": 0,
    "start_time": "2022-07-05T03:57:44.105Z"
   },
   {
    "duration": 0,
    "start_time": "2022-07-05T03:57:44.106Z"
   },
   {
    "duration": 0,
    "start_time": "2022-07-05T03:57:44.108Z"
   },
   {
    "duration": 0,
    "start_time": "2022-07-05T03:57:44.109Z"
   },
   {
    "duration": 0,
    "start_time": "2022-07-05T03:57:44.110Z"
   },
   {
    "duration": 0,
    "start_time": "2022-07-05T03:57:44.111Z"
   },
   {
    "duration": 0,
    "start_time": "2022-07-05T03:57:44.112Z"
   },
   {
    "duration": 0,
    "start_time": "2022-07-05T03:57:44.113Z"
   },
   {
    "duration": 0,
    "start_time": "2022-07-05T03:57:44.114Z"
   },
   {
    "duration": 0,
    "start_time": "2022-07-05T03:57:44.115Z"
   },
   {
    "duration": 0,
    "start_time": "2022-07-05T03:57:44.116Z"
   },
   {
    "duration": 0,
    "start_time": "2022-07-05T03:57:44.117Z"
   },
   {
    "duration": 0,
    "start_time": "2022-07-05T03:57:44.128Z"
   },
   {
    "duration": 0,
    "start_time": "2022-07-05T03:57:44.128Z"
   },
   {
    "duration": 0,
    "start_time": "2022-07-05T03:57:44.129Z"
   },
   {
    "duration": 0,
    "start_time": "2022-07-05T03:57:44.129Z"
   },
   {
    "duration": 61,
    "start_time": "2022-07-05T03:58:03.981Z"
   },
   {
    "duration": 4,
    "start_time": "2022-07-05T03:58:20.517Z"
   },
   {
    "duration": 22,
    "start_time": "2022-07-05T03:58:25.543Z"
   },
   {
    "duration": 21,
    "start_time": "2022-07-05T03:58:47.674Z"
   },
   {
    "duration": 21,
    "start_time": "2022-07-05T03:59:35.077Z"
   },
   {
    "duration": 51,
    "start_time": "2022-07-05T03:59:45.903Z"
   },
   {
    "duration": 43,
    "start_time": "2022-07-05T03:59:59.941Z"
   },
   {
    "duration": 52,
    "start_time": "2022-07-05T04:00:07.993Z"
   },
   {
    "duration": 3,
    "start_time": "2022-07-05T04:00:24.388Z"
   },
   {
    "duration": 52,
    "start_time": "2022-07-05T04:00:28.597Z"
   },
   {
    "duration": 122,
    "start_time": "2022-07-05T04:00:32.644Z"
   },
   {
    "duration": 5,
    "start_time": "2022-07-05T04:00:52.151Z"
   },
   {
    "duration": 21,
    "start_time": "2022-07-05T04:00:56.278Z"
   },
   {
    "duration": 5,
    "start_time": "2022-07-05T04:01:10.356Z"
   },
   {
    "duration": 26,
    "start_time": "2022-07-05T04:01:14.041Z"
   },
   {
    "duration": 4,
    "start_time": "2022-07-05T04:01:39.662Z"
   },
   {
    "duration": 37,
    "start_time": "2022-07-05T04:01:42.611Z"
   },
   {
    "duration": 5,
    "start_time": "2022-07-05T04:02:37.575Z"
   },
   {
    "duration": 17,
    "start_time": "2022-07-05T04:02:41.138Z"
   },
   {
    "duration": 17,
    "start_time": "2022-07-05T04:02:44.596Z"
   },
   {
    "duration": 21,
    "start_time": "2022-07-05T04:02:47.835Z"
   },
   {
    "duration": 47,
    "start_time": "2022-07-05T04:02:50.543Z"
   },
   {
    "duration": 90,
    "start_time": "2022-07-05T04:02:57.067Z"
   },
   {
    "duration": 48,
    "start_time": "2022-07-05T04:03:01.238Z"
   },
   {
    "duration": 63,
    "start_time": "2022-07-05T04:03:36.095Z"
   },
   {
    "duration": 16,
    "start_time": "2022-07-05T04:03:46.286Z"
   },
   {
    "duration": 13,
    "start_time": "2022-07-05T04:03:58.876Z"
   },
   {
    "duration": 16,
    "start_time": "2022-07-05T04:04:20.281Z"
   },
   {
    "duration": 13,
    "start_time": "2022-07-05T04:04:40.587Z"
   },
   {
    "duration": 11,
    "start_time": "2022-07-05T04:07:33.795Z"
   },
   {
    "duration": 19,
    "start_time": "2022-07-05T04:08:41.343Z"
   },
   {
    "duration": 17,
    "start_time": "2022-07-05T04:10:07.818Z"
   },
   {
    "duration": 10,
    "start_time": "2022-07-05T04:10:09.907Z"
   },
   {
    "duration": 9,
    "start_time": "2022-07-05T13:45:30.732Z"
   },
   {
    "duration": 4,
    "start_time": "2022-07-05T13:46:09.813Z"
   },
   {
    "duration": 4,
    "start_time": "2022-07-05T13:47:15.297Z"
   },
   {
    "duration": 5,
    "start_time": "2022-07-05T13:50:51.365Z"
   },
   {
    "duration": 11,
    "start_time": "2022-07-05T13:51:50.801Z"
   },
   {
    "duration": 4,
    "start_time": "2022-07-05T13:52:35.544Z"
   },
   {
    "duration": 5,
    "start_time": "2022-07-05T13:53:58.350Z"
   },
   {
    "duration": 373,
    "start_time": "2022-07-05T13:54:26.734Z"
   },
   {
    "duration": 517,
    "start_time": "2022-07-05T13:54:27.116Z"
   },
   {
    "duration": 9,
    "start_time": "2022-07-05T13:54:27.635Z"
   },
   {
    "duration": 34,
    "start_time": "2022-07-05T13:54:27.646Z"
   },
   {
    "duration": 3,
    "start_time": "2022-07-05T13:54:27.682Z"
   },
   {
    "duration": 17,
    "start_time": "2022-07-05T13:54:27.687Z"
   },
   {
    "duration": 31,
    "start_time": "2022-07-05T13:54:27.705Z"
   },
   {
    "duration": 14,
    "start_time": "2022-07-05T13:54:27.738Z"
   },
   {
    "duration": 28,
    "start_time": "2022-07-05T13:54:27.754Z"
   },
   {
    "duration": 15,
    "start_time": "2022-07-05T13:54:27.784Z"
   },
   {
    "duration": 24,
    "start_time": "2022-07-05T13:54:27.801Z"
   },
   {
    "duration": 59,
    "start_time": "2022-07-05T13:54:27.826Z"
   },
   {
    "duration": 73,
    "start_time": "2022-07-05T13:54:27.887Z"
   },
   {
    "duration": 61,
    "start_time": "2022-07-05T13:54:27.962Z"
   },
   {
    "duration": 31,
    "start_time": "2022-07-05T13:54:28.025Z"
   },
   {
    "duration": 9,
    "start_time": "2022-07-05T13:54:28.058Z"
   },
   {
    "duration": 54,
    "start_time": "2022-07-05T13:54:28.068Z"
   },
   {
    "duration": 10,
    "start_time": "2022-07-05T13:54:28.124Z"
   },
   {
    "duration": 12,
    "start_time": "2022-07-05T13:54:28.135Z"
   },
   {
    "duration": 3,
    "start_time": "2022-07-05T13:54:28.149Z"
   },
   {
    "duration": 21,
    "start_time": "2022-07-05T13:54:28.153Z"
   },
   {
    "duration": 37,
    "start_time": "2022-07-05T13:54:28.175Z"
   },
   {
    "duration": 15,
    "start_time": "2022-07-05T13:54:28.214Z"
   },
   {
    "duration": 12,
    "start_time": "2022-07-05T13:54:28.230Z"
   },
   {
    "duration": 15,
    "start_time": "2022-07-05T13:54:28.243Z"
   },
   {
    "duration": 12,
    "start_time": "2022-07-05T13:54:28.259Z"
   },
   {
    "duration": 11,
    "start_time": "2022-07-05T13:54:28.272Z"
   },
   {
    "duration": 16,
    "start_time": "2022-07-05T13:54:28.303Z"
   },
   {
    "duration": 15,
    "start_time": "2022-07-05T13:54:28.320Z"
   },
   {
    "duration": 10,
    "start_time": "2022-07-05T13:54:28.336Z"
   },
   {
    "duration": 14,
    "start_time": "2022-07-05T13:54:28.347Z"
   },
   {
    "duration": 15,
    "start_time": "2022-07-05T13:54:28.363Z"
   },
   {
    "duration": 8,
    "start_time": "2022-07-05T13:54:28.379Z"
   },
   {
    "duration": 5,
    "start_time": "2022-07-05T13:54:28.388Z"
   },
   {
    "duration": 4,
    "start_time": "2022-07-05T13:54:28.395Z"
   },
   {
    "duration": 12,
    "start_time": "2022-07-05T13:54:28.401Z"
   },
   {
    "duration": 11,
    "start_time": "2022-07-05T13:54:28.414Z"
   },
   {
    "duration": 4,
    "start_time": "2022-07-05T13:54:28.426Z"
   },
   {
    "duration": 4,
    "start_time": "2022-07-05T13:54:34.774Z"
   },
   {
    "duration": 4,
    "start_time": "2022-07-05T13:55:05.021Z"
   },
   {
    "duration": 1298,
    "start_time": "2022-07-05T13:56:55.502Z"
   },
   {
    "duration": 4,
    "start_time": "2022-07-05T13:57:21.969Z"
   },
   {
    "duration": 15,
    "start_time": "2022-07-05T13:57:39.775Z"
   },
   {
    "duration": 7,
    "start_time": "2022-07-05T13:58:16.407Z"
   },
   {
    "duration": 14,
    "start_time": "2022-07-05T13:58:40.155Z"
   },
   {
    "duration": 17,
    "start_time": "2022-07-05T13:59:07.152Z"
   },
   {
    "duration": 12,
    "start_time": "2022-07-05T13:59:22.675Z"
   },
   {
    "duration": 17,
    "start_time": "2022-07-05T14:00:04.613Z"
   },
   {
    "duration": 25,
    "start_time": "2022-07-05T14:00:09.121Z"
   },
   {
    "duration": 20,
    "start_time": "2022-07-05T14:02:42.399Z"
   },
   {
    "duration": 34,
    "start_time": "2022-07-05T14:03:10.581Z"
   },
   {
    "duration": 12,
    "start_time": "2022-07-05T14:03:39.856Z"
   },
   {
    "duration": 30,
    "start_time": "2022-07-05T14:04:18.102Z"
   },
   {
    "duration": 26,
    "start_time": "2022-07-05T14:04:20.312Z"
   },
   {
    "duration": 24,
    "start_time": "2022-07-05T14:04:42.316Z"
   },
   {
    "duration": 25,
    "start_time": "2022-07-05T14:04:56.518Z"
   },
   {
    "duration": 27,
    "start_time": "2022-07-05T14:05:23.610Z"
   },
   {
    "duration": 39,
    "start_time": "2022-07-05T14:05:58.945Z"
   },
   {
    "duration": 7,
    "start_time": "2022-07-05T14:06:24.520Z"
   },
   {
    "duration": 9,
    "start_time": "2022-07-05T14:07:14.380Z"
   },
   {
    "duration": 30,
    "start_time": "2022-07-05T14:07:25.597Z"
   },
   {
    "duration": 6,
    "start_time": "2022-07-05T14:07:29.223Z"
   },
   {
    "duration": 9,
    "start_time": "2022-07-05T14:08:29.017Z"
   },
   {
    "duration": 4,
    "start_time": "2022-07-05T14:08:31.937Z"
   },
   {
    "duration": 4,
    "start_time": "2022-07-05T14:08:55.563Z"
   },
   {
    "duration": 351,
    "start_time": "2022-07-05T14:09:11.567Z"
   },
   {
    "duration": 151,
    "start_time": "2022-07-05T14:09:11.920Z"
   },
   {
    "duration": 8,
    "start_time": "2022-07-05T14:09:12.072Z"
   },
   {
    "duration": 46,
    "start_time": "2022-07-05T14:09:12.081Z"
   },
   {
    "duration": 2,
    "start_time": "2022-07-05T14:09:12.129Z"
   },
   {
    "duration": 9,
    "start_time": "2022-07-05T14:09:12.133Z"
   },
   {
    "duration": 13,
    "start_time": "2022-07-05T14:09:12.144Z"
   },
   {
    "duration": 6,
    "start_time": "2022-07-05T14:09:12.159Z"
   },
   {
    "duration": 40,
    "start_time": "2022-07-05T14:09:12.167Z"
   },
   {
    "duration": 23,
    "start_time": "2022-07-05T14:09:12.215Z"
   },
   {
    "duration": 35,
    "start_time": "2022-07-05T14:09:12.240Z"
   },
   {
    "duration": 88,
    "start_time": "2022-07-05T14:09:12.277Z"
   },
   {
    "duration": 74,
    "start_time": "2022-07-05T14:09:12.367Z"
   },
   {
    "duration": 67,
    "start_time": "2022-07-05T14:09:12.443Z"
   },
   {
    "duration": 33,
    "start_time": "2022-07-05T14:09:12.520Z"
   },
   {
    "duration": 9,
    "start_time": "2022-07-05T14:09:12.555Z"
   },
   {
    "duration": 34,
    "start_time": "2022-07-05T14:09:12.566Z"
   },
   {
    "duration": 16,
    "start_time": "2022-07-05T14:09:12.605Z"
   },
   {
    "duration": 13,
    "start_time": "2022-07-05T14:09:12.623Z"
   },
   {
    "duration": 4,
    "start_time": "2022-07-05T14:09:12.638Z"
   },
   {
    "duration": 23,
    "start_time": "2022-07-05T14:09:12.643Z"
   },
   {
    "duration": 13,
    "start_time": "2022-07-05T14:09:12.667Z"
   },
   {
    "duration": 35,
    "start_time": "2022-07-05T14:09:12.681Z"
   },
   {
    "duration": 14,
    "start_time": "2022-07-05T14:09:12.720Z"
   },
   {
    "duration": 13,
    "start_time": "2022-07-05T14:09:12.736Z"
   },
   {
    "duration": 13,
    "start_time": "2022-07-05T14:09:12.750Z"
   },
   {
    "duration": 10,
    "start_time": "2022-07-05T14:09:12.764Z"
   },
   {
    "duration": 21,
    "start_time": "2022-07-05T14:09:12.807Z"
   },
   {
    "duration": 10,
    "start_time": "2022-07-05T14:09:12.830Z"
   },
   {
    "duration": 5,
    "start_time": "2022-07-05T14:09:12.842Z"
   },
   {
    "duration": 22,
    "start_time": "2022-07-05T14:09:12.848Z"
   },
   {
    "duration": 9,
    "start_time": "2022-07-05T14:09:12.871Z"
   },
   {
    "duration": 31,
    "start_time": "2022-07-05T14:09:12.882Z"
   },
   {
    "duration": 9,
    "start_time": "2022-07-05T14:09:12.915Z"
   },
   {
    "duration": 7,
    "start_time": "2022-07-05T14:09:12.926Z"
   },
   {
    "duration": 10,
    "start_time": "2022-07-05T14:09:12.935Z"
   },
   {
    "duration": 8,
    "start_time": "2022-07-05T14:09:12.946Z"
   },
   {
    "duration": 6,
    "start_time": "2022-07-05T14:09:12.956Z"
   },
   {
    "duration": 4,
    "start_time": "2022-07-05T14:09:19.637Z"
   },
   {
    "duration": 71,
    "start_time": "2022-07-05T14:09:46.749Z"
   },
   {
    "duration": 3,
    "start_time": "2022-07-05T14:09:52.142Z"
   },
   {
    "duration": 4,
    "start_time": "2022-07-05T14:10:56.092Z"
   },
   {
    "duration": 5,
    "start_time": "2022-07-05T14:11:38.489Z"
   },
   {
    "duration": 4,
    "start_time": "2022-07-05T14:12:12.721Z"
   },
   {
    "duration": 4,
    "start_time": "2022-07-05T14:12:16.981Z"
   },
   {
    "duration": 8,
    "start_time": "2022-07-05T14:12:35.585Z"
   },
   {
    "duration": 15,
    "start_time": "2022-07-05T14:12:37.913Z"
   },
   {
    "duration": 7,
    "start_time": "2022-07-05T14:19:46.066Z"
   },
   {
    "duration": 4,
    "start_time": "2022-07-05T14:19:48.626Z"
   },
   {
    "duration": 11,
    "start_time": "2022-07-05T14:20:08.540Z"
   },
   {
    "duration": 4,
    "start_time": "2022-07-05T14:20:14.956Z"
   },
   {
    "duration": 11,
    "start_time": "2022-07-05T14:24:38.731Z"
   },
   {
    "duration": 5,
    "start_time": "2022-07-05T14:24:40.949Z"
   },
   {
    "duration": 398,
    "start_time": "2022-07-05T14:24:56.325Z"
   },
   {
    "duration": 156,
    "start_time": "2022-07-05T14:24:56.725Z"
   },
   {
    "duration": 8,
    "start_time": "2022-07-05T14:24:56.883Z"
   },
   {
    "duration": 37,
    "start_time": "2022-07-05T14:24:56.892Z"
   },
   {
    "duration": 2,
    "start_time": "2022-07-05T14:24:56.931Z"
   },
   {
    "duration": 12,
    "start_time": "2022-07-05T14:24:56.934Z"
   },
   {
    "duration": 19,
    "start_time": "2022-07-05T14:24:56.948Z"
   },
   {
    "duration": 12,
    "start_time": "2022-07-05T14:24:56.969Z"
   },
   {
    "duration": 53,
    "start_time": "2022-07-05T14:24:56.982Z"
   },
   {
    "duration": 22,
    "start_time": "2022-07-05T14:24:57.038Z"
   },
   {
    "duration": 44,
    "start_time": "2022-07-05T14:24:57.062Z"
   },
   {
    "duration": 109,
    "start_time": "2022-07-05T14:24:57.118Z"
   },
   {
    "duration": 98,
    "start_time": "2022-07-05T14:24:57.229Z"
   },
   {
    "duration": 59,
    "start_time": "2022-07-05T14:24:57.329Z"
   },
   {
    "duration": 72,
    "start_time": "2022-07-05T14:24:57.391Z"
   },
   {
    "duration": 13,
    "start_time": "2022-07-05T14:24:57.465Z"
   },
   {
    "duration": 67,
    "start_time": "2022-07-05T14:24:57.480Z"
   },
   {
    "duration": 26,
    "start_time": "2022-07-05T14:24:57.549Z"
   },
   {
    "duration": 30,
    "start_time": "2022-07-05T14:24:57.577Z"
   },
   {
    "duration": 32,
    "start_time": "2022-07-05T14:24:57.609Z"
   },
   {
    "duration": 35,
    "start_time": "2022-07-05T14:24:57.644Z"
   },
   {
    "duration": 33,
    "start_time": "2022-07-05T14:24:57.681Z"
   },
   {
    "duration": 64,
    "start_time": "2022-07-05T14:24:57.716Z"
   },
   {
    "duration": 34,
    "start_time": "2022-07-05T14:24:57.782Z"
   },
   {
    "duration": 44,
    "start_time": "2022-07-05T14:24:57.821Z"
   },
   {
    "duration": 17,
    "start_time": "2022-07-05T14:24:57.868Z"
   },
   {
    "duration": 22,
    "start_time": "2022-07-05T14:24:57.888Z"
   },
   {
    "duration": 57,
    "start_time": "2022-07-05T14:24:57.914Z"
   },
   {
    "duration": 16,
    "start_time": "2022-07-05T14:24:57.973Z"
   },
   {
    "duration": 5,
    "start_time": "2022-07-05T14:24:57.991Z"
   },
   {
    "duration": 46,
    "start_time": "2022-07-05T14:24:57.998Z"
   },
   {
    "duration": 19,
    "start_time": "2022-07-05T14:24:58.045Z"
   },
   {
    "duration": 19,
    "start_time": "2022-07-05T14:24:58.066Z"
   },
   {
    "duration": 23,
    "start_time": "2022-07-05T14:24:58.086Z"
   },
   {
    "duration": 39,
    "start_time": "2022-07-05T14:24:58.112Z"
   },
   {
    "duration": 6,
    "start_time": "2022-07-05T14:24:58.153Z"
   },
   {
    "duration": 11,
    "start_time": "2022-07-05T14:24:58.161Z"
   },
   {
    "duration": 8,
    "start_time": "2022-07-05T14:24:58.174Z"
   },
   {
    "duration": 5,
    "start_time": "2022-07-05T14:25:05.625Z"
   },
   {
    "duration": 11,
    "start_time": "2022-07-05T14:25:44.547Z"
   },
   {
    "duration": 5,
    "start_time": "2022-07-05T14:25:46.590Z"
   },
   {
    "duration": 374,
    "start_time": "2022-07-05T16:20:14.176Z"
   },
   {
    "duration": 168,
    "start_time": "2022-07-05T16:20:14.552Z"
   },
   {
    "duration": 12,
    "start_time": "2022-07-05T16:20:14.730Z"
   },
   {
    "duration": 36,
    "start_time": "2022-07-05T16:20:14.744Z"
   },
   {
    "duration": 10,
    "start_time": "2022-07-05T16:20:14.781Z"
   },
   {
    "duration": 32,
    "start_time": "2022-07-05T16:20:14.793Z"
   },
   {
    "duration": 39,
    "start_time": "2022-07-05T16:20:14.831Z"
   },
   {
    "duration": 10,
    "start_time": "2022-07-05T16:20:14.872Z"
   },
   {
    "duration": 40,
    "start_time": "2022-07-05T16:20:14.884Z"
   },
   {
    "duration": 33,
    "start_time": "2022-07-05T16:20:14.926Z"
   },
   {
    "duration": 21,
    "start_time": "2022-07-05T16:20:14.961Z"
   },
   {
    "duration": 88,
    "start_time": "2022-07-05T16:20:14.984Z"
   },
   {
    "duration": 81,
    "start_time": "2022-07-05T16:20:15.074Z"
   },
   {
    "duration": 67,
    "start_time": "2022-07-05T16:20:15.158Z"
   },
   {
    "duration": 50,
    "start_time": "2022-07-05T16:20:15.229Z"
   },
   {
    "duration": 8,
    "start_time": "2022-07-05T16:20:15.281Z"
   },
   {
    "duration": 54,
    "start_time": "2022-07-05T16:20:15.291Z"
   },
   {
    "duration": 15,
    "start_time": "2022-07-05T16:20:15.347Z"
   },
   {
    "duration": 12,
    "start_time": "2022-07-05T16:20:15.364Z"
   },
   {
    "duration": 3,
    "start_time": "2022-07-05T16:20:15.377Z"
   },
   {
    "duration": 44,
    "start_time": "2022-07-05T16:20:15.382Z"
   },
   {
    "duration": 31,
    "start_time": "2022-07-05T16:20:15.429Z"
   },
   {
    "duration": 16,
    "start_time": "2022-07-05T16:20:15.461Z"
   },
   {
    "duration": 13,
    "start_time": "2022-07-05T16:20:15.478Z"
   },
   {
    "duration": 23,
    "start_time": "2022-07-05T16:20:15.492Z"
   },
   {
    "duration": 40,
    "start_time": "2022-07-05T16:20:15.516Z"
   },
   {
    "duration": 8,
    "start_time": "2022-07-05T16:20:15.558Z"
   },
   {
    "duration": 10,
    "start_time": "2022-07-05T16:20:15.567Z"
   },
   {
    "duration": 8,
    "start_time": "2022-07-05T16:20:15.578Z"
   },
   {
    "duration": 3,
    "start_time": "2022-07-05T16:20:15.588Z"
   },
   {
    "duration": 29,
    "start_time": "2022-07-05T16:20:15.593Z"
   },
   {
    "duration": 30,
    "start_time": "2022-07-05T16:20:15.624Z"
   },
   {
    "duration": 15,
    "start_time": "2022-07-05T16:20:15.655Z"
   },
   {
    "duration": 10,
    "start_time": "2022-07-05T16:20:15.672Z"
   },
   {
    "duration": 8,
    "start_time": "2022-07-05T16:20:15.683Z"
   },
   {
    "duration": 5,
    "start_time": "2022-07-05T16:20:15.692Z"
   },
   {
    "duration": 31,
    "start_time": "2022-07-05T16:20:15.699Z"
   },
   {
    "duration": 15,
    "start_time": "2022-07-05T16:20:15.732Z"
   },
   {
    "duration": 7,
    "start_time": "2022-07-05T16:20:46.471Z"
   },
   {
    "duration": 5,
    "start_time": "2022-07-05T16:20:49.044Z"
   },
   {
    "duration": 7,
    "start_time": "2022-07-05T16:20:59.586Z"
   },
   {
    "duration": 4,
    "start_time": "2022-07-05T16:21:01.676Z"
   },
   {
    "duration": 14,
    "start_time": "2022-07-05T16:21:47.693Z"
   },
   {
    "duration": 12,
    "start_time": "2022-07-05T16:21:50.020Z"
   },
   {
    "duration": 9,
    "start_time": "2022-07-05T16:22:46.289Z"
   },
   {
    "duration": 11,
    "start_time": "2022-07-05T16:22:48.827Z"
   },
   {
    "duration": 1890,
    "start_time": "2022-07-05T16:23:12.594Z"
   },
   {
    "duration": 4,
    "start_time": "2022-07-05T16:23:14.883Z"
   },
   {
    "duration": 5,
    "start_time": "2022-07-05T16:23:30.288Z"
   },
   {
    "duration": 1654,
    "start_time": "2022-07-05T16:24:08.091Z"
   },
   {
    "duration": 1873,
    "start_time": "2022-07-05T16:24:41.579Z"
   },
   {
    "duration": 11,
    "start_time": "2022-07-05T16:25:04.974Z"
   },
   {
    "duration": 10,
    "start_time": "2022-07-05T16:25:14.302Z"
   },
   {
    "duration": 4,
    "start_time": "2022-07-05T16:25:51.843Z"
   },
   {
    "duration": 18,
    "start_time": "2022-07-05T16:26:19.631Z"
   },
   {
    "duration": 4,
    "start_time": "2022-07-05T16:26:22.674Z"
   },
   {
    "duration": 383,
    "start_time": "2022-07-05T16:26:29.440Z"
   },
   {
    "duration": 196,
    "start_time": "2022-07-05T16:26:29.825Z"
   },
   {
    "duration": 12,
    "start_time": "2022-07-05T16:26:30.022Z"
   },
   {
    "duration": 44,
    "start_time": "2022-07-05T16:26:30.035Z"
   },
   {
    "duration": 2,
    "start_time": "2022-07-05T16:26:30.082Z"
   },
   {
    "duration": 12,
    "start_time": "2022-07-05T16:26:30.087Z"
   },
   {
    "duration": 53,
    "start_time": "2022-07-05T16:26:30.101Z"
   },
   {
    "duration": 11,
    "start_time": "2022-07-05T16:26:30.156Z"
   },
   {
    "duration": 28,
    "start_time": "2022-07-05T16:26:30.168Z"
   },
   {
    "duration": 29,
    "start_time": "2022-07-05T16:26:30.198Z"
   },
   {
    "duration": 46,
    "start_time": "2022-07-05T16:26:30.233Z"
   },
   {
    "duration": 72,
    "start_time": "2022-07-05T16:26:30.281Z"
   },
   {
    "duration": 77,
    "start_time": "2022-07-05T16:26:30.355Z"
   },
   {
    "duration": 75,
    "start_time": "2022-07-05T16:26:30.436Z"
   },
   {
    "duration": 51,
    "start_time": "2022-07-05T16:26:30.512Z"
   },
   {
    "duration": 12,
    "start_time": "2022-07-05T16:26:30.564Z"
   },
   {
    "duration": 53,
    "start_time": "2022-07-05T16:26:30.578Z"
   },
   {
    "duration": 27,
    "start_time": "2022-07-05T16:26:30.632Z"
   },
   {
    "duration": 11,
    "start_time": "2022-07-05T16:26:30.661Z"
   },
   {
    "duration": 4,
    "start_time": "2022-07-05T16:26:30.673Z"
   },
   {
    "duration": 21,
    "start_time": "2022-07-05T16:26:30.678Z"
   },
   {
    "duration": 16,
    "start_time": "2022-07-05T16:26:30.700Z"
   },
   {
    "duration": 45,
    "start_time": "2022-07-05T16:26:30.717Z"
   },
   {
    "duration": 13,
    "start_time": "2022-07-05T16:26:30.763Z"
   },
   {
    "duration": 23,
    "start_time": "2022-07-05T16:26:30.777Z"
   },
   {
    "duration": 31,
    "start_time": "2022-07-05T16:26:30.806Z"
   },
   {
    "duration": 18,
    "start_time": "2022-07-05T16:26:30.844Z"
   },
   {
    "duration": 23,
    "start_time": "2022-07-05T16:26:30.863Z"
   },
   {
    "duration": 18,
    "start_time": "2022-07-05T16:26:30.887Z"
   },
   {
    "duration": 41,
    "start_time": "2022-07-05T16:26:30.906Z"
   },
   {
    "duration": 31,
    "start_time": "2022-07-05T16:26:30.948Z"
   },
   {
    "duration": 10,
    "start_time": "2022-07-05T16:26:30.980Z"
   },
   {
    "duration": 25,
    "start_time": "2022-07-05T16:26:30.991Z"
   },
   {
    "duration": 36,
    "start_time": "2022-07-05T16:26:31.017Z"
   },
   {
    "duration": 23,
    "start_time": "2022-07-05T16:26:31.054Z"
   },
   {
    "duration": 4,
    "start_time": "2022-07-05T16:26:31.078Z"
   },
   {
    "duration": 8,
    "start_time": "2022-07-05T16:26:31.083Z"
   },
   {
    "duration": 4,
    "start_time": "2022-07-05T16:26:31.092Z"
   },
   {
    "duration": 13,
    "start_time": "2022-07-05T16:26:36.697Z"
   },
   {
    "duration": 9,
    "start_time": "2022-07-05T16:27:00.243Z"
   },
   {
    "duration": 4,
    "start_time": "2022-07-05T16:27:05.549Z"
   },
   {
    "duration": 8,
    "start_time": "2022-07-05T16:28:15.629Z"
   },
   {
    "duration": 9,
    "start_time": "2022-07-05T16:28:29.729Z"
   },
   {
    "duration": 53,
    "start_time": "2022-07-20T12:56:39.590Z"
   },
   {
    "duration": 420,
    "start_time": "2022-07-20T12:56:47.873Z"
   },
   {
    "duration": 1303,
    "start_time": "2022-07-20T12:56:48.295Z"
   },
   {
    "duration": 11,
    "start_time": "2022-07-20T12:56:49.600Z"
   },
   {
    "duration": 34,
    "start_time": "2022-07-20T12:56:49.614Z"
   },
   {
    "duration": 3,
    "start_time": "2022-07-20T12:56:49.650Z"
   },
   {
    "duration": 13,
    "start_time": "2022-07-20T12:56:49.655Z"
   },
   {
    "duration": 16,
    "start_time": "2022-07-20T12:56:49.670Z"
   },
   {
    "duration": 10,
    "start_time": "2022-07-20T12:56:49.711Z"
   },
   {
    "duration": 32,
    "start_time": "2022-07-20T12:56:49.723Z"
   },
   {
    "duration": 19,
    "start_time": "2022-07-20T12:56:49.758Z"
   },
   {
    "duration": 36,
    "start_time": "2022-07-20T12:56:49.779Z"
   },
   {
    "duration": 74,
    "start_time": "2022-07-20T12:56:49.817Z"
   },
   {
    "duration": 87,
    "start_time": "2022-07-20T12:56:49.893Z"
   },
   {
    "duration": 83,
    "start_time": "2022-07-20T12:56:49.982Z"
   },
   {
    "duration": 52,
    "start_time": "2022-07-20T12:56:50.067Z"
   },
   {
    "duration": 16,
    "start_time": "2022-07-20T12:56:50.121Z"
   },
   {
    "duration": 81,
    "start_time": "2022-07-20T12:56:50.139Z"
   },
   {
    "duration": 15,
    "start_time": "2022-07-20T12:56:50.222Z"
   },
   {
    "duration": 14,
    "start_time": "2022-07-20T12:56:50.239Z"
   },
   {
    "duration": 3,
    "start_time": "2022-07-20T12:56:50.255Z"
   },
   {
    "duration": 52,
    "start_time": "2022-07-20T12:56:50.260Z"
   },
   {
    "duration": 18,
    "start_time": "2022-07-20T12:56:50.314Z"
   },
   {
    "duration": 18,
    "start_time": "2022-07-20T12:56:50.334Z"
   },
   {
    "duration": 15,
    "start_time": "2022-07-20T12:56:50.354Z"
   },
   {
    "duration": 49,
    "start_time": "2022-07-20T12:56:50.371Z"
   },
   {
    "duration": 19,
    "start_time": "2022-07-20T12:56:50.423Z"
   },
   {
    "duration": 10,
    "start_time": "2022-07-20T12:56:50.444Z"
   },
   {
    "duration": 19,
    "start_time": "2022-07-20T12:56:50.459Z"
   },
   {
    "duration": 38,
    "start_time": "2022-07-20T12:56:50.480Z"
   },
   {
    "duration": 5,
    "start_time": "2022-07-20T12:56:50.520Z"
   },
   {
    "duration": 27,
    "start_time": "2022-07-20T12:56:50.527Z"
   },
   {
    "duration": 12,
    "start_time": "2022-07-20T12:56:50.556Z"
   },
   {
    "duration": 47,
    "start_time": "2022-07-20T12:56:50.570Z"
   },
   {
    "duration": 13,
    "start_time": "2022-07-20T12:56:50.619Z"
   },
   {
    "duration": 9,
    "start_time": "2022-07-20T12:56:50.634Z"
   },
   {
    "duration": 6,
    "start_time": "2022-07-20T12:56:50.644Z"
   },
   {
    "duration": 9,
    "start_time": "2022-07-20T12:56:50.652Z"
   },
   {
    "duration": 7,
    "start_time": "2022-07-20T12:56:50.663Z"
   },
   {
    "duration": 715,
    "start_time": "2022-07-20T12:56:55.881Z"
   }
  ],
  "colab": {
   "collapsed_sections": [
    "E0vqbgi9ay0H",
    "VUC88oWjTJw2"
   ],
   "name": "automatization_template_upd4.ipynb",
   "provenance": []
  },
  "kernelspec": {
   "display_name": "Python 3 (ipykernel)",
   "language": "python",
   "name": "python3"
  },
  "language_info": {
   "codemirror_mode": {
    "name": "ipython",
    "version": 3
   },
   "file_extension": ".py",
   "mimetype": "text/x-python",
   "name": "python",
   "nbconvert_exporter": "python",
   "pygments_lexer": "ipython3",
   "version": "3.9.13"
  },
  "toc": {
   "base_numbering": 1,
   "nav_menu": {
    "height": "215px",
    "width": "403px"
   },
   "number_sections": true,
   "sideBar": true,
   "skip_h1_title": true,
   "title_cell": "Table of Contents",
   "title_sidebar": "Contents",
   "toc_cell": false,
   "toc_position": {
    "height": "calc(100% - 180px)",
    "left": "10px",
    "top": "150px",
    "width": "285.825px"
   },
   "toc_section_display": true,
   "toc_window_display": false
  }
 },
 "nbformat": 4,
 "nbformat_minor": 1
}
