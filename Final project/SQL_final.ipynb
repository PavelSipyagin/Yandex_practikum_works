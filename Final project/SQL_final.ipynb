{
 "cells": [
  {
   "cell_type": "markdown",
   "id": "979924c9",
   "metadata": {},
   "source": [
    "# ПРОЕКТ АНАЛИЗ БАЗЫ ДАННЫХ ПРИ ПОМОЩИ SQL ЗАПРОСОВ"
   ]
  },
  {
   "cell_type": "markdown",
   "id": "3e6aa1d5",
   "metadata": {},
   "source": [
    "# Цели исследования"
   ]
  },
  {
   "cell_type": "markdown",
   "id": "a81a82b7",
   "metadata": {},
   "source": [
    "Анализ базы данных с информацией о книгах, издательствах, авторах и пользовательских обзорах на книги с целью формулирования ценного предложения для нового продукта компании по чтению книг по подписке"
   ]
  },
  {
   "cell_type": "markdown",
   "id": "897e9ae9",
   "metadata": {},
   "source": [
    "# Импорт необходимых библиотек и подключение к базе данных"
   ]
  },
  {
   "cell_type": "code",
   "execution_count": 1,
   "id": "ed75745c",
   "metadata": {},
   "outputs": [],
   "source": [
    "# импортируем библиотеки\n",
    "import pandas as pd\n",
    "from sqlalchemy import create_engine\n",
    "# устанавливаем параметры\n",
    "db_config = {'user': 'praktikum_student', # имя пользователя\n",
    "              'pwd': 'Sdf4$2;d-d30pp', # пароль\n",
    "              'host': 'rc1b-wcoijxj3yxfsf3fs.mdb.yandexcloud.net',\n",
    "              'port': 6432, # порт подключения\n",
    "              'db': 'data-analyst-final-project-db'} # название базы данных\n",
    "\n",
    "connection_string = 'postgresql://{}:{}@{}:{}/{}'.format(db_config['user'],\n",
    "                                                         db_config['pwd'],\n",
    "                                                         db_config['host'], db_config['port'],\n",
    "                                                         db_config['db'])\n",
    "\n",
    "# сохраняем коннектор\n",
    "\n",
    "engine = create_engine(connection_string, connect_args={'sslmode':'require'})"
   ]
  },
  {
   "cell_type": "markdown",
   "id": "58486cc0",
   "metadata": {},
   "source": [
    "# Знакомство с данными"
   ]
  },
  {
   "cell_type": "markdown",
   "id": "32f913ec",
   "metadata": {},
   "source": [
    "Посмотрим на таблицу с данными о книгах - books\n",
    "\n",
    "Она содержит: \n",
    "\n",
    "book_id — идентификатор книги\n",
    "\n",
    "author_id — идентификатор автора\n",
    "\n",
    "title — название книги\n",
    "\n",
    "num_pages — количество страниц\n",
    "\n",
    "publication_date — дата публикации книги\n",
    "\n",
    "publisher_id — идентификатор издателя\n",
    "\n",
    "Выведем первые 5 строк таблицы"
   ]
  },
  {
   "cell_type": "code",
   "execution_count": 2,
   "id": "cb48a156",
   "metadata": {},
   "outputs": [
    {
     "data": {
      "text/html": [
       "<div>\n",
       "<style scoped>\n",
       "    .dataframe tbody tr th:only-of-type {\n",
       "        vertical-align: middle;\n",
       "    }\n",
       "\n",
       "    .dataframe tbody tr th {\n",
       "        vertical-align: top;\n",
       "    }\n",
       "\n",
       "    .dataframe thead th {\n",
       "        text-align: right;\n",
       "    }\n",
       "</style>\n",
       "<table border=\"1\" class=\"dataframe\">\n",
       "  <thead>\n",
       "    <tr style=\"text-align: right;\">\n",
       "      <th></th>\n",
       "      <th>book_id</th>\n",
       "      <th>author_id</th>\n",
       "      <th>title</th>\n",
       "      <th>num_pages</th>\n",
       "      <th>publication_date</th>\n",
       "      <th>publisher_id</th>\n",
       "    </tr>\n",
       "  </thead>\n",
       "  <tbody>\n",
       "    <tr>\n",
       "      <th>0</th>\n",
       "      <td>1</td>\n",
       "      <td>546</td>\n",
       "      <td>'Salem's Lot</td>\n",
       "      <td>594</td>\n",
       "      <td>2005-11-01</td>\n",
       "      <td>93</td>\n",
       "    </tr>\n",
       "    <tr>\n",
       "      <th>1</th>\n",
       "      <td>2</td>\n",
       "      <td>465</td>\n",
       "      <td>1 000 Places to See Before You Die</td>\n",
       "      <td>992</td>\n",
       "      <td>2003-05-22</td>\n",
       "      <td>336</td>\n",
       "    </tr>\n",
       "    <tr>\n",
       "      <th>2</th>\n",
       "      <td>3</td>\n",
       "      <td>407</td>\n",
       "      <td>13 Little Blue Envelopes (Little Blue Envelope...</td>\n",
       "      <td>322</td>\n",
       "      <td>2010-12-21</td>\n",
       "      <td>135</td>\n",
       "    </tr>\n",
       "    <tr>\n",
       "      <th>3</th>\n",
       "      <td>4</td>\n",
       "      <td>82</td>\n",
       "      <td>1491: New Revelations of the Americas Before C...</td>\n",
       "      <td>541</td>\n",
       "      <td>2006-10-10</td>\n",
       "      <td>309</td>\n",
       "    </tr>\n",
       "    <tr>\n",
       "      <th>4</th>\n",
       "      <td>5</td>\n",
       "      <td>125</td>\n",
       "      <td>1776</td>\n",
       "      <td>386</td>\n",
       "      <td>2006-07-04</td>\n",
       "      <td>268</td>\n",
       "    </tr>\n",
       "  </tbody>\n",
       "</table>\n",
       "</div>"
      ],
      "text/plain": [
       "   book_id  author_id                                              title  \\\n",
       "0        1        546                                       'Salem's Lot   \n",
       "1        2        465                 1 000 Places to See Before You Die   \n",
       "2        3        407  13 Little Blue Envelopes (Little Blue Envelope...   \n",
       "3        4         82  1491: New Revelations of the Americas Before C...   \n",
       "4        5        125                                               1776   \n",
       "\n",
       "   num_pages publication_date  publisher_id  \n",
       "0        594       2005-11-01            93  \n",
       "1        992       2003-05-22           336  \n",
       "2        322       2010-12-21           135  \n",
       "3        541       2006-10-10           309  \n",
       "4        386       2006-07-04           268  "
      ]
     },
     "execution_count": 2,
     "metadata": {},
     "output_type": "execute_result"
    }
   ],
   "source": [
    "query = '''\n",
    "            SELECT * \n",
    "            FROM books\n",
    "        '''\n",
    "books = pd.io.sql.read_sql(query, con = engine)\n",
    "books.head()"
   ]
  },
  {
   "cell_type": "markdown",
   "id": "a90fb59f",
   "metadata": {},
   "source": [
    "Теперь взглянем на таблицу с данными об авторах - authors\n",
    "\n",
    "Она содержит:\n",
    "\n",
    "author_id — идентификатор автора\n",
    "\n",
    "author — имя автора\n",
    "\n",
    "Выведем первые 5 строк таблицы"
   ]
  },
  {
   "cell_type": "code",
   "execution_count": 3,
   "id": "cec5b97c",
   "metadata": {},
   "outputs": [
    {
     "data": {
      "text/html": [
       "<div>\n",
       "<style scoped>\n",
       "    .dataframe tbody tr th:only-of-type {\n",
       "        vertical-align: middle;\n",
       "    }\n",
       "\n",
       "    .dataframe tbody tr th {\n",
       "        vertical-align: top;\n",
       "    }\n",
       "\n",
       "    .dataframe thead th {\n",
       "        text-align: right;\n",
       "    }\n",
       "</style>\n",
       "<table border=\"1\" class=\"dataframe\">\n",
       "  <thead>\n",
       "    <tr style=\"text-align: right;\">\n",
       "      <th></th>\n",
       "      <th>author_id</th>\n",
       "      <th>author</th>\n",
       "    </tr>\n",
       "  </thead>\n",
       "  <tbody>\n",
       "    <tr>\n",
       "      <th>0</th>\n",
       "      <td>1</td>\n",
       "      <td>A.S. Byatt</td>\n",
       "    </tr>\n",
       "    <tr>\n",
       "      <th>1</th>\n",
       "      <td>2</td>\n",
       "      <td>Aesop/Laura Harris/Laura Gibbs</td>\n",
       "    </tr>\n",
       "    <tr>\n",
       "      <th>2</th>\n",
       "      <td>3</td>\n",
       "      <td>Agatha Christie</td>\n",
       "    </tr>\n",
       "    <tr>\n",
       "      <th>3</th>\n",
       "      <td>4</td>\n",
       "      <td>Alan Brennert</td>\n",
       "    </tr>\n",
       "    <tr>\n",
       "      <th>4</th>\n",
       "      <td>5</td>\n",
       "      <td>Alan Moore/David   Lloyd</td>\n",
       "    </tr>\n",
       "  </tbody>\n",
       "</table>\n",
       "</div>"
      ],
      "text/plain": [
       "   author_id                          author\n",
       "0          1                      A.S. Byatt\n",
       "1          2  Aesop/Laura Harris/Laura Gibbs\n",
       "2          3                 Agatha Christie\n",
       "3          4                   Alan Brennert\n",
       "4          5        Alan Moore/David   Lloyd"
      ]
     },
     "execution_count": 3,
     "metadata": {},
     "output_type": "execute_result"
    }
   ],
   "source": [
    "query = '''\n",
    "            SELECT * \n",
    "            FROM authors\n",
    "        '''\n",
    "authors = pd.io.sql.read_sql(query, con = engine)\n",
    "authors.head()"
   ]
  },
  {
   "cell_type": "markdown",
   "id": "32f1af58",
   "metadata": {},
   "source": [
    "Изучим таблицу с данными об издательствах - publishers\n",
    "\n",
    "Она содержит:\n",
    "\n",
    "publisher_id — идентификатор издательства\n",
    "\n",
    "publisher — название издательства\n",
    "\n",
    "Выведем первые 5 строк таблицы"
   ]
  },
  {
   "cell_type": "code",
   "execution_count": 4,
   "id": "103b602b",
   "metadata": {},
   "outputs": [
    {
     "data": {
      "text/html": [
       "<div>\n",
       "<style scoped>\n",
       "    .dataframe tbody tr th:only-of-type {\n",
       "        vertical-align: middle;\n",
       "    }\n",
       "\n",
       "    .dataframe tbody tr th {\n",
       "        vertical-align: top;\n",
       "    }\n",
       "\n",
       "    .dataframe thead th {\n",
       "        text-align: right;\n",
       "    }\n",
       "</style>\n",
       "<table border=\"1\" class=\"dataframe\">\n",
       "  <thead>\n",
       "    <tr style=\"text-align: right;\">\n",
       "      <th></th>\n",
       "      <th>publisher_id</th>\n",
       "      <th>publisher</th>\n",
       "    </tr>\n",
       "  </thead>\n",
       "  <tbody>\n",
       "    <tr>\n",
       "      <th>0</th>\n",
       "      <td>1</td>\n",
       "      <td>Ace</td>\n",
       "    </tr>\n",
       "    <tr>\n",
       "      <th>1</th>\n",
       "      <td>2</td>\n",
       "      <td>Ace Book</td>\n",
       "    </tr>\n",
       "    <tr>\n",
       "      <th>2</th>\n",
       "      <td>3</td>\n",
       "      <td>Ace Books</td>\n",
       "    </tr>\n",
       "    <tr>\n",
       "      <th>3</th>\n",
       "      <td>4</td>\n",
       "      <td>Ace Hardcover</td>\n",
       "    </tr>\n",
       "    <tr>\n",
       "      <th>4</th>\n",
       "      <td>5</td>\n",
       "      <td>Addison Wesley Publishing Company</td>\n",
       "    </tr>\n",
       "  </tbody>\n",
       "</table>\n",
       "</div>"
      ],
      "text/plain": [
       "   publisher_id                          publisher\n",
       "0             1                                Ace\n",
       "1             2                           Ace Book\n",
       "2             3                          Ace Books\n",
       "3             4                      Ace Hardcover\n",
       "4             5  Addison Wesley Publishing Company"
      ]
     },
     "execution_count": 4,
     "metadata": {},
     "output_type": "execute_result"
    }
   ],
   "source": [
    "query = '''\n",
    "            SELECT * \n",
    "            FROM publishers\n",
    "        '''\n",
    "publishers = pd.io.sql.read_sql(query, con = engine)\n",
    "publishers.head()"
   ]
  },
  {
   "cell_type": "markdown",
   "id": "77bf1356",
   "metadata": {},
   "source": [
    "Следующая таблица - с данными о пользовательских оценках книг - ratings\n",
    "\n",
    "Она содержит:\n",
    "\n",
    "rating_id — идентификатор оценки\n",
    "\n",
    "book_id — идентификатор книги\n",
    "\n",
    "username — имя пользователя, оставившего оценку\n",
    "\n",
    "rating — оценка книги\n",
    "\n",
    "Выведем первые 5 строк таблицы"
   ]
  },
  {
   "cell_type": "code",
   "execution_count": 5,
   "id": "305115a6",
   "metadata": {},
   "outputs": [
    {
     "data": {
      "text/html": [
       "<div>\n",
       "<style scoped>\n",
       "    .dataframe tbody tr th:only-of-type {\n",
       "        vertical-align: middle;\n",
       "    }\n",
       "\n",
       "    .dataframe tbody tr th {\n",
       "        vertical-align: top;\n",
       "    }\n",
       "\n",
       "    .dataframe thead th {\n",
       "        text-align: right;\n",
       "    }\n",
       "</style>\n",
       "<table border=\"1\" class=\"dataframe\">\n",
       "  <thead>\n",
       "    <tr style=\"text-align: right;\">\n",
       "      <th></th>\n",
       "      <th>rating_id</th>\n",
       "      <th>book_id</th>\n",
       "      <th>username</th>\n",
       "      <th>rating</th>\n",
       "    </tr>\n",
       "  </thead>\n",
       "  <tbody>\n",
       "    <tr>\n",
       "      <th>0</th>\n",
       "      <td>1</td>\n",
       "      <td>1</td>\n",
       "      <td>ryanfranco</td>\n",
       "      <td>4</td>\n",
       "    </tr>\n",
       "    <tr>\n",
       "      <th>1</th>\n",
       "      <td>2</td>\n",
       "      <td>1</td>\n",
       "      <td>grantpatricia</td>\n",
       "      <td>2</td>\n",
       "    </tr>\n",
       "    <tr>\n",
       "      <th>2</th>\n",
       "      <td>3</td>\n",
       "      <td>1</td>\n",
       "      <td>brandtandrea</td>\n",
       "      <td>5</td>\n",
       "    </tr>\n",
       "    <tr>\n",
       "      <th>3</th>\n",
       "      <td>4</td>\n",
       "      <td>2</td>\n",
       "      <td>lorichen</td>\n",
       "      <td>3</td>\n",
       "    </tr>\n",
       "    <tr>\n",
       "      <th>4</th>\n",
       "      <td>5</td>\n",
       "      <td>2</td>\n",
       "      <td>mariokeller</td>\n",
       "      <td>2</td>\n",
       "    </tr>\n",
       "  </tbody>\n",
       "</table>\n",
       "</div>"
      ],
      "text/plain": [
       "   rating_id  book_id       username  rating\n",
       "0          1        1     ryanfranco       4\n",
       "1          2        1  grantpatricia       2\n",
       "2          3        1   brandtandrea       5\n",
       "3          4        2       lorichen       3\n",
       "4          5        2    mariokeller       2"
      ]
     },
     "execution_count": 5,
     "metadata": {},
     "output_type": "execute_result"
    }
   ],
   "source": [
    "query = '''\n",
    "            SELECT * \n",
    "            FROM ratings\n",
    "        '''\n",
    "ratings = pd.io.sql.read_sql(query, con = engine)\n",
    "ratings.head()"
   ]
  },
  {
   "cell_type": "markdown",
   "id": "4ee1f57e",
   "metadata": {},
   "source": [
    "Последняя таблица - reviews - содержит данные о пользовательских обзорах на книги\n",
    "\n",
    "Она содержит:\n",
    "\n",
    "review_id — идентификатор обзора\n",
    "\n",
    "book_id — идентификатор книги\n",
    "\n",
    "username — имя пользователя, написавшего обзор\n",
    "\n",
    "text — текст обзора\n",
    "\n",
    "Выведем первые 5 строк таблицы"
   ]
  },
  {
   "cell_type": "code",
   "execution_count": 6,
   "id": "d7e8a4af",
   "metadata": {},
   "outputs": [
    {
     "data": {
      "text/html": [
       "<div>\n",
       "<style scoped>\n",
       "    .dataframe tbody tr th:only-of-type {\n",
       "        vertical-align: middle;\n",
       "    }\n",
       "\n",
       "    .dataframe tbody tr th {\n",
       "        vertical-align: top;\n",
       "    }\n",
       "\n",
       "    .dataframe thead th {\n",
       "        text-align: right;\n",
       "    }\n",
       "</style>\n",
       "<table border=\"1\" class=\"dataframe\">\n",
       "  <thead>\n",
       "    <tr style=\"text-align: right;\">\n",
       "      <th></th>\n",
       "      <th>review_id</th>\n",
       "      <th>book_id</th>\n",
       "      <th>username</th>\n",
       "      <th>text</th>\n",
       "    </tr>\n",
       "  </thead>\n",
       "  <tbody>\n",
       "    <tr>\n",
       "      <th>0</th>\n",
       "      <td>1</td>\n",
       "      <td>1</td>\n",
       "      <td>brandtandrea</td>\n",
       "      <td>Mention society tell send professor analysis. ...</td>\n",
       "    </tr>\n",
       "    <tr>\n",
       "      <th>1</th>\n",
       "      <td>2</td>\n",
       "      <td>1</td>\n",
       "      <td>ryanfranco</td>\n",
       "      <td>Foot glass pretty audience hit themselves. Amo...</td>\n",
       "    </tr>\n",
       "    <tr>\n",
       "      <th>2</th>\n",
       "      <td>3</td>\n",
       "      <td>2</td>\n",
       "      <td>lorichen</td>\n",
       "      <td>Listen treat keep worry. Miss husband tax but ...</td>\n",
       "    </tr>\n",
       "    <tr>\n",
       "      <th>3</th>\n",
       "      <td>4</td>\n",
       "      <td>3</td>\n",
       "      <td>johnsonamanda</td>\n",
       "      <td>Finally month interesting blue could nature cu...</td>\n",
       "    </tr>\n",
       "    <tr>\n",
       "      <th>4</th>\n",
       "      <td>5</td>\n",
       "      <td>3</td>\n",
       "      <td>scotttamara</td>\n",
       "      <td>Nation purpose heavy give wait song will. List...</td>\n",
       "    </tr>\n",
       "  </tbody>\n",
       "</table>\n",
       "</div>"
      ],
      "text/plain": [
       "   review_id  book_id       username  \\\n",
       "0          1        1   brandtandrea   \n",
       "1          2        1     ryanfranco   \n",
       "2          3        2       lorichen   \n",
       "3          4        3  johnsonamanda   \n",
       "4          5        3    scotttamara   \n",
       "\n",
       "                                                text  \n",
       "0  Mention society tell send professor analysis. ...  \n",
       "1  Foot glass pretty audience hit themselves. Amo...  \n",
       "2  Listen treat keep worry. Miss husband tax but ...  \n",
       "3  Finally month interesting blue could nature cu...  \n",
       "4  Nation purpose heavy give wait song will. List...  "
      ]
     },
     "execution_count": 6,
     "metadata": {},
     "output_type": "execute_result"
    }
   ],
   "source": [
    "query = '''\n",
    "            SELECT * \n",
    "            FROM reviews\n",
    "        '''\n",
    "reviews = pd.io.sql.read_sql(query, con = engine)\n",
    "reviews.head()"
   ]
  },
  {
   "cell_type": "markdown",
   "id": "ab60534f",
   "metadata": {},
   "source": [
    "Итак, мы подключились к базе данных, выгрузили 5 таблиц и готовы отвечать на поставленные вопросы"
   ]
  },
  {
   "cell_type": "markdown",
   "id": "654d8774",
   "metadata": {},
   "source": [
    "# Посчитайте, сколько книг вышло после 1 января 2000 года"
   ]
  },
  {
   "cell_type": "code",
   "execution_count": 7,
   "id": "fc897189",
   "metadata": {},
   "outputs": [
    {
     "data": {
      "text/html": [
       "<div>\n",
       "<style scoped>\n",
       "    .dataframe tbody tr th:only-of-type {\n",
       "        vertical-align: middle;\n",
       "    }\n",
       "\n",
       "    .dataframe tbody tr th {\n",
       "        vertical-align: top;\n",
       "    }\n",
       "\n",
       "    .dataframe thead th {\n",
       "        text-align: right;\n",
       "    }\n",
       "</style>\n",
       "<table border=\"1\" class=\"dataframe\">\n",
       "  <thead>\n",
       "    <tr style=\"text-align: right;\">\n",
       "      <th></th>\n",
       "      <th>count</th>\n",
       "    </tr>\n",
       "  </thead>\n",
       "  <tbody>\n",
       "    <tr>\n",
       "      <th>0</th>\n",
       "      <td>819</td>\n",
       "    </tr>\n",
       "  </tbody>\n",
       "</table>\n",
       "</div>"
      ],
      "text/plain": [
       "   count\n",
       "0    819"
      ]
     },
     "execution_count": 7,
     "metadata": {},
     "output_type": "execute_result"
    }
   ],
   "source": [
    "query = '''\n",
    "            SELECT COUNT(book_id)\n",
    "            FROM books\n",
    "            WHERE publication_date>'01-01-2000'\n",
    "        '''\n",
    "pd.io.sql.read_sql(query, con = engine)"
   ]
  },
  {
   "cell_type": "markdown",
   "id": "b1dc2c53",
   "metadata": {},
   "source": [
    "Как мы видим, после 1 января 2000 года вышло в свет 819 книг"
   ]
  },
  {
   "cell_type": "markdown",
   "id": "b1b9fc57",
   "metadata": {},
   "source": [
    "# Для каждой книги посчитайте количество обзоров и среднюю оценку"
   ]
  },
  {
   "cell_type": "code",
   "execution_count": 8,
   "id": "5319f3ce",
   "metadata": {},
   "outputs": [
    {
     "data": {
      "text/html": [
       "<div>\n",
       "<style scoped>\n",
       "    .dataframe tbody tr th:only-of-type {\n",
       "        vertical-align: middle;\n",
       "    }\n",
       "\n",
       "    .dataframe tbody tr th {\n",
       "        vertical-align: top;\n",
       "    }\n",
       "\n",
       "    .dataframe thead th {\n",
       "        text-align: right;\n",
       "    }\n",
       "</style>\n",
       "<table border=\"1\" class=\"dataframe\">\n",
       "  <thead>\n",
       "    <tr style=\"text-align: right;\">\n",
       "      <th></th>\n",
       "      <th>book_id</th>\n",
       "      <th>title</th>\n",
       "      <th>count_of_reviews</th>\n",
       "      <th>average_rating</th>\n",
       "    </tr>\n",
       "  </thead>\n",
       "  <tbody>\n",
       "    <tr>\n",
       "      <th>0</th>\n",
       "      <td>83</td>\n",
       "      <td>Anne Rice's The Vampire Lestat: A Graphic Novel</td>\n",
       "      <td>0</td>\n",
       "      <td>3.666667</td>\n",
       "    </tr>\n",
       "    <tr>\n",
       "      <th>1</th>\n",
       "      <td>672</td>\n",
       "      <td>The Cat in the Hat and Other Dr. Seuss Favorites</td>\n",
       "      <td>0</td>\n",
       "      <td>5.000000</td>\n",
       "    </tr>\n",
       "    <tr>\n",
       "      <th>2</th>\n",
       "      <td>221</td>\n",
       "      <td>Essential Tales and Poems</td>\n",
       "      <td>0</td>\n",
       "      <td>4.000000</td>\n",
       "    </tr>\n",
       "    <tr>\n",
       "      <th>3</th>\n",
       "      <td>808</td>\n",
       "      <td>The Natural Way to Draw</td>\n",
       "      <td>0</td>\n",
       "      <td>3.000000</td>\n",
       "    </tr>\n",
       "    <tr>\n",
       "      <th>4</th>\n",
       "      <td>191</td>\n",
       "      <td>Disney's Beauty and the Beast (A Little Golden...</td>\n",
       "      <td>0</td>\n",
       "      <td>4.000000</td>\n",
       "    </tr>\n",
       "    <tr>\n",
       "      <th>...</th>\n",
       "      <td>...</td>\n",
       "      <td>...</td>\n",
       "      <td>...</td>\n",
       "      <td>...</td>\n",
       "    </tr>\n",
       "    <tr>\n",
       "      <th>995</th>\n",
       "      <td>733</td>\n",
       "      <td>The Giver (The Giver  #1)</td>\n",
       "      <td>6</td>\n",
       "      <td>3.750000</td>\n",
       "    </tr>\n",
       "    <tr>\n",
       "      <th>996</th>\n",
       "      <td>854</td>\n",
       "      <td>The Road</td>\n",
       "      <td>6</td>\n",
       "      <td>3.772727</td>\n",
       "    </tr>\n",
       "    <tr>\n",
       "      <th>997</th>\n",
       "      <td>695</td>\n",
       "      <td>The Curious Incident of the Dog in the Night-Time</td>\n",
       "      <td>6</td>\n",
       "      <td>4.081081</td>\n",
       "    </tr>\n",
       "    <tr>\n",
       "      <th>998</th>\n",
       "      <td>696</td>\n",
       "      <td>The Da Vinci Code (Robert Langdon  #2)</td>\n",
       "      <td>6</td>\n",
       "      <td>3.830508</td>\n",
       "    </tr>\n",
       "    <tr>\n",
       "      <th>999</th>\n",
       "      <td>948</td>\n",
       "      <td>Twilight (Twilight  #1)</td>\n",
       "      <td>7</td>\n",
       "      <td>3.662500</td>\n",
       "    </tr>\n",
       "  </tbody>\n",
       "</table>\n",
       "<p>1000 rows × 4 columns</p>\n",
       "</div>"
      ],
      "text/plain": [
       "     book_id                                              title  \\\n",
       "0         83    Anne Rice's The Vampire Lestat: A Graphic Novel   \n",
       "1        672   The Cat in the Hat and Other Dr. Seuss Favorites   \n",
       "2        221                          Essential Tales and Poems   \n",
       "3        808                            The Natural Way to Draw   \n",
       "4        191  Disney's Beauty and the Beast (A Little Golden...   \n",
       "..       ...                                                ...   \n",
       "995      733                          The Giver (The Giver  #1)   \n",
       "996      854                                           The Road   \n",
       "997      695  The Curious Incident of the Dog in the Night-Time   \n",
       "998      696             The Da Vinci Code (Robert Langdon  #2)   \n",
       "999      948                            Twilight (Twilight  #1)   \n",
       "\n",
       "     count_of_reviews  average_rating  \n",
       "0                   0        3.666667  \n",
       "1                   0        5.000000  \n",
       "2                   0        4.000000  \n",
       "3                   0        3.000000  \n",
       "4                   0        4.000000  \n",
       "..                ...             ...  \n",
       "995                 6        3.750000  \n",
       "996                 6        3.772727  \n",
       "997                 6        4.081081  \n",
       "998                 6        3.830508  \n",
       "999                 7        3.662500  \n",
       "\n",
       "[1000 rows x 4 columns]"
      ]
     },
     "execution_count": 8,
     "metadata": {},
     "output_type": "execute_result"
    }
   ],
   "source": [
    "query = '''\n",
    "            SELECT b.book_id,\n",
    "                   b.title,\n",
    "                   COUNT(DISTINCT(rev.review_id)) AS count_of_reviews,\n",
    "                   AVG(rat.rating) AS average_rating      \n",
    "            FROM books AS b\n",
    "            LEFT JOIN reviews AS rev ON b.book_id=rev.book_id\n",
    "            LEFT JOIN ratings AS rat ON b.book_id=rat.book_id\n",
    "            GROUP BY b.book_id\n",
    "            ORDER BY count_of_reviews\n",
    "        '''\n",
    "pd.io.sql.read_sql(query, con = engine)"
   ]
  },
  {
   "cell_type": "markdown",
   "id": "551b38ae",
   "metadata": {},
   "source": [
    "Как мы видим, есть книги, к которым не было написано ни одного пользовательских обзора\n",
    "\n",
    "Есть один лидер по количеству обзоров - книга с id 948, на нее написано 7 обзоров\n",
    "\n",
    "Эта книга называется Twilight, в переводе на русский - Сумерки, первая часть\n",
    "\n",
    "Это действительно очень известное произведение\n",
    "\n",
    "Но средняя оценка у этой книги - лишь 3.6\n"
   ]
  },
  {
   "cell_type": "markdown",
   "id": "79a091f7",
   "metadata": {},
   "source": [
    "# Определите издательство, которое выпустило наибольшее число книг толще 50 страниц — так вы исключите из анализа брошюры"
   ]
  },
  {
   "cell_type": "code",
   "execution_count": 9,
   "id": "ee77fbed",
   "metadata": {},
   "outputs": [
    {
     "data": {
      "text/html": [
       "<div>\n",
       "<style scoped>\n",
       "    .dataframe tbody tr th:only-of-type {\n",
       "        vertical-align: middle;\n",
       "    }\n",
       "\n",
       "    .dataframe tbody tr th {\n",
       "        vertical-align: top;\n",
       "    }\n",
       "\n",
       "    .dataframe thead th {\n",
       "        text-align: right;\n",
       "    }\n",
       "</style>\n",
       "<table border=\"1\" class=\"dataframe\">\n",
       "  <thead>\n",
       "    <tr style=\"text-align: right;\">\n",
       "      <th></th>\n",
       "      <th>publisher</th>\n",
       "      <th>cnt</th>\n",
       "    </tr>\n",
       "  </thead>\n",
       "  <tbody>\n",
       "    <tr>\n",
       "      <th>0</th>\n",
       "      <td>Penguin Books</td>\n",
       "      <td>42</td>\n",
       "    </tr>\n",
       "  </tbody>\n",
       "</table>\n",
       "</div>"
      ],
      "text/plain": [
       "       publisher  cnt\n",
       "0  Penguin Books   42"
      ]
     },
     "execution_count": 9,
     "metadata": {},
     "output_type": "execute_result"
    }
   ],
   "source": [
    "query = '''\n",
    "            SELECT pub.publisher,\n",
    "                   COUNT(book_id) AS cnt\n",
    "            FROM publishers AS pub\n",
    "            LEFT JOIN books AS b ON pub.publisher_id=b.publisher_id\n",
    "            WHERE b.num_pages>50\n",
    "            GROUP BY pub.publisher\n",
    "            ORDER BY cnt DESC\n",
    "            LIMIT 1\n",
    "            \n",
    "        '''\n",
    "pd.io.sql.read_sql(query, con = engine)"
   ]
  },
  {
   "cell_type": "markdown",
   "id": "5c29c967",
   "metadata": {},
   "source": [
    "Мы выяснили, что издательство, выпустившее наибольшее число книг толще 50 страниц, носит название Penguin Books\n",
    "\n",
    "Это британское издательство, дополнительную информацию про него при необходиомсти можно изучить в Википедии\n",
    "\n",
    "https://ru.wikipedia.org/wiki/Penguin_Books\n",
    "\n",
    "Вероятно, это действительно популярное издательство и нашей компании стоит поподробнее изучить его"
   ]
  },
  {
   "cell_type": "markdown",
   "id": "bfad7494",
   "metadata": {},
   "source": [
    "# Определите автора с самой высокой средней оценкой книг — учитывайте только книги с 50 и более оценками"
   ]
  },
  {
   "cell_type": "code",
   "execution_count": 10,
   "id": "e5f21481",
   "metadata": {},
   "outputs": [
    {
     "data": {
      "text/html": [
       "<div>\n",
       "<style scoped>\n",
       "    .dataframe tbody tr th:only-of-type {\n",
       "        vertical-align: middle;\n",
       "    }\n",
       "\n",
       "    .dataframe tbody tr th {\n",
       "        vertical-align: top;\n",
       "    }\n",
       "\n",
       "    .dataframe thead th {\n",
       "        text-align: right;\n",
       "    }\n",
       "</style>\n",
       "<table border=\"1\" class=\"dataframe\">\n",
       "  <thead>\n",
       "    <tr style=\"text-align: right;\">\n",
       "      <th></th>\n",
       "      <th>author</th>\n",
       "      <th>average_rating</th>\n",
       "    </tr>\n",
       "  </thead>\n",
       "  <tbody>\n",
       "    <tr>\n",
       "      <th>0</th>\n",
       "      <td>J.K. Rowling/Mary GrandPré</td>\n",
       "      <td>4.288462</td>\n",
       "    </tr>\n",
       "  </tbody>\n",
       "</table>\n",
       "</div>"
      ],
      "text/plain": [
       "                       author  average_rating\n",
       "0  J.K. Rowling/Mary GrandPré        4.288462"
      ]
     },
     "execution_count": 10,
     "metadata": {},
     "output_type": "execute_result"
    }
   ],
   "source": [
    "query = '''\n",
    "            SELECT a.author,\n",
    "                   AVG(rat.rating) AS average_rating\n",
    "            FROM authors AS a\n",
    "            LEFT JOIN books AS b ON a.author_id=b.author_id\n",
    "            LEFT JOIN ratings AS rat ON b.book_id=rat.book_id\n",
    "            GROUP BY a.author\n",
    "            HAVING COUNT(rat.rating)>50\n",
    "            ORDER BY AVG(rat.rating) DESC\n",
    "            LIMIT 1\n",
    "            \n",
    "            \n",
    "        '''\n",
    "pd.io.sql.read_sql(query, con = engine)"
   ]
  },
  {
   "cell_type": "markdown",
   "id": "5e5718bb",
   "metadata": {},
   "source": [
    "Как мы видим, автором с самой высокой средней оценкой книг является Джоан Роулинг, известная всему миру автор бестселлеров про Гарри Поттера\n",
    "\n",
    "В нашем случае она представлена, вероятно, в соавторстве с иллюстратором Мэри Гранпрэ, как раз автором иллюстраций к книгам о Поттере\n",
    "\n",
    "Резуьтат в целом довольно закономерен, ведь произведение о юном волшебнике действительно является одной из самых известных книг для любого возраста"
   ]
  },
  {
   "cell_type": "markdown",
   "id": "bf98f54e",
   "metadata": {},
   "source": [
    "# Посчитайте среднее количество обзоров от пользователей, которые поставили больше 50 оценок"
   ]
  },
  {
   "cell_type": "code",
   "execution_count": 11,
   "id": "088c19e8",
   "metadata": {},
   "outputs": [
    {
     "data": {
      "text/html": [
       "<div>\n",
       "<style scoped>\n",
       "    .dataframe tbody tr th:only-of-type {\n",
       "        vertical-align: middle;\n",
       "    }\n",
       "\n",
       "    .dataframe tbody tr th {\n",
       "        vertical-align: top;\n",
       "    }\n",
       "\n",
       "    .dataframe thead th {\n",
       "        text-align: right;\n",
       "    }\n",
       "</style>\n",
       "<table border=\"1\" class=\"dataframe\">\n",
       "  <thead>\n",
       "    <tr style=\"text-align: right;\">\n",
       "      <th></th>\n",
       "      <th>average_count_of_reviews</th>\n",
       "    </tr>\n",
       "  </thead>\n",
       "  <tbody>\n",
       "    <tr>\n",
       "      <th>0</th>\n",
       "      <td>24.333333</td>\n",
       "    </tr>\n",
       "  </tbody>\n",
       "</table>\n",
       "</div>"
      ],
      "text/plain": [
       "   average_count_of_reviews\n",
       "0                 24.333333"
      ]
     },
     "execution_count": 11,
     "metadata": {},
     "output_type": "execute_result"
    }
   ],
   "source": [
    "query = '''\n",
    "            SELECT AVG(count_reviews) AS average_count_of_reviews\n",
    "            FROM (\n",
    "            SELECT username, COUNT(*) count_reviews\n",
    "            FROM reviews\n",
    "            WHERE username IN\n",
    "            (\n",
    "            SELECT username--, COUNT(*)\n",
    "            FROM ratings\n",
    "            GROUP BY username\n",
    "            HAVING COUNT(*) > 50\n",
    "            )\n",
    "            GROUP BY username) review\n",
    "                      \n",
    "        '''\n",
    "pd.io.sql.read_sql(query, con = engine)"
   ]
  },
  {
   "cell_type": "markdown",
   "id": "fe1dedb8",
   "metadata": {},
   "source": [
    "Мы выяснили, что среднее количество обзоров от пользователей, которые поставили больше 50 оценок - чуть более 24\n",
    "\n",
    "То есть, можем предположить, что люди, которые ставят большое количество оценок, пишут и большое количество обзоров на литературу\n",
    "\n",
    "Вероятно, это настоящие книголюбы"
   ]
  },
  {
   "cell_type": "markdown",
   "id": "e7382f30",
   "metadata": {},
   "source": [
    "# ВЫВОДЫ"
   ]
  },
  {
   "cell_type": "markdown",
   "id": "7c9f3135",
   "metadata": {},
   "source": [
    "Анализ базы данных показал следующее: \n",
    "\n",
    "* После 1 января 2000 года вышло 819 новых книг\n",
    "\n",
    "* Книга с наибольшим количеством обзоров - сага Сумерки. Однако, она имеет не слишком высокую среднюю оценку - 3.6\n",
    "\n",
    "* Издательство, выпустившее наибольшее число книг толще 50 страниц, носит название Penguin Books\n",
    "\n",
    "* Автором с самой высокой средней оценкой книг является Джоан Роулинг, известная всему миру автор бестселлеров про Гарри Поттера\n",
    "\n",
    "* Среднее количество обзоров от пользователей, которые поставили больше 50 оценок - чуть более 24\n"
   ]
  }
 ],
 "metadata": {
  "ExecuteTimeLog": [
   {
    "duration": 7216,
    "start_time": "2023-01-09T08:31:04.096Z"
   },
   {
    "duration": 293,
    "start_time": "2023-01-09T08:31:11.314Z"
   },
   {
    "duration": 80,
    "start_time": "2023-01-09T08:31:11.609Z"
   },
   {
    "duration": 76,
    "start_time": "2023-01-09T08:31:11.691Z"
   },
   {
    "duration": 113,
    "start_time": "2023-01-09T08:31:11.770Z"
   },
   {
    "duration": 91,
    "start_time": "2023-01-09T08:31:11.886Z"
   },
   {
    "duration": 91,
    "start_time": "2023-01-09T08:31:11.978Z"
   },
   {
    "duration": 95,
    "start_time": "2023-01-09T08:31:12.071Z"
   },
   {
    "duration": 72,
    "start_time": "2023-01-09T08:31:12.168Z"
   },
   {
    "duration": 78,
    "start_time": "2023-01-09T08:31:12.247Z"
   },
   {
    "duration": 79,
    "start_time": "2023-01-09T08:31:12.326Z"
   },
   {
    "duration": 88,
    "start_time": "2023-01-09T08:31:12.407Z"
   }
  ],
  "kernelspec": {
   "display_name": "Python 3 (ipykernel)",
   "language": "python",
   "name": "python3"
  },
  "language_info": {
   "codemirror_mode": {
    "name": "ipython",
    "version": 3
   },
   "file_extension": ".py",
   "mimetype": "text/x-python",
   "name": "python",
   "nbconvert_exporter": "python",
   "pygments_lexer": "ipython3",
   "version": "3.9.13"
  },
  "toc": {
   "base_numbering": 1,
   "nav_menu": {},
   "number_sections": true,
   "sideBar": true,
   "skip_h1_title": false,
   "title_cell": "Table of Contents",
   "title_sidebar": "Contents",
   "toc_cell": false,
   "toc_position": {},
   "toc_section_display": true,
   "toc_window_display": false
  }
 },
 "nbformat": 4,
 "nbformat_minor": 5
}
