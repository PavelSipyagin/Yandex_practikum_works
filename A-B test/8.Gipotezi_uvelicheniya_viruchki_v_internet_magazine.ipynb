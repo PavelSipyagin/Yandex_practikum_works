{
 "cells": [
  {
   "cell_type": "markdown",
   "id": "632b2587",
   "metadata": {},
   "source": [
    " ПРОЕКТ\n",
    " \n",
    " Принятие решений в бизнесе"
   ]
  },
  {
   "cell_type": "markdown",
   "id": "078a0a1e",
   "metadata": {},
   "source": [
    "* Цель исследования: \n",
    "\n",
    "Увеличение выручки крупного интернет-магазина путем выбора гипотезы, запуска  A/B-теста и анализом результата работы\n",
    "\n",
    "* Задачи исследования:\n",
    "\n",
    "Приоритизировать гипотезы, провести предобработку данных, построить графики кумулятивных среднего чека и количества заказов, построить точечные графики и расчитать перцентили, определить границы аномалий, запустить A/B-тест и проанализировать результаты\n",
    "\n",
    "* Исходные данные:\n",
    "\n",
    "В первой части работы имеем датасет с 9-ю гипотезами по увеличению выручки\n",
    "\n",
    "Во второй части работы имеем два датасета: в одном из них данные о заказах, во втором данные о пользователях"
   ]
  },
  {
   "cell_type": "markdown",
   "id": "b7591c6d",
   "metadata": {},
   "source": [
    "# Часть 1. Приоритизация гипотез."
   ]
  },
  {
   "cell_type": "code",
   "execution_count": 1,
   "id": "cd3a7b36",
   "metadata": {},
   "outputs": [],
   "source": [
    "#сразу импортируем необходимые нам библиотеки\n",
    "\n",
    "import pandas as pd \n",
    "import numpy as np\n",
    "import matplotlib.pyplot as plt\n",
    "import os\n",
    "import scipy.stats as stats\n",
    "import warnings\n",
    "warnings.filterwarnings('ignore')"
   ]
  },
  {
   "cell_type": "code",
   "execution_count": 2,
   "id": "1227908a",
   "metadata": {},
   "outputs": [],
   "source": [
    "#откроем файлы\n",
    "\n",
    "if os.path.exists('/datasets/hypothesis.csv'):\n",
    "     data= pd.read_csv('/datasets/hypothesis.csv')\n",
    "else:\n",
    "     data = pd.read_csv('hypothesis.csv')"
   ]
  },
  {
   "cell_type": "code",
   "execution_count": 3,
   "id": "c6c0bc86",
   "metadata": {},
   "outputs": [],
   "source": [
    "if os.path.exists('/datasets/orders.csv'):\n",
    "     orders= pd.read_csv('/datasets/orders.csv')\n",
    "else:\n",
    "     orders = pd.read_csv('orders.csv')"
   ]
  },
  {
   "cell_type": "code",
   "execution_count": 4,
   "id": "ca146e68",
   "metadata": {},
   "outputs": [],
   "source": [
    "if os.path.exists('/datasets/visitors.csv'):\n",
    "     visitors= pd.read_csv('/datasets/visitors.csv')\n",
    "else:\n",
    "     visitors = pd.read_csv('visitors.csv')"
   ]
  },
  {
   "cell_type": "markdown",
   "id": "45a8f5c2",
   "metadata": {},
   "source": [
    "## Применим фреймворк ICE для приоритизации гипотез. Отсортируем их по убыванию приоритета"
   ]
  },
  {
   "cell_type": "code",
   "execution_count": 5,
   "id": "e0348741",
   "metadata": {},
   "outputs": [
    {
     "data": {
      "text/html": [
       "<div>\n",
       "<style scoped>\n",
       "    .dataframe tbody tr th:only-of-type {\n",
       "        vertical-align: middle;\n",
       "    }\n",
       "\n",
       "    .dataframe tbody tr th {\n",
       "        vertical-align: top;\n",
       "    }\n",
       "\n",
       "    .dataframe thead th {\n",
       "        text-align: right;\n",
       "    }\n",
       "</style>\n",
       "<table border=\"1\" class=\"dataframe\">\n",
       "  <thead>\n",
       "    <tr style=\"text-align: right;\">\n",
       "      <th></th>\n",
       "      <th>Hypothesis</th>\n",
       "      <th>Reach</th>\n",
       "      <th>Impact</th>\n",
       "      <th>Confidence</th>\n",
       "      <th>Efforts</th>\n",
       "    </tr>\n",
       "  </thead>\n",
       "  <tbody>\n",
       "    <tr>\n",
       "      <th>0</th>\n",
       "      <td>Добавить два новых канала привлечения трафика,...</td>\n",
       "      <td>3</td>\n",
       "      <td>10</td>\n",
       "      <td>8</td>\n",
       "      <td>6</td>\n",
       "    </tr>\n",
       "    <tr>\n",
       "      <th>1</th>\n",
       "      <td>Запустить собственную службу доставки, что сок...</td>\n",
       "      <td>2</td>\n",
       "      <td>5</td>\n",
       "      <td>4</td>\n",
       "      <td>10</td>\n",
       "    </tr>\n",
       "    <tr>\n",
       "      <th>2</th>\n",
       "      <td>Добавить блоки рекомендаций товаров на сайт ин...</td>\n",
       "      <td>8</td>\n",
       "      <td>3</td>\n",
       "      <td>7</td>\n",
       "      <td>3</td>\n",
       "    </tr>\n",
       "    <tr>\n",
       "      <th>3</th>\n",
       "      <td>Изменить структура категорий, что увеличит кон...</td>\n",
       "      <td>8</td>\n",
       "      <td>3</td>\n",
       "      <td>3</td>\n",
       "      <td>8</td>\n",
       "    </tr>\n",
       "    <tr>\n",
       "      <th>4</th>\n",
       "      <td>Изменить цвет фона главной страницы, чтобы уве...</td>\n",
       "      <td>3</td>\n",
       "      <td>1</td>\n",
       "      <td>1</td>\n",
       "      <td>1</td>\n",
       "    </tr>\n",
       "    <tr>\n",
       "      <th>5</th>\n",
       "      <td>Добавить страницу отзывов клиентов о магазине,...</td>\n",
       "      <td>3</td>\n",
       "      <td>2</td>\n",
       "      <td>2</td>\n",
       "      <td>3</td>\n",
       "    </tr>\n",
       "    <tr>\n",
       "      <th>6</th>\n",
       "      <td>Показать на главной странице баннеры с актуаль...</td>\n",
       "      <td>5</td>\n",
       "      <td>3</td>\n",
       "      <td>8</td>\n",
       "      <td>3</td>\n",
       "    </tr>\n",
       "    <tr>\n",
       "      <th>7</th>\n",
       "      <td>Добавить форму подписки на все основные страни...</td>\n",
       "      <td>10</td>\n",
       "      <td>7</td>\n",
       "      <td>8</td>\n",
       "      <td>5</td>\n",
       "    </tr>\n",
       "    <tr>\n",
       "      <th>8</th>\n",
       "      <td>Запустить акцию, дающую скидку на товар в день...</td>\n",
       "      <td>1</td>\n",
       "      <td>9</td>\n",
       "      <td>9</td>\n",
       "      <td>5</td>\n",
       "    </tr>\n",
       "  </tbody>\n",
       "</table>\n",
       "</div>"
      ],
      "text/plain": [
       "                                          Hypothesis  Reach  Impact  \\\n",
       "0  Добавить два новых канала привлечения трафика,...      3      10   \n",
       "1  Запустить собственную службу доставки, что сок...      2       5   \n",
       "2  Добавить блоки рекомендаций товаров на сайт ин...      8       3   \n",
       "3  Изменить структура категорий, что увеличит кон...      8       3   \n",
       "4  Изменить цвет фона главной страницы, чтобы уве...      3       1   \n",
       "5  Добавить страницу отзывов клиентов о магазине,...      3       2   \n",
       "6  Показать на главной странице баннеры с актуаль...      5       3   \n",
       "7  Добавить форму подписки на все основные страни...     10       7   \n",
       "8  Запустить акцию, дающую скидку на товар в день...      1       9   \n",
       "\n",
       "   Confidence  Efforts  \n",
       "0           8        6  \n",
       "1           4       10  \n",
       "2           7        3  \n",
       "3           3        8  \n",
       "4           1        1  \n",
       "5           2        3  \n",
       "6           8        3  \n",
       "7           8        5  \n",
       "8           9        5  "
      ]
     },
     "execution_count": 5,
     "metadata": {},
     "output_type": "execute_result"
    }
   ],
   "source": [
    "# посмотрим на данные\n",
    "\n",
    "data"
   ]
  },
  {
   "cell_type": "markdown",
   "id": "7f9b5ffe",
   "metadata": {},
   "source": [
    "Для расчет ICE нам потребуется следующая формула: \n",
    "\n",
    "`ICE=(Impact*Confidence)/Efforts`"
   ]
  },
  {
   "cell_type": "code",
   "execution_count": 6,
   "id": "fc266f40",
   "metadata": {},
   "outputs": [],
   "source": [
    "# расчитаем ICE\n",
    "\n",
    "data['ICE']=(data['Impact']*data['Confidence'])/data['Efforts']\n",
    "\n",
    "data['ICE']=round(data['ICE'])"
   ]
  },
  {
   "cell_type": "code",
   "execution_count": 7,
   "id": "befe3876",
   "metadata": {},
   "outputs": [
    {
     "data": {
      "text/html": [
       "<div>\n",
       "<style scoped>\n",
       "    .dataframe tbody tr th:only-of-type {\n",
       "        vertical-align: middle;\n",
       "    }\n",
       "\n",
       "    .dataframe tbody tr th {\n",
       "        vertical-align: top;\n",
       "    }\n",
       "\n",
       "    .dataframe thead th {\n",
       "        text-align: right;\n",
       "    }\n",
       "</style>\n",
       "<table border=\"1\" class=\"dataframe\">\n",
       "  <thead>\n",
       "    <tr style=\"text-align: right;\">\n",
       "      <th></th>\n",
       "      <th>Hypothesis</th>\n",
       "      <th>ICE</th>\n",
       "    </tr>\n",
       "  </thead>\n",
       "  <tbody>\n",
       "    <tr>\n",
       "      <th>8</th>\n",
       "      <td>Запустить акцию, дающую скидку на товар в день...</td>\n",
       "      <td>16.0</td>\n",
       "    </tr>\n",
       "    <tr>\n",
       "      <th>0</th>\n",
       "      <td>Добавить два новых канала привлечения трафика,...</td>\n",
       "      <td>13.0</td>\n",
       "    </tr>\n",
       "    <tr>\n",
       "      <th>7</th>\n",
       "      <td>Добавить форму подписки на все основные страни...</td>\n",
       "      <td>11.0</td>\n",
       "    </tr>\n",
       "    <tr>\n",
       "      <th>6</th>\n",
       "      <td>Показать на главной странице баннеры с актуаль...</td>\n",
       "      <td>8.0</td>\n",
       "    </tr>\n",
       "    <tr>\n",
       "      <th>2</th>\n",
       "      <td>Добавить блоки рекомендаций товаров на сайт ин...</td>\n",
       "      <td>7.0</td>\n",
       "    </tr>\n",
       "    <tr>\n",
       "      <th>1</th>\n",
       "      <td>Запустить собственную службу доставки, что сок...</td>\n",
       "      <td>2.0</td>\n",
       "    </tr>\n",
       "    <tr>\n",
       "      <th>3</th>\n",
       "      <td>Изменить структура категорий, что увеличит кон...</td>\n",
       "      <td>1.0</td>\n",
       "    </tr>\n",
       "    <tr>\n",
       "      <th>4</th>\n",
       "      <td>Изменить цвет фона главной страницы, чтобы уве...</td>\n",
       "      <td>1.0</td>\n",
       "    </tr>\n",
       "    <tr>\n",
       "      <th>5</th>\n",
       "      <td>Добавить страницу отзывов клиентов о магазине,...</td>\n",
       "      <td>1.0</td>\n",
       "    </tr>\n",
       "  </tbody>\n",
       "</table>\n",
       "</div>"
      ],
      "text/plain": [
       "                                          Hypothesis   ICE\n",
       "8  Запустить акцию, дающую скидку на товар в день...  16.0\n",
       "0  Добавить два новых канала привлечения трафика,...  13.0\n",
       "7  Добавить форму подписки на все основные страни...  11.0\n",
       "6  Показать на главной странице баннеры с актуаль...   8.0\n",
       "2  Добавить блоки рекомендаций товаров на сайт ин...   7.0\n",
       "1  Запустить собственную службу доставки, что сок...   2.0\n",
       "3  Изменить структура категорий, что увеличит кон...   1.0\n",
       "4  Изменить цвет фона главной страницы, чтобы уве...   1.0\n",
       "5  Добавить страницу отзывов клиентов о магазине,...   1.0"
      ]
     },
     "execution_count": 7,
     "metadata": {},
     "output_type": "execute_result"
    }
   ],
   "source": [
    "# проверим результат, отсортировав по убыванию приоритета\n",
    "\n",
    "data[['Hypothesis','ICE']].sort_values(by='ICE',ascending=False)"
   ]
  },
  {
   "cell_type": "markdown",
   "id": "cdd06738",
   "metadata": {},
   "source": [
    "Как можно наблюдать, наиболее перспективными гипотезами по ICE являются 8, 0, 7 и 6"
   ]
  },
  {
   "cell_type": "markdown",
   "id": "23b66e65",
   "metadata": {},
   "source": [
    "## Применим фреймворк RICE для приоритизации гипотез. Отсортируем их по убыванию приоритета"
   ]
  },
  {
   "cell_type": "markdown",
   "id": "37ba43cb",
   "metadata": {},
   "source": [
    "Для расчет RICE нам потребуется следующая формула: \n",
    "\n",
    "`RICE=(Reach*Impact*Confidence)/Efforts`"
   ]
  },
  {
   "cell_type": "code",
   "execution_count": 8,
   "id": "ad2dcce3",
   "metadata": {},
   "outputs": [],
   "source": [
    "# расчитаем RICE\n",
    "\n",
    "data['RICE']=(data['Reach']*data['Impact']*data['Confidence'])/data['Efforts']"
   ]
  },
  {
   "cell_type": "code",
   "execution_count": 9,
   "id": "124df42f",
   "metadata": {},
   "outputs": [
    {
     "data": {
      "text/html": [
       "<div>\n",
       "<style scoped>\n",
       "    .dataframe tbody tr th:only-of-type {\n",
       "        vertical-align: middle;\n",
       "    }\n",
       "\n",
       "    .dataframe tbody tr th {\n",
       "        vertical-align: top;\n",
       "    }\n",
       "\n",
       "    .dataframe thead th {\n",
       "        text-align: right;\n",
       "    }\n",
       "</style>\n",
       "<table border=\"1\" class=\"dataframe\">\n",
       "  <thead>\n",
       "    <tr style=\"text-align: right;\">\n",
       "      <th></th>\n",
       "      <th>Hypothesis</th>\n",
       "      <th>RICE</th>\n",
       "    </tr>\n",
       "  </thead>\n",
       "  <tbody>\n",
       "    <tr>\n",
       "      <th>7</th>\n",
       "      <td>Добавить форму подписки на все основные страни...</td>\n",
       "      <td>112.0</td>\n",
       "    </tr>\n",
       "    <tr>\n",
       "      <th>2</th>\n",
       "      <td>Добавить блоки рекомендаций товаров на сайт ин...</td>\n",
       "      <td>56.0</td>\n",
       "    </tr>\n",
       "    <tr>\n",
       "      <th>0</th>\n",
       "      <td>Добавить два новых канала привлечения трафика,...</td>\n",
       "      <td>40.0</td>\n",
       "    </tr>\n",
       "    <tr>\n",
       "      <th>6</th>\n",
       "      <td>Показать на главной странице баннеры с актуаль...</td>\n",
       "      <td>40.0</td>\n",
       "    </tr>\n",
       "    <tr>\n",
       "      <th>8</th>\n",
       "      <td>Запустить акцию, дающую скидку на товар в день...</td>\n",
       "      <td>16.2</td>\n",
       "    </tr>\n",
       "    <tr>\n",
       "      <th>3</th>\n",
       "      <td>Изменить структура категорий, что увеличит кон...</td>\n",
       "      <td>9.0</td>\n",
       "    </tr>\n",
       "    <tr>\n",
       "      <th>1</th>\n",
       "      <td>Запустить собственную службу доставки, что сок...</td>\n",
       "      <td>4.0</td>\n",
       "    </tr>\n",
       "    <tr>\n",
       "      <th>5</th>\n",
       "      <td>Добавить страницу отзывов клиентов о магазине,...</td>\n",
       "      <td>4.0</td>\n",
       "    </tr>\n",
       "    <tr>\n",
       "      <th>4</th>\n",
       "      <td>Изменить цвет фона главной страницы, чтобы уве...</td>\n",
       "      <td>3.0</td>\n",
       "    </tr>\n",
       "  </tbody>\n",
       "</table>\n",
       "</div>"
      ],
      "text/plain": [
       "                                          Hypothesis   RICE\n",
       "7  Добавить форму подписки на все основные страни...  112.0\n",
       "2  Добавить блоки рекомендаций товаров на сайт ин...   56.0\n",
       "0  Добавить два новых канала привлечения трафика,...   40.0\n",
       "6  Показать на главной странице баннеры с актуаль...   40.0\n",
       "8  Запустить акцию, дающую скидку на товар в день...   16.2\n",
       "3  Изменить структура категорий, что увеличит кон...    9.0\n",
       "1  Запустить собственную службу доставки, что сок...    4.0\n",
       "5  Добавить страницу отзывов клиентов о магазине,...    4.0\n",
       "4  Изменить цвет фона главной страницы, чтобы уве...    3.0"
      ]
     },
     "execution_count": 9,
     "metadata": {},
     "output_type": "execute_result"
    }
   ],
   "source": [
    "# проверим результат, отсортировав по убыванию приоритета\n",
    "\n",
    "data[['Hypothesis','RICE']].sort_values(by='RICE',ascending=False)"
   ]
  },
  {
   "cell_type": "markdown",
   "id": "6f138a99",
   "metadata": {},
   "source": [
    "Как можно наблюдать, наиболее перспективными гипотезами по RICE являются 7,2,0 и 6"
   ]
  },
  {
   "cell_type": "markdown",
   "id": "209c51a9",
   "metadata": {},
   "source": [
    "## Укажем, как изменилась приоритизация гипотез при применении RICE вместо ICE. Объясним, почему так произошло"
   ]
  },
  {
   "cell_type": "markdown",
   "id": "3f936668",
   "metadata": {},
   "source": [
    "Можем сравнить приоритизацию гипотез при применении RICE и ICE\n",
    "\n",
    "При применении этих двух способов есть совпадения: гипотезы 0, 7 и 6 в обоих случаях выглядят наиболее перспективными\n",
    "\n",
    "Однако, в случае применения метода RICE на первом месте находится гипотеза номер 7, а в случае с применением способа ICE - гипотеза номер 8\n",
    "\n",
    "Это связано с различиями в формулах этих двух методов: RICE учитывает и то, как много пользователей коснется данная гипотеза, параметр `Reach`"
   ]
  },
  {
   "cell_type": "code",
   "execution_count": 10,
   "id": "ae9872f8",
   "metadata": {},
   "outputs": [
    {
     "data": {
      "text/html": [
       "<div>\n",
       "<style scoped>\n",
       "    .dataframe tbody tr th:only-of-type {\n",
       "        vertical-align: middle;\n",
       "    }\n",
       "\n",
       "    .dataframe tbody tr th {\n",
       "        vertical-align: top;\n",
       "    }\n",
       "\n",
       "    .dataframe thead th {\n",
       "        text-align: right;\n",
       "    }\n",
       "</style>\n",
       "<table border=\"1\" class=\"dataframe\">\n",
       "  <thead>\n",
       "    <tr style=\"text-align: right;\">\n",
       "      <th></th>\n",
       "      <th>Hypothesis</th>\n",
       "      <th>Reach</th>\n",
       "    </tr>\n",
       "  </thead>\n",
       "  <tbody>\n",
       "    <tr>\n",
       "      <th>0</th>\n",
       "      <td>Добавить два новых канала привлечения трафика,...</td>\n",
       "      <td>3</td>\n",
       "    </tr>\n",
       "    <tr>\n",
       "      <th>1</th>\n",
       "      <td>Запустить собственную службу доставки, что сок...</td>\n",
       "      <td>2</td>\n",
       "    </tr>\n",
       "    <tr>\n",
       "      <th>2</th>\n",
       "      <td>Добавить блоки рекомендаций товаров на сайт ин...</td>\n",
       "      <td>8</td>\n",
       "    </tr>\n",
       "    <tr>\n",
       "      <th>3</th>\n",
       "      <td>Изменить структура категорий, что увеличит кон...</td>\n",
       "      <td>8</td>\n",
       "    </tr>\n",
       "    <tr>\n",
       "      <th>4</th>\n",
       "      <td>Изменить цвет фона главной страницы, чтобы уве...</td>\n",
       "      <td>3</td>\n",
       "    </tr>\n",
       "    <tr>\n",
       "      <th>5</th>\n",
       "      <td>Добавить страницу отзывов клиентов о магазине,...</td>\n",
       "      <td>3</td>\n",
       "    </tr>\n",
       "    <tr>\n",
       "      <th>6</th>\n",
       "      <td>Показать на главной странице баннеры с актуаль...</td>\n",
       "      <td>5</td>\n",
       "    </tr>\n",
       "    <tr>\n",
       "      <th>7</th>\n",
       "      <td>Добавить форму подписки на все основные страни...</td>\n",
       "      <td>10</td>\n",
       "    </tr>\n",
       "    <tr>\n",
       "      <th>8</th>\n",
       "      <td>Запустить акцию, дающую скидку на товар в день...</td>\n",
       "      <td>1</td>\n",
       "    </tr>\n",
       "  </tbody>\n",
       "</table>\n",
       "</div>"
      ],
      "text/plain": [
       "                                          Hypothesis  Reach\n",
       "0  Добавить два новых канала привлечения трафика,...      3\n",
       "1  Запустить собственную службу доставки, что сок...      2\n",
       "2  Добавить блоки рекомендаций товаров на сайт ин...      8\n",
       "3  Изменить структура категорий, что увеличит кон...      8\n",
       "4  Изменить цвет фона главной страницы, чтобы уве...      3\n",
       "5  Добавить страницу отзывов клиентов о магазине,...      3\n",
       "6  Показать на главной странице баннеры с актуаль...      5\n",
       "7  Добавить форму подписки на все основные страни...     10\n",
       "8  Запустить акцию, дающую скидку на товар в день...      1"
      ]
     },
     "metadata": {},
     "output_type": "display_data"
    },
    {
     "data": {
      "text/html": [
       "<div>\n",
       "<style scoped>\n",
       "    .dataframe tbody tr th:only-of-type {\n",
       "        vertical-align: middle;\n",
       "    }\n",
       "\n",
       "    .dataframe tbody tr th {\n",
       "        vertical-align: top;\n",
       "    }\n",
       "\n",
       "    .dataframe thead th {\n",
       "        text-align: right;\n",
       "    }\n",
       "</style>\n",
       "<table border=\"1\" class=\"dataframe\">\n",
       "  <thead>\n",
       "    <tr style=\"text-align: right;\">\n",
       "      <th></th>\n",
       "      <th>Hypothesis</th>\n",
       "      <th>RICE</th>\n",
       "    </tr>\n",
       "  </thead>\n",
       "  <tbody>\n",
       "    <tr>\n",
       "      <th>7</th>\n",
       "      <td>Добавить форму подписки на все основные страни...</td>\n",
       "      <td>112.0</td>\n",
       "    </tr>\n",
       "    <tr>\n",
       "      <th>2</th>\n",
       "      <td>Добавить блоки рекомендаций товаров на сайт ин...</td>\n",
       "      <td>56.0</td>\n",
       "    </tr>\n",
       "    <tr>\n",
       "      <th>0</th>\n",
       "      <td>Добавить два новых канала привлечения трафика,...</td>\n",
       "      <td>40.0</td>\n",
       "    </tr>\n",
       "    <tr>\n",
       "      <th>6</th>\n",
       "      <td>Показать на главной странице баннеры с актуаль...</td>\n",
       "      <td>40.0</td>\n",
       "    </tr>\n",
       "    <tr>\n",
       "      <th>8</th>\n",
       "      <td>Запустить акцию, дающую скидку на товар в день...</td>\n",
       "      <td>16.2</td>\n",
       "    </tr>\n",
       "    <tr>\n",
       "      <th>3</th>\n",
       "      <td>Изменить структура категорий, что увеличит кон...</td>\n",
       "      <td>9.0</td>\n",
       "    </tr>\n",
       "    <tr>\n",
       "      <th>1</th>\n",
       "      <td>Запустить собственную службу доставки, что сок...</td>\n",
       "      <td>4.0</td>\n",
       "    </tr>\n",
       "    <tr>\n",
       "      <th>5</th>\n",
       "      <td>Добавить страницу отзывов клиентов о магазине,...</td>\n",
       "      <td>4.0</td>\n",
       "    </tr>\n",
       "    <tr>\n",
       "      <th>4</th>\n",
       "      <td>Изменить цвет фона главной страницы, чтобы уве...</td>\n",
       "      <td>3.0</td>\n",
       "    </tr>\n",
       "  </tbody>\n",
       "</table>\n",
       "</div>"
      ],
      "text/plain": [
       "                                          Hypothesis   RICE\n",
       "7  Добавить форму подписки на все основные страни...  112.0\n",
       "2  Добавить блоки рекомендаций товаров на сайт ин...   56.0\n",
       "0  Добавить два новых канала привлечения трафика,...   40.0\n",
       "6  Показать на главной странице баннеры с актуаль...   40.0\n",
       "8  Запустить акцию, дающую скидку на товар в день...   16.2\n",
       "3  Изменить структура категорий, что увеличит кон...    9.0\n",
       "1  Запустить собственную службу доставки, что сок...    4.0\n",
       "5  Добавить страницу отзывов клиентов о магазине,...    4.0\n",
       "4  Изменить цвет фона главной страницы, чтобы уве...    3.0"
      ]
     },
     "metadata": {},
     "output_type": "display_data"
    }
   ],
   "source": [
    "# посмотрим на столбец Reach\n",
    "\n",
    "display(data[['Hypothesis','Reach']])\n",
    "\n",
    "display(data[['Hypothesis','RICE']].sort_values(by='RICE',ascending=False))"
   ]
  },
  {
   "cell_type": "markdown",
   "id": "f9676d01",
   "metadata": {},
   "source": [
    "Можем наблюдать, что параметр Reach у гипотезы номер 7 равен 10, а у гипотезы номер 8 - одному\n",
    "\n",
    "То есть, при выборе гипотезы номер 7 изменение, которое мы хотим внести, коснется бОльшего числа пользователей, чем при выборе гипотезы номер 8\n",
    "\n",
    "Отсюда изменение в приоритизации при применении разных способов"
   ]
  },
  {
   "cell_type": "markdown",
   "id": "220d3d01",
   "metadata": {},
   "source": [
    "# Часть 2. Анализ A/B-теста"
   ]
  },
  {
   "cell_type": "code",
   "execution_count": 11,
   "id": "ca3fa6bf",
   "metadata": {
    "scrolled": true
   },
   "outputs": [
    {
     "name": "stdout",
     "output_type": "stream",
     "text": [
      "   transactionId   visitorId        date  revenue group\n",
      "0     3667963787  3312258926  2019-08-15     1650     B\n",
      "1     2804400009  3642806036  2019-08-15      730     B\n",
      "2     2961555356  4069496402  2019-08-15      400     A\n",
      "3     3797467345  1196621759  2019-08-15     9759     B\n",
      "4     2282983706  2322279887  2019-08-15     2308     B\n",
      "         date group  visitors\n",
      "0  2019-08-01     A       719\n",
      "1  2019-08-02     A       619\n",
      "2  2019-08-03     A       507\n",
      "3  2019-08-04     A       717\n",
      "4  2019-08-05     A       756\n"
     ]
    }
   ],
   "source": [
    "# посмотрим на данные\n",
    "\n",
    "print(orders.head())\n",
    "\n",
    "print(visitors.head())"
   ]
  },
  {
   "cell_type": "markdown",
   "id": "c5baceab",
   "metadata": {},
   "source": [
    "Проведем предобработку данных"
   ]
  },
  {
   "cell_type": "code",
   "execution_count": 12,
   "id": "43ef3b52",
   "metadata": {
    "scrolled": true
   },
   "outputs": [
    {
     "data": {
      "text/plain": [
       "transactionId    0\n",
       "visitorId        0\n",
       "date             0\n",
       "revenue          0\n",
       "group            0\n",
       "dtype: int64"
      ]
     },
     "metadata": {},
     "output_type": "display_data"
    },
    {
     "data": {
      "text/plain": [
       "date        0\n",
       "group       0\n",
       "visitors    0\n",
       "dtype: int64"
      ]
     },
     "metadata": {},
     "output_type": "display_data"
    }
   ],
   "source": [
    "# проверим данные на наличие пропусков \n",
    "\n",
    "display(orders.isna().sum())\n",
    "display(visitors.isna().sum())"
   ]
  },
  {
   "cell_type": "code",
   "execution_count": 13,
   "id": "4c75c170",
   "metadata": {
    "scrolled": true
   },
   "outputs": [
    {
     "data": {
      "text/plain": [
       "0"
      ]
     },
     "metadata": {},
     "output_type": "display_data"
    },
    {
     "data": {
      "text/plain": [
       "0"
      ]
     },
     "metadata": {},
     "output_type": "display_data"
    }
   ],
   "source": [
    "#проверка на дубликаты\n",
    "\n",
    "display(orders.duplicated().sum())\n",
    "display(visitors.duplicated().sum())"
   ]
  },
  {
   "cell_type": "markdown",
   "id": "f0337052",
   "metadata": {},
   "source": [
    "Пропусков и дубликатов в данных не обнаружено"
   ]
  },
  {
   "cell_type": "markdown",
   "id": "10a3489f",
   "metadata": {},
   "source": [
    "Посмотрим на количество групп в А/В тесте"
   ]
  },
  {
   "cell_type": "code",
   "execution_count": 14,
   "id": "86a4f2d4",
   "metadata": {},
   "outputs": [
    {
     "name": "stdout",
     "output_type": "stream",
     "text": [
      "  group  visitorId\n",
      "0     A        557\n",
      "1     B        640\n"
     ]
    }
   ],
   "source": [
    "orders_new = (\n",
    "    orders.groupby('group', as_index=False)\n",
    "    .agg({'visitorId': 'count'})\n",
    ")\n",
    "\n",
    "print(orders_new)"
   ]
  },
  {
   "cell_type": "markdown",
   "id": "da8d4f27",
   "metadata": {},
   "source": [
    "Всего наблюдаем две группы: А и В\n",
    "\n",
    "Видим, что в группе В пользователей несколько больше, чем в группе А"
   ]
  },
  {
   "cell_type": "markdown",
   "id": "8544437b",
   "metadata": {},
   "source": [
    "Так же проверим, не попадают ли у нас пользователи в обе группы"
   ]
  },
  {
   "cell_type": "code",
   "execution_count": 15,
   "id": "cb690e9e",
   "metadata": {},
   "outputs": [
    {
     "name": "stdout",
     "output_type": "stream",
     "text": [
      "(1197, 5)\n"
     ]
    }
   ],
   "source": [
    "#проверим на попадания в обе группы\n",
    "\n",
    "mask = orders.loc[orders[\"group\"]==\"a\", \"visitorId\"].isin(orders.loc[orders[\"group\"]==\"b\", \"visitorId\"])\n",
    "res = orders.drop(mask[mask].index)\n",
    "print(res.shape)"
   ]
  },
  {
   "cell_type": "markdown",
   "id": "1c02d1d0",
   "metadata": {},
   "source": [
    "Таких совпадений мы не обнаружили"
   ]
  },
  {
   "cell_type": "markdown",
   "id": "33999a35",
   "metadata": {},
   "source": [
    "Проверим также период, за который нам доступны данные"
   ]
  },
  {
   "cell_type": "code",
   "execution_count": 16,
   "id": "1209010b",
   "metadata": {
    "scrolled": true
   },
   "outputs": [
    {
     "name": "stdout",
     "output_type": "stream",
     "text": [
      "2019-08-01 2019-08-31\n"
     ]
    }
   ],
   "source": [
    "print(orders['date'].min(),\n",
    "orders['date'].max())"
   ]
  },
  {
   "cell_type": "markdown",
   "id": "03137e5e",
   "metadata": {},
   "source": [
    "Данные представлены за август 2019 года"
   ]
  },
  {
   "cell_type": "markdown",
   "id": "bf771354",
   "metadata": {},
   "source": [
    "## Построим график кумулятивной выручки по группам. Сделаем выводы и предположения"
   ]
  },
  {
   "cell_type": "code",
   "execution_count": 17,
   "id": "dc0af3e3",
   "metadata": {},
   "outputs": [],
   "source": [
    "# Создадим датафрейм datesGroups с уникальными парами значений 'date' и 'group', избавившись от дубликатов\n",
    "\n",
    "datesGroups = orders[['date','group']].drop_duplicates() \n"
   ]
  },
  {
   "cell_type": "code",
   "execution_count": 18,
   "id": "9367c435",
   "metadata": {},
   "outputs": [],
   "source": [
    "# Объявим переменную ordersAggregated\n",
    "\n",
    "ordersAggregated=datesGroups.apply(\n",
    "    lambda x: orders[np.logical_and(orders['date'] <= x['date'], orders['group'] == x['group'])].agg({\n",
    "'date' : 'max',\n",
    "'group' : 'max',\n",
    "'transactionId' : pd.Series.nunique,\n",
    "'visitorId' : pd.Series.nunique,\n",
    "'revenue' : 'sum'}), axis=1).sort_values(by=['date','group'])"
   ]
  },
  {
   "cell_type": "code",
   "execution_count": 19,
   "id": "23a61e7b",
   "metadata": {},
   "outputs": [],
   "source": [
    "# Объявим переменную visitorsAggregated\n",
    "\n",
    "visitorsAggregated=datesGroups.apply(\n",
    "    lambda x: visitors[np.logical_and(visitors['date'] <= x['date'], visitors['group'] == x['group'])].agg({\n",
    "'date' : 'max',\n",
    "'group' : 'max',\n",
    "'visitors' : 'sum'}), axis=1).sort_values(by=['date','group'])"
   ]
  },
  {
   "cell_type": "code",
   "execution_count": 20,
   "id": "ee9e6d53",
   "metadata": {},
   "outputs": [],
   "source": [
    "# Определим переменную cumulativeData c новыми названиями столбцов\n",
    "\n",
    "cumulativeData = ordersAggregated.merge(visitorsAggregated, left_on=['date', 'group'], right_on=['date', 'group'])\n",
    "\n",
    "cumulativeData.columns = ['date', 'group', 'orders', 'buyers', 'revenue', 'visitors']"
   ]
  },
  {
   "cell_type": "code",
   "execution_count": 21,
   "id": "42bc126a",
   "metadata": {},
   "outputs": [],
   "source": [
    "# Объявим переменные cumulativeRevenueA и cumulativeRevenueB с данными из групп А и В\n",
    "\n",
    "cumulativeRevenueA = cumulativeData[cumulativeData['group']=='A'][['date','revenue', 'orders']]\n",
    "\n",
    "cumulativeRevenueB = cumulativeData[cumulativeData['group']=='B'][['date','revenue', 'orders']]"
   ]
  },
  {
   "cell_type": "code",
   "execution_count": 22,
   "id": "f1527fd2",
   "metadata": {},
   "outputs": [
    {
     "data": {
      "image/png": "[encoded data removed]",
      "text/plain": [
       "<Figure size 1152x504 with 1 Axes>"
      ]
     },
     "metadata": {
      "needs_background": "light"
     },
     "output_type": "display_data"
    }
   ],
   "source": [
    "# Строим график выручки группы А\n",
    "\n",
    "plt.figure(figsize=(16, 7));\n",
    "plt.plot(cumulativeRevenueA['date'], cumulativeRevenueA['revenue'], label='A')\n",
    "\n",
    "# Строим график выручки группы B\n",
    "\n",
    "plt.plot(cumulativeRevenueB['date'], cumulativeRevenueB['revenue'], label='B')\n",
    "plt.xlabel('Дата');\n",
    "plt.ylabel('Выручка')\n",
    "plt.legend()\n",
    "plt.title('График кумулятивной выручки по группам')\n",
    "plt.xticks(rotation=45)\n",
    "plt.grid()\n",
    "plt.show();"
   ]
  },
  {
   "cell_type": "markdown",
   "id": "5bc0dea3",
   "metadata": {},
   "source": [
    "Из графика видно, что приблизительно после середины теста группа В значительно стала превосходить группу А\n",
    "\n",
    "Можем сделать предположение, что в этот момент произошли какие-то большие заказы, которые могли повлиять на группу В"
   ]
  },
  {
   "cell_type": "markdown",
   "id": "ceb00201",
   "metadata": {},
   "source": [
    "## Построим график кумулятивного среднего чека по группам. Сделаем выводы и предположения"
   ]
  },
  {
   "cell_type": "markdown",
   "id": "39687799",
   "metadata": {},
   "source": [
    "Для построения графикв среднего чека по группам — разделим кумулятивную выручку на кумулятивное число заказов"
   ]
  },
  {
   "cell_type": "code",
   "execution_count": 23,
   "id": "f1fdf2cd",
   "metadata": {},
   "outputs": [
    {
     "data": {
      "image/png": "[encoded data removed]",
      "text/plain": [
       "<Figure size 1152x504 with 1 Axes>"
      ]
     },
     "metadata": {
      "needs_background": "light"
     },
     "output_type": "display_data"
    }
   ],
   "source": [
    "# построим графики для обоих сегментов\n",
    "\n",
    "plt.figure(figsize=(16, 7))\n",
    "plt.plot(cumulativeRevenueA['date'], cumulativeRevenueA['revenue']/cumulativeRevenueA['orders'], label='A')\n",
    "plt.plot(cumulativeRevenueB['date'], cumulativeRevenueB['revenue']/cumulativeRevenueB['orders'], label='B')\n",
    "plt.xlabel('Дата');\n",
    "plt.ylabel('Средний чек')\n",
    "plt.legend()\n",
    "plt.title('График кумулятивного среднего чека по группам')\n",
    "plt.xticks(rotation=45)\n",
    "plt.grid()\n",
    "plt.show()"
   ]
  },
  {
   "cell_type": "markdown",
   "id": "85bebc8a",
   "metadata": {},
   "source": [
    "Наблюдаем нестабильность среднего чека по двум сегментам - А и В\n",
    "\n",
    "Вероятно, эта метрика не позволит нам принять верное решение\n",
    "\n",
    "Искажать результаты могут выбросы, возможно, потребуется дополнительно исследовать и проанализировать их"
   ]
  },
  {
   "cell_type": "markdown",
   "id": "b3587d26",
   "metadata": {},
   "source": [
    "## Построим график относительного изменения кумулятивного среднего чека группы B к группе A. Сделаем выводы и предположения"
   ]
  },
  {
   "cell_type": "markdown",
   "id": "24534bbe",
   "metadata": {},
   "source": [
    "Объединим таблицы cumulativeRevenueA и cumulativeRevenueB в переменной mergedCumulativeRevenue\n",
    "\n",
    "Затем построим график относительно различия кумулятивного среднего чека группы B к группе A"
   ]
  },
  {
   "cell_type": "code",
   "execution_count": 24,
   "id": "de5f30d7",
   "metadata": {},
   "outputs": [],
   "source": [
    "# обьединим таблицы\n",
    "\n",
    "mergedCumulativeRevenue = cumulativeRevenueA.merge(cumulativeRevenueB, left_on='date',\\\n",
    "                                                   right_on='date', how='left', suffixes=['A', 'B'])"
   ]
  },
  {
   "cell_type": "code",
   "execution_count": 25,
   "id": "caf1eef1",
   "metadata": {},
   "outputs": [
    {
     "data": {
      "image/png": "[encoded data removed]",
      "text/plain": [
       "<Figure size 1152x504 with 1 Axes>"
      ]
     },
     "metadata": {
      "needs_background": "light"
     },
     "output_type": "display_data"
    }
   ],
   "source": [
    "# построим график, добавив пунктирную линию оси Х\n",
    "\n",
    "plt.figure(figsize=(16, 7))\n",
    "plt.plot(mergedCumulativeRevenue['date'], (mergedCumulativeRevenue['revenueB']/mergedCumulativeRevenue['ordersB'])\\\n",
    "         /(mergedCumulativeRevenue['revenueA']/mergedCumulativeRevenue['ordersA'])-1)\n",
    "\n",
    "plt.axhline(y=0, color='red', linestyle='--')\n",
    "plt.xlabel('Дата')\n",
    "plt.title('График относительного изменения кумулятивного среднего чека группы B к группе A')\n",
    "plt.xticks(rotation=45)\n",
    "plt.grid()\n",
    "plt.show()"
   ]
  },
  {
   "cell_type": "markdown",
   "id": "b38d38e5",
   "metadata": {},
   "source": [
    "На графике мы можем наблюдать относительное различие в среднем чеке между группами А и В\n",
    "\n",
    "В некоторые даты результаты теста резко меняются\n",
    "\n",
    "Вероятно, это связано с аномальными заказами в одной из групп"
   ]
  },
  {
   "cell_type": "markdown",
   "id": "d3535e18",
   "metadata": {},
   "source": [
    "## Построим график кумулятивного среднего количества заказов по группам. Сделаем выводы и предположения"
   ]
  },
  {
   "cell_type": "code",
   "execution_count": 26,
   "id": "327cb52e",
   "metadata": {},
   "outputs": [
    {
     "data": {
      "image/png": "[encoded data removed]",
      "text/plain": [
       "<Figure size 1152x504 with 1 Axes>"
      ]
     },
     "metadata": {
      "needs_background": "light"
     },
     "output_type": "display_data"
    }
   ],
   "source": [
    "# Строим график  группы А\n",
    "\n",
    "plt.figure(figsize=(16, 7))\n",
    "plt.plot(cumulativeRevenueA['date'], cumulativeRevenueA['orders'], label='A')\n",
    "\n",
    "# Строим график  группы B\n",
    "\n",
    "plt.plot(cumulativeRevenueB['date'], cumulativeRevenueB['orders'], label='B')\n",
    "plt.xlabel('Дата');\n",
    "plt.ylabel('Заказы')\n",
    "plt.legend()\n",
    "plt.title('График кумулятивного среднего количества заказов по группам')\n",
    "plt.xticks(rotation=45)\n",
    "plt.grid()\n",
    "plt.show()"
   ]
  },
  {
   "cell_type": "markdown",
   "id": "69a3086e",
   "metadata": {},
   "source": [
    "Можем наблюдать, что среднее количество заказов в группе В с какого-то момента времени становится больше, чем в группе А\n",
    "\n",
    "И в дальнейшем в течении времени эта разница сохраняется\n",
    "\n",
    "Можно предположить, что в этот определенный момент времени произошло какое-то событие, которое повлияло на количество заказов в группе В"
   ]
  },
  {
   "cell_type": "markdown",
   "id": "d125697f",
   "metadata": {},
   "source": [
    "## Построим график относительного изменения кумулятивного среднего количества заказов группы B к группе A. Сделаем выводы и предположения"
   ]
  },
  {
   "cell_type": "code",
   "execution_count": 27,
   "id": "aba0cd83",
   "metadata": {},
   "outputs": [
    {
     "data": {
      "image/png": "[encoded data removed]",
      "text/plain": [
       "<Figure size 1152x504 with 1 Axes>"
      ]
     },
     "metadata": {
      "needs_background": "light"
     },
     "output_type": "display_data"
    }
   ],
   "source": [
    "# построим график, добавив пунктирную линию оси Х\n",
    "\n",
    "plt.figure(figsize=(16, 7))\n",
    "plt.plot(mergedCumulativeRevenue['date'], mergedCumulativeRevenue['ordersB']/mergedCumulativeRevenue['ordersA']-1)\n",
    "\n",
    "plt.axhline(y=0, color='red', linestyle='--')\n",
    "plt.xlabel('Дата')\n",
    "plt.title('График относительного изменения кумулятивного среднего количества заказов группы B к группе A')\n",
    "plt.xticks(rotation=45)\n",
    "plt.grid()\n",
    "plt.show()"
   ]
  },
  {
   "cell_type": "markdown",
   "id": "3c5f3763",
   "metadata": {},
   "source": [
    "Комулятивное среднее количество заказов в группе В почти с самого начала теста оказалось выше, чем в группе А\n",
    "\n",
    "Можно предположить, что в этот определенный момент времени произошло какое-то событие, которое повлияло на количество заказов в группе В"
   ]
  },
  {
   "cell_type": "markdown",
   "id": "1bb6bc45",
   "metadata": {},
   "source": [
    "## Построим точечный график количества заказов по пользователям. Сделаем выводы и предположения"
   ]
  },
  {
   "cell_type": "code",
   "execution_count": 28,
   "id": "16dd9db0",
   "metadata": {},
   "outputs": [
    {
     "name": "stdout",
     "output_type": "stream",
     "text": [
      "          userId  orders\n",
      "1023  4256040402      11\n",
      "591   2458001652      11\n",
      "569   2378935119       9\n",
      "487   2038680547       8\n",
      "44     199603092       5\n",
      "744   3062433592       5\n",
      "55     237748145       5\n",
      "917   3803269165       5\n",
      "299   1230306981       5\n",
      "897   3717692402       5\n"
     ]
    }
   ],
   "source": [
    "# сгруппируем таблицу с заказами по пользователям и посмотрим на количество заказов\n",
    "\n",
    "ordersByUsers = (\n",
    "    orders.groupby('visitorId', as_index=False)\n",
    "    .agg({'transactionId': 'nunique'})\n",
    ")\n",
    "ordersByUsers.columns = ['userId', 'orders']\n",
    "\n",
    "print(ordersByUsers.sort_values(by='orders', ascending=False).head(10))"
   ]
  },
  {
   "cell_type": "code",
   "execution_count": 29,
   "id": "5818e4a3",
   "metadata": {
    "scrolled": false
   },
   "outputs": [
    {
     "data": {
      "image/png": "[encoded data removed]",
      "text/plain": [
       "<Figure size 1152x504 with 1 Axes>"
      ]
     },
     "metadata": {
      "needs_background": "light"
     },
     "output_type": "display_data"
    }
   ],
   "source": [
    "# строим диаграмму методом scatter()\n",
    "\n",
    "x_values = pd.Series(range(0, len(ordersByUsers)))\n",
    "plt.figure(figsize=(16, 7))\n",
    "plt.scatter(x_values, ordersByUsers['orders'])\n",
    "plt.title('Точечный график количества заказов по пользователям')\n",
    "plt.xlabel('Пользователи');\n",
    "plt.ylabel('Заказы')\n",
    "plt.grid()\n",
    "plt.show()"
   ]
  },
  {
   "cell_type": "markdown",
   "id": "04f24676",
   "metadata": {},
   "source": [
    "Как можно увидеть из графика, в основном пользователи совершают до 4-5 заказов\n",
    "\n",
    "Но есть и те, кто совершает по 10 и более покупок\n",
    "\n",
    "Такие пользователи могут влиять в дальнейшем на наше исследование"
   ]
  },
  {
   "cell_type": "markdown",
   "id": "149d8b7f",
   "metadata": {},
   "source": [
    "## Посчитаем 95-й и 99-й перцентили количества заказов на пользователя. Выберем границу для определения аномальных пользователей"
   ]
  },
  {
   "cell_type": "code",
   "execution_count": 30,
   "id": "f3002d7a",
   "metadata": {},
   "outputs": [
    {
     "name": "stdout",
     "output_type": "stream",
     "text": [
      "          userId  orders\n",
      "1023  4256040402      11\n",
      "591   2458001652      11\n",
      "569   2378935119       9\n",
      "487   2038680547       8\n",
      "44     199603092       5\n",
      "744   3062433592       5\n",
      "55     237748145       5\n",
      "917   3803269165       5\n",
      "299   1230306981       5\n",
      "897   3717692402       5\n"
     ]
    }
   ],
   "source": [
    "print(ordersByUsers.sort_values(by='orders', ascending=False).head(10))"
   ]
  },
  {
   "cell_type": "code",
   "execution_count": 31,
   "id": "ee470a1c",
   "metadata": {
    "scrolled": true
   },
   "outputs": [
    {
     "name": "stdout",
     "output_type": "stream",
     "text": [
      "[1. 2. 4.]\n"
     ]
    }
   ],
   "source": [
    "# взглянем на 90, 95 и 99 перцентили количества заказов на одного пользователя\n",
    "\n",
    "print(np.percentile(ordersByUsers['orders'], [90, 95, 99]))"
   ]
  },
  {
   "cell_type": "markdown",
   "id": "5444d6ca",
   "metadata": {},
   "source": [
    "Не более 5% пользователей оформляли больше чем 2 заказа.\n",
    "\n",
    "Больше четырех заказов оформило менее одного процента пользователей\n",
    "\n",
    "Примем за аномальных пользователей тех, кто совершил от 4 заказов и более\n",
    "\n",
    "Так мы уберём 1% пользователей с наибольшим числом заказов \n"
   ]
  },
  {
   "cell_type": "markdown",
   "id": "848a1fe8",
   "metadata": {},
   "source": [
    "## Построим точечный график стоимостей заказов. Сделаем выводы и предположения"
   ]
  },
  {
   "cell_type": "code",
   "execution_count": 32,
   "id": "e19becca",
   "metadata": {},
   "outputs": [
    {
     "name": "stdout",
     "output_type": "stream",
     "text": [
      "      transactionId   visitorId        date  revenue group\n",
      "425       590470918  1920142716  2019-08-19  1294500     B\n",
      "1196     3936777065  2108080724  2019-08-15   202740     B\n",
      "858       192721366  1316129916  2019-08-27    93940     A\n",
      "1136      666610489  1307669133  2019-08-13    92550     A\n",
      "744      3668308183   888512513  2019-08-27    86620     B\n",
      "682      1216533772  4266935830  2019-08-29    78990     B\n",
      "662      1811671147  4266935830  2019-08-29    78990     A\n",
      "743      3603576309  4133034833  2019-08-09    67990     A\n",
      "1103     1348774318  1164614297  2019-08-12    66350     A\n",
      "1099      316924019   148427295  2019-08-12    65710     A\n"
     ]
    }
   ],
   "source": [
    "# отсортируем по уменьшению стоиомсти заказов\n",
    "\n",
    "print(orders.sort_values(by='revenue', ascending=False).head(10))"
   ]
  },
  {
   "cell_type": "code",
   "execution_count": 33,
   "id": "f4352b89",
   "metadata": {
    "scrolled": false
   },
   "outputs": [
    {
     "data": {
      "image/png": "[encoded data removed]",
      "text/plain": [
       "<Figure size 1152x504 with 1 Axes>"
      ]
     },
     "metadata": {
      "needs_background": "light"
     },
     "output_type": "display_data"
    }
   ],
   "source": [
    "#строим диаграмму методом scatter()\n",
    "\n",
    "x_values = pd.Series(range(0, len(orders['revenue'])))\n",
    "plt.figure(figsize=(16, 7))\n",
    "plt.scatter(x_values, orders['revenue'])\n",
    "plt.title('Точечный график стоимостей заказов')\n",
    "plt.xlabel('Пользователи');\n",
    "plt.ylabel('Стоимость заказов')\n",
    "plt.grid()\n",
    "plt.show()"
   ]
  },
  {
   "cell_type": "markdown",
   "id": "26f1e572",
   "metadata": {},
   "source": [
    "Видим, что есть заказы стоиомостью выше 100 000 и даже 200 000 \n",
    "\n",
    "Но они редки\n",
    "\n",
    "В основном стоимости находятся в диапазоне до 50 тысяч"
   ]
  },
  {
   "cell_type": "markdown",
   "id": "6f6e6582",
   "metadata": {},
   "source": [
    "## Посчитаем 95-й и 99-й перцентили стоимости заказов. Выберем границу для определения аномальных заказов"
   ]
  },
  {
   "cell_type": "code",
   "execution_count": 34,
   "id": "0e9f6dbb",
   "metadata": {},
   "outputs": [
    {
     "name": "stdout",
     "output_type": "stream",
     "text": [
      "      transactionId   visitorId        date  revenue group\n",
      "425       590470918  1920142716  2019-08-19  1294500     B\n",
      "1196     3936777065  2108080724  2019-08-15   202740     B\n",
      "858       192721366  1316129916  2019-08-27    93940     A\n",
      "1136      666610489  1307669133  2019-08-13    92550     A\n",
      "744      3668308183   888512513  2019-08-27    86620     B\n",
      "682      1216533772  4266935830  2019-08-29    78990     B\n",
      "662      1811671147  4266935830  2019-08-29    78990     A\n",
      "743      3603576309  4133034833  2019-08-09    67990     A\n",
      "1103     1348774318  1164614297  2019-08-12    66350     A\n",
      "1099      316924019   148427295  2019-08-12    65710     A\n"
     ]
    }
   ],
   "source": [
    "print(orders.sort_values(by='revenue', ascending=False).head(10))"
   ]
  },
  {
   "cell_type": "code",
   "execution_count": 35,
   "id": "253f43ca",
   "metadata": {},
   "outputs": [
    {
     "name": "stdout",
     "output_type": "stream",
     "text": [
      "[18168.  28000.  58233.2]\n"
     ]
    }
   ],
   "source": [
    "# взглянем на 90, 95 и 99 перцентили стоимости заказов\n",
    "\n",
    "print(np.percentile(orders['revenue'], [90, 95, 99]))"
   ]
  },
  {
   "cell_type": "markdown",
   "id": "e516f0f1",
   "metadata": {},
   "source": [
    "Менее одного процента заказов имели стоимость свыше 58 000\n",
    "\n",
    "И не более 10 процентов - выше 18 000\n",
    "\n",
    "Примем за аномальных пользователей тех, кто совершил заказ дороже 28 000 рублей\n",
    "\n",
    "Так мы уберём 5% пользователей с дорогими заказами\n",
    "\n"
   ]
  },
  {
   "cell_type": "markdown",
   "id": "4ab2e0fd",
   "metadata": {},
   "source": [
    "## Посчитаем статистическую значимость различий в среднем количестве заказов между группами по «сырым» данным. Сделаем выводы и предположения"
   ]
  },
  {
   "cell_type": "markdown",
   "id": "ba02281e",
   "metadata": {},
   "source": [
    "Посчитаем статистическую значимость различий в среднем числе заказов на пользователя и среднем чеке между группами по «сырым» данным — без удаления аномальных пользователей.\n",
    "\n",
    "Сформулируем гипотезы. Нулевая: различий в среднем количестве заказов между группами нет. Альтернативная: различия в среднем между группами есть"
   ]
  },
  {
   "cell_type": "markdown",
   "id": "1aabd313",
   "metadata": {},
   "source": [
    "Создадим таблицу data"
   ]
  },
  {
   "cell_type": "code",
   "execution_count": 36,
   "id": "c0e63f49",
   "metadata": {},
   "outputs": [
    {
     "name": "stdout",
     "output_type": "stream",
     "text": [
      "         date  ordersPerDateA  revenuePerDateA  ordersPerDateB  \\\n",
      "0  2019-08-01              24           148579              21   \n",
      "1  2019-08-02              20            93822              24   \n",
      "2  2019-08-03              24           112473              16   \n",
      "3  2019-08-04              16            70825              17   \n",
      "4  2019-08-05              25           124218              23   \n",
      "\n",
      "   revenuePerDateB  ordersCummulativeA  revenueCummulativeA  \\\n",
      "0           101217                  24               148579   \n",
      "1           165531                  44               242401   \n",
      "2           114248                  68               354874   \n",
      "3           108571                  84               425699   \n",
      "4            92428                 109               549917   \n",
      "\n",
      "   ordersCummulativeB  revenueCummulativeB  visitorsPerDateA  \\\n",
      "0                  21               101217               719   \n",
      "1                  45               266748               619   \n",
      "2                  61               380996               507   \n",
      "3                  78               489567               717   \n",
      "4                 101               581995               756   \n",
      "\n",
      "   visitorsPerDateB  visitorsCummulativeA  visitorsCummulativeB  \n",
      "0               713                   719                   713  \n",
      "1               581                  1338                  1294  \n",
      "2               509                  1845                  1803  \n",
      "3               770                  2562                  2573  \n",
      "4               707                  3318                  3280  \n"
     ]
    }
   ],
   "source": [
    "visitorsADaily = visitors[visitors['group'] == 'A'][['date', 'visitors']]\n",
    "visitorsADaily.columns = ['date', 'visitorsPerDateA']\n",
    "\n",
    "visitorsACummulative = visitorsADaily.apply(\n",
    "    lambda x: visitorsADaily[visitorsADaily['date'] <= x['date']].agg(\n",
    "        {'date': 'max', 'visitorsPerDateA': 'sum'}\n",
    "    ),\n",
    "    axis=1,\n",
    ")\n",
    "visitorsACummulative.columns = ['date', 'visitorsCummulativeA']\n",
    "\n",
    "visitorsBDaily = visitors[visitors['group'] == 'B'][['date', 'visitors']]\n",
    "visitorsBDaily.columns = ['date', 'visitorsPerDateB']\n",
    "\n",
    "visitorsBCummulative = visitorsBDaily.apply(\n",
    "    lambda x: visitorsBDaily[visitorsBDaily['date'] <= x['date']].agg(\n",
    "        {'date': 'max', 'visitorsPerDateB': 'sum'}\n",
    "    ),\n",
    "    axis=1,\n",
    ")\n",
    "visitorsBCummulative.columns = ['date', 'visitorsCummulativeB']\n",
    "\n",
    "ordersADaily = (\n",
    "    orders[orders['group'] == 'A'][['date', 'transactionId', 'visitorId', 'revenue']]\n",
    "    .groupby('date', as_index=False)\n",
    "    .agg({'transactionId': pd.Series.nunique, 'revenue': 'sum'})\n",
    ")\n",
    "ordersADaily.columns = ['date', 'ordersPerDateA', 'revenuePerDateA']\n",
    "\n",
    "ordersACummulative = ordersADaily.apply(\n",
    "    lambda x: ordersADaily[ordersADaily['date'] <= x['date']].agg(\n",
    "        {'date': 'max', 'ordersPerDateA': 'sum', 'revenuePerDateA': 'sum'}\n",
    "    ),\n",
    "    axis=1,\n",
    ").sort_values(by=['date'])\n",
    "ordersACummulative.columns = [\n",
    "    'date',\n",
    "    'ordersCummulativeA',\n",
    "    'revenueCummulativeA',\n",
    "]\n",
    "\n",
    "ordersBDaily = (\n",
    "    orders[orders['group'] == 'B'][['date', 'transactionId', 'visitorId', 'revenue']]\n",
    "    .groupby('date', as_index=False)\n",
    "    .agg({'transactionId': pd.Series.nunique, 'revenue': 'sum'})\n",
    ")\n",
    "ordersBDaily.columns = ['date', 'ordersPerDateB', 'revenuePerDateB']\n",
    "\n",
    "ordersBCummulative = ordersBDaily.apply(\n",
    "    lambda x: ordersBDaily[ordersBDaily['date'] <= x['date']].agg(\n",
    "        {'date': 'max', 'ordersPerDateB': 'sum', 'revenuePerDateB': 'sum'}\n",
    "    ),\n",
    "    axis=1,\n",
    ").sort_values(by=['date'])\n",
    "ordersBCummulative.columns = [\n",
    "    'date',\n",
    "    'ordersCummulativeB',\n",
    "    'revenueCummulativeB',\n",
    "]\n",
    "\n",
    "data = (\n",
    "    ordersADaily.merge(\n",
    "        ordersBDaily, left_on='date', right_on='date', how='left'\n",
    "    )\n",
    "    .merge(ordersACummulative, left_on='date', right_on='date', how='left')\n",
    "    .merge(ordersBCummulative, left_on='date', right_on='date', how='left')\n",
    "    .merge(visitorsADaily, left_on='date', right_on='date', how='left')\n",
    "    .merge(visitorsBDaily, left_on='date', right_on='date', how='left')\n",
    "    .merge(visitorsACummulative, left_on='date', right_on='date', how='left')\n",
    "    .merge(visitorsBCummulative, left_on='date', right_on='date', how='left')\n",
    ")\n",
    "\n",
    "print(data.head(5)) "
   ]
  },
  {
   "cell_type": "markdown",
   "id": "70003062",
   "metadata": {},
   "source": [
    "Мы создали следующие столбцы:\n",
    "\n",
    "* date — дата\n",
    "\n",
    "* ordersPerDateA — количество заказов в выбранную дату в группе A\n",
    "\n",
    "* revenuePerDateA — суммарная выручка в выбранную дату в группе A\n",
    "\n",
    "* ordersPerDateB — количество заказов в выбранную дату в группе B\n",
    "\n",
    "* revenuePerDateB — суммарная выручка в выбранную дату в группе B\n",
    "\n",
    "* ordersCummulativeA — суммарное число заказов до выбранной даты включительно в группе A\n",
    "\n",
    "* revenueCummulativeA — суммарная выручка до выбранной даты включительно в группе A\n",
    "\n",
    "* ordersCummulativeB — суммарное количество заказов до выбранной даты включительно в группе B\n",
    "\n",
    "* revenueCummulativeB — суммарная выручка до выбранной даты включительно в группе B\n",
    "\n",
    "* visitorsPerDateA — количество пользователей в выбранную дату в группе A\n",
    "\n",
    "* visitorsPerDateB — количество пользователей в выбранную дату в группе B\n",
    "\n",
    "* visitorsCummulativeA — количество пользователей до выбранной даты включительно в группе A\n",
    "\n",
    "* visitorsCummulativeB — количество пользователей до выбранной даты включительно в группе B\n"
   ]
  },
  {
   "cell_type": "markdown",
   "id": "4dfd47ec",
   "metadata": {},
   "source": [
    "Создадим переменные ordersByUsersA и ordersByUsersB со столбцами ['userId', 'orders'].\n",
    "\n",
    "В них для пользователей, которые заказывали хотя бы 1 раз, укажем число совершённых заказов"
   ]
  },
  {
   "cell_type": "code",
   "execution_count": 37,
   "id": "a3c99ddc",
   "metadata": {},
   "outputs": [],
   "source": [
    "ordersByUsersA = (\n",
    "    orders[orders['group'] == 'A']\n",
    "    .groupby('visitorId', as_index=False)\n",
    "    .agg({'transactionId': pd.Series.nunique})\n",
    ")\n",
    "ordersByUsersA.columns = ['userId', 'orders']\n",
    "\n",
    "ordersByUsersB = (\n",
    "    orders[orders['group'] == 'B']\n",
    "    .groupby('visitorId', as_index=False)\n",
    "    .agg({'transactionId': pd.Series.nunique})\n",
    ")\n",
    "ordersByUsersB.columns = ['userId', 'orders']"
   ]
  },
  {
   "cell_type": "markdown",
   "id": "b26f5ea7",
   "metadata": {},
   "source": [
    "Объявим переменные sampleA и sampleB, в которых пользователям из разных групп будет соответствовать количество заказов. \n",
    "\n",
    "Тем, кто ничего не заказал, будут соответствовать нули"
   ]
  },
  {
   "cell_type": "code",
   "execution_count": 38,
   "id": "601a0199",
   "metadata": {},
   "outputs": [],
   "source": [
    "sampleA = pd.concat(\n",
    "    [\n",
    "        ordersByUsersA['orders'],\n",
    "        pd.Series(\n",
    "            0,\n",
    "            index=np.arange(\n",
    "                data['visitorsPerDateA'].sum() - len(ordersByUsersA['orders'])\n",
    "            ),\n",
    "            name='orders',\n",
    "        ),\n",
    "    ],\n",
    "    axis=0,\n",
    ")\n",
    "\n",
    "sampleB = pd.concat(\n",
    "    [\n",
    "        ordersByUsersB['orders'],\n",
    "        pd.Series(\n",
    "            0,\n",
    "            index=np.arange(\n",
    "                data['visitorsPerDateB'].sum() - len(ordersByUsersB['orders'])\n",
    "            ),\n",
    "            name='orders',\n",
    "        ),\n",
    "    ],\n",
    "    axis=0,\n",
    ")\n"
   ]
  },
  {
   "cell_type": "markdown",
   "id": "38a6d83f",
   "metadata": {},
   "source": [
    "Применим критерий Манна-Уитни"
   ]
  },
  {
   "cell_type": "code",
   "execution_count": 39,
   "id": "90dddb78",
   "metadata": {},
   "outputs": [
    {
     "name": "stdout",
     "output_type": "stream",
     "text": [
      "p-value: 0.016792355056752608\n",
      "Относительные различия между группами: 0.13808\n"
     ]
    }
   ],
   "source": [
    "print('p-value:',(stats.mannwhitneyu(sampleA, sampleB)[1]))\n",
    "\n",
    "print('Относительные различия между группами: '\"{0:.5f}\".format(sampleB.mean() / sampleA.mean() - 1))"
   ]
  },
  {
   "cell_type": "markdown",
   "id": "9a4c7019",
   "metadata": {},
   "source": [
    "Первое число p-value = 0.0168 меньше 0.05\n",
    "\n",
    "Значит, нулевую гипотезу о том, что статистически значимых различий в среднем числе заказов между группами нет, можем отвергнуть\n",
    "\n",
    "То есть, можно предположить, что есть статистически значимые различия в среднем числе заказов между группами\n",
    "\n",
    "Второе число 0.13808 как раз показывает, что относительный выигрыш группы В по сравнению с группой А равен почти 14%"
   ]
  },
  {
   "cell_type": "markdown",
   "id": "d03c9c91",
   "metadata": {},
   "source": [
    "## Посчитаем статистическую значимость различий в среднем чеке заказа между группами по «сырым» данным. Сделаем выводы и предположения."
   ]
  },
  {
   "cell_type": "markdown",
   "id": "21f15626",
   "metadata": {},
   "source": [
    "Нулевая гипотеза: различий в среднем чеке между группами нет. Альтернативная гипотеза: различия в среднем чеке между группами есть\n",
    "\n",
    "Чтобы рассчитать статистическую значимость различий в среднем чеке, передадим критерию Манна-Уитни данные о выручке с заказов\n",
    "\n",
    "А ещё найдём относительные различия в среднем чеке между группами"
   ]
  },
  {
   "cell_type": "code",
   "execution_count": 40,
   "id": "e10671a7",
   "metadata": {},
   "outputs": [
    {
     "name": "stdout",
     "output_type": "stream",
     "text": [
      "p-value: 0.7292909855432458\n",
      "Относительные различия между группами:  0.25871\n"
     ]
    }
   ],
   "source": [
    "print('p-value:',(stats.mannwhitneyu(orders[orders['group']=='A']['revenue'], orders[orders['group']=='B']['revenue'])[1]))\n",
    "print('Относительные различия между группами: ','{0:.5f}'.format(orders[orders['group']=='B']['revenue'].mean()/orders[orders['group']=='A']['revenue'].mean()-1))"
   ]
  },
  {
   "cell_type": "markdown",
   "id": "850f683f",
   "metadata": {},
   "source": [
    "P-value значительно больше 0.05. Значит, причин отвергать нулевую гипотезу и считать, что в среднем чеке есть различия, нет\n",
    "\n",
    "Относительное различие в средних чеках между группами составляет порядка 25 процентов в пользу группы В"
   ]
  },
  {
   "cell_type": "markdown",
   "id": "86b676df",
   "metadata": {},
   "source": [
    "## Посчитаем статистическую значимость различий в среднем количестве заказов между группами по «очищенным» данным. Сделаем выводы и предположения"
   ]
  },
  {
   "cell_type": "markdown",
   "id": "4da43814",
   "metadata": {},
   "source": [
    "Примем за аномальных пользователей тех, кто совершил от 4 заказов или совершил заказ дороже 28 000 рублей\n",
    "\n",
    "Так мы уберём 1% пользователей с наибольшим числом заказов и  5% пользователей с дорогими заказами\n",
    "\n",
    "Сделаем срезы пользователей с числом заказов больше 4 — usersWithManyOrders и пользователей, совершивших заказы дороже 28 000 — usersWithExpensiveOrders\n",
    "\n",
    "Объединим их в таблице abnormalUsers\n",
    "\n",
    "Чтобы в дальнейшем мы всегда могли изменить при необходимости пороговые значения для определения аномалий, создадим две переменные Ord_trh и Rev_trh\n"
   ]
  },
  {
   "cell_type": "code",
   "execution_count": 41,
   "id": "ffb2055a",
   "metadata": {},
   "outputs": [
    {
     "name": "stdout",
     "output_type": "stream",
     "text": [
      "1099    148427295\n",
      "928     204675465\n",
      "684     358944393\n",
      "648     382846391\n",
      "1189    393266494\n",
      "dtype: int64\n",
      "59\n"
     ]
    }
   ],
   "source": [
    "# создадим таблицу abnormalUsers\n",
    "\n",
    "Ord_trh=4\n",
    "Rev_trh=28000\n",
    "\n",
    "usersWithManyOrders = pd.concat(\n",
    "    [\n",
    "        ordersByUsersA[ordersByUsersA['orders'] > Ord_trh]['userId'],\n",
    "        ordersByUsersB[ordersByUsersB['orders'] > Ord_trh]['userId'],\n",
    "    ],\n",
    "    axis=0,\n",
    ")\n",
    "usersWithExpensiveOrders = orders[orders['revenue'] > Rev_trh]['visitorId']\n",
    "abnormalUsers = (\n",
    "    pd.concat([usersWithManyOrders, usersWithExpensiveOrders], axis=0)\n",
    "    .drop_duplicates()\n",
    "    .sort_values()\n",
    ")\n",
    "print(abnormalUsers.head(5))\n",
    "print(abnormalUsers.shape[0])"
   ]
  },
  {
   "cell_type": "markdown",
   "id": "39821790",
   "metadata": {},
   "source": [
    "Можем наблюдать, что таких аномальных пользователей у нас 59 "
   ]
  },
  {
   "cell_type": "markdown",
   "id": "078865d2",
   "metadata": {},
   "source": [
    "Подготовим выборки количества заказов по пользователям по группам теста"
   ]
  },
  {
   "cell_type": "code",
   "execution_count": 42,
   "id": "259049cb",
   "metadata": {},
   "outputs": [],
   "source": [
    "# для группы А\n",
    "\n",
    "sampleAFiltered = pd.concat(\n",
    "    [\n",
    "        ordersByUsersA[\n",
    "            np.logical_not(ordersByUsersA['userId'].isin(abnormalUsers))\n",
    "        ]['orders'],\n",
    "        pd.Series(\n",
    "            0,\n",
    "            index=np.arange(\n",
    "                data['visitorsPerDateA'].sum() - len(ordersByUsersA['orders'])\n",
    "            ),\n",
    "            name='orders',\n",
    "        ),\n",
    "    ],\n",
    "    axis=0,\n",
    ")\n",
    "\n",
    "# для группы В\n",
    "\n",
    "sampleBFiltered = pd.concat(\n",
    "    [\n",
    "        ordersByUsersB[\n",
    "            np.logical_not(ordersByUsersB['userId'].isin(abnormalUsers))\n",
    "        ]['orders'],\n",
    "        pd.Series(\n",
    "            0,\n",
    "            index=np.arange(\n",
    "                data['visitorsPerDateB'].sum() - len(ordersByUsersB['orders'])\n",
    "            ),\n",
    "            name='orders',\n",
    "        ),\n",
    "    ],\n",
    "    axis=0,\n",
    ")"
   ]
  },
  {
   "cell_type": "markdown",
   "id": "c5241baa",
   "metadata": {},
   "source": [
    "Сформулируем гипотезы. Нулевая: различий в среднем количестве заказов между группами нет. Альтернативная: различия в среднем между группами есть\n",
    "\n",
    "Применим статистический критерий Манна-Уитни к полученным выборкам:"
   ]
  },
  {
   "cell_type": "code",
   "execution_count": 43,
   "id": "ef149fa1",
   "metadata": {},
   "outputs": [
    {
     "name": "stdout",
     "output_type": "stream",
     "text": [
      "p-value: 0.018457083488550192\n",
      "Относительные различия между группами:  0.14535\n"
     ]
    }
   ],
   "source": [
    "print('p-value:',(stats.mannwhitneyu(sampleAFiltered, sampleBFiltered)[1]))\n",
    "print('Относительные различия между группами: ','{0:.5f}'.format(sampleBFiltered.mean()/sampleAFiltered.mean()-1)) "
   ]
  },
  {
   "cell_type": "markdown",
   "id": "0f4d2a90",
   "metadata": {},
   "source": [
    "Первое число p-value = 0.01846 меньше 0.05\n",
    "\n",
    "Значит, нулевую гипотезу о том, что статистически значимых различий в среднем числе заказов между группами нет, можем отвергнуть\n",
    "\n",
    "То есть, можно предположить, что есть статистически значимые различия в среднем числе заказов между группами\n",
    "\n",
    "Второе число 0.14535 как раз показывает, что относительный выигрыш группы В по сравнению с группой А равен  14%\n",
    "\n",
    "Как и в случае с сырыми данными, статистическая значимость достигнута: сегмент В лучше сегмента А"
   ]
  },
  {
   "cell_type": "markdown",
   "id": "efd6f00c",
   "metadata": {},
   "source": [
    "## Посчитаем статистическую значимость различий в среднем чеке заказа между группами по «очищенным» данным. Сделаем выводы и предположения"
   ]
  },
  {
   "cell_type": "markdown",
   "id": "6222d0f3",
   "metadata": {},
   "source": [
    "Нулевая гипотеза: различий в среднем чеке между группами нет. Альтернативная гипотеза: различия в среднем чеке между группами есть\n",
    "\n",
    "Применим статистический критерий Манна-Уитни"
   ]
  },
  {
   "cell_type": "code",
   "execution_count": 44,
   "id": "722d1ad6",
   "metadata": {},
   "outputs": [
    {
     "name": "stdout",
     "output_type": "stream",
     "text": [
      "p-value: 0.9612742488180921\n",
      "Относительные различия между группами:  -0.01383\n"
     ]
    }
   ],
   "source": [
    "print(\n",
    "    'p-value:',(\n",
    "        stats.mannwhitneyu(\n",
    "            orders[\n",
    "                np.logical_and(\n",
    "                    orders['group'] == 'A',\n",
    "                    np.logical_not(orders['visitorId'].isin(abnormalUsers)),\n",
    "                )\n",
    "            ]['revenue'],\n",
    "            orders[\n",
    "                np.logical_and(\n",
    "                    orders['group'] == 'B',\n",
    "                    np.logical_not(orders['visitorId'].isin(abnormalUsers)),\n",
    "                )\n",
    "            ]['revenue'],\n",
    "        )[1]\n",
    "    )\n",
    ")\n",
    "\n",
    "print('Относительные различия между группами: ',\n",
    "    \"{0:.5f}\".format(\n",
    "        orders[\n",
    "            np.logical_and(\n",
    "                orders['group'] == 'B',\n",
    "                np.logical_not(orders['visitorId'].isin(abnormalUsers)),\n",
    "            )\n",
    "        ]['revenue'].mean()\n",
    "        / orders[\n",
    "            np.logical_and(\n",
    "                orders['group'] == 'A',\n",
    "                np.logical_not(orders['visitorId'].isin(abnormalUsers)),\n",
    "            )\n",
    "        ]['revenue'].mean()\n",
    "        - 1\n",
    "    )\n",
    ")"
   ]
  },
  {
   "cell_type": "markdown",
   "id": "66f0b444",
   "metadata": {},
   "source": [
    "Первое число p-value = 0.9613 больше 0.05\n",
    "\n",
    "Значит, причин отвергать нулевую гипотезу и считать, что в среднем чеке есть различия, нет\n",
    "\n",
    "Второе число -0.01383  показывает, что относительный проигрыш группы В по сравнению с группой А равен 1,3 процента\n",
    "\n",
    "После очистки сырых данных и удаления аномальных пользователей, изменилась относительная разница в среднем чеке между группами: если в исходных данных группа В на 25 процентов превосходила группу А, то после удаления аномалий группа В стала совсем немного, порядка полутора процентов, проигрывать группе А"
   ]
  },
  {
   "cell_type": "markdown",
   "id": "4eb21b5d",
   "metadata": {},
   "source": [
    "## Примим решение по результатам теста и объясним его"
   ]
  },
  {
   "cell_type": "markdown",
   "id": "d4e32aab",
   "metadata": {},
   "source": [
    "Исходя из проведенного исследования, можно отметить следующее:\n",
    "\n",
    "* Проведя предобработку, было выяснено, что мы имеем данные за период с 1 по 31 августа 2019 года. Пользователи разбиты на 2 группы по гипотезам: А и В\n",
    "\n",
    "* При построении графиков мы увидели, что кумулятивные средний чек, выручка и число заказов у группы В имеют лучшие показатели, чем у группы А\n",
    "\n",
    "\n",
    "* Что до очистки данных от аномалий, что после, есть статистически значимые различия в среднем количестве заказов  между группами. Относительный выигрыш группы В по сравнению с группой А составляет порядка 14 процентов\n",
    "\n",
    "\n",
    "* Построение точечных графиков показало, что большинство пользователей совершают менее 4 заказов на сумму не более 28 тысяч. Было принято решение пользователей, выходящих за эти рамки, считать аномальными\n",
    "\n",
    "\n",
    "* Аномальных пользователей в нашем случае было 59 человек\n",
    "\n",
    "\n",
    "* Что касается среднего чека в разбивке по группам, до удаления аномальных пользователей группа В на 25 процентов выигрывала у группы А. Однако, после удаления больших заказов, средние чеки у обеих групп стали относительно равными\n",
    "\n",
    "* То есть, при относительно равных чеках у обеих групп, у группы В наблюдается значительно превосходящее группу А количество заказов - на 14 процентов\n",
    "\n",
    "\n",
    "* Эти выводы позволяют нам принять решение о том, что у группы В есть преимущества перед группой А"
   ]
  },
  {
   "cell_type": "markdown",
   "id": "90aced58",
   "metadata": {},
   "source": [
    "Проанализировав выводы, принимаем решение остановить тест и зафиксировать победу группы В"
   ]
  }
 ],
 "metadata": {
  "ExecuteTimeLog": [
   {
    "duration": 2504,
    "start_time": "2022-10-19T15:28:47.096Z"
   },
   {
    "duration": 46,
    "start_time": "2022-10-19T15:28:49.602Z"
   },
   {
    "duration": 71,
    "start_time": "2022-10-19T15:28:49.650Z"
   },
   {
    "duration": 36,
    "start_time": "2022-10-19T15:28:49.723Z"
   },
   {
    "duration": 18,
    "start_time": "2022-10-19T15:28:49.763Z"
   },
   {
    "duration": 39,
    "start_time": "2022-10-19T15:28:49.783Z"
   },
   {
    "duration": 37,
    "start_time": "2022-10-19T15:28:49.824Z"
   },
   {
    "duration": 10,
    "start_time": "2022-10-19T15:28:49.864Z"
   },
   {
    "duration": 15,
    "start_time": "2022-10-19T15:28:49.876Z"
   },
   {
    "duration": 17,
    "start_time": "2022-10-19T15:28:49.894Z"
   },
   {
    "duration": 11,
    "start_time": "2022-10-19T15:28:49.921Z"
   },
   {
    "duration": 17,
    "start_time": "2022-10-19T15:28:49.934Z"
   },
   {
    "duration": 226,
    "start_time": "2022-10-19T15:28:49.953Z"
   },
   {
    "duration": 158,
    "start_time": "2022-10-19T15:28:50.183Z"
   },
   {
    "duration": 8,
    "start_time": "2022-10-19T15:28:50.343Z"
   },
   {
    "duration": 69,
    "start_time": "2022-10-19T15:28:50.352Z"
   },
   {
    "duration": 803,
    "start_time": "2022-10-19T15:28:50.424Z"
   },
   {
    "duration": 810,
    "start_time": "2022-10-19T15:28:51.229Z"
   },
   {
    "duration": 9,
    "start_time": "2022-10-19T15:28:52.042Z"
   },
   {
    "duration": 793,
    "start_time": "2022-10-19T15:28:52.054Z"
   },
   {
    "duration": 678,
    "start_time": "2022-10-19T15:28:52.849Z"
   },
   {
    "duration": 653,
    "start_time": "2022-10-19T15:28:53.529Z"
   },
   {
    "duration": 11,
    "start_time": "2022-10-19T15:28:54.184Z"
   },
   {
    "duration": 191,
    "start_time": "2022-10-19T15:28:54.196Z"
   },
   {
    "duration": 8,
    "start_time": "2022-10-19T15:28:54.389Z"
   },
   {
    "duration": 23,
    "start_time": "2022-10-19T15:28:54.399Z"
   },
   {
    "duration": 10,
    "start_time": "2022-10-19T15:28:54.424Z"
   },
   {
    "duration": 209,
    "start_time": "2022-10-19T15:28:54.437Z"
   },
   {
    "duration": 9,
    "start_time": "2022-10-19T15:28:54.648Z"
   },
   {
    "duration": 15,
    "start_time": "2022-10-19T15:28:54.659Z"
   },
   {
    "duration": 260,
    "start_time": "2022-10-19T15:28:54.676Z"
   },
   {
    "duration": 163,
    "start_time": "2022-10-19T15:28:54.938Z"
   },
   {
    "duration": 18,
    "start_time": "2022-10-19T15:28:55.103Z"
   },
   {
    "duration": 22,
    "start_time": "2022-10-19T15:28:55.123Z"
   },
   {
    "duration": 11,
    "start_time": "2022-10-19T15:28:55.147Z"
   },
   {
    "duration": 21,
    "start_time": "2022-10-19T15:28:55.160Z"
   },
   {
    "duration": 38,
    "start_time": "2022-10-19T15:28:55.183Z"
   },
   {
    "duration": 23,
    "start_time": "2022-10-19T15:28:55.223Z"
   },
   {
    "duration": 17,
    "start_time": "2022-10-19T15:28:55.248Z"
   },
   {
    "duration": 1607,
    "start_time": "2022-10-20T13:00:08.791Z"
   },
   {
    "duration": 78,
    "start_time": "2022-10-20T13:00:10.401Z"
   },
   {
    "duration": 90,
    "start_time": "2022-10-20T13:00:10.480Z"
   },
   {
    "duration": 66,
    "start_time": "2022-10-20T13:00:10.572Z"
   },
   {
    "duration": 11,
    "start_time": "2022-10-20T13:00:10.639Z"
   },
   {
    "duration": 5,
    "start_time": "2022-10-20T13:00:10.652Z"
   },
   {
    "duration": 9,
    "start_time": "2022-10-20T13:00:10.658Z"
   },
   {
    "duration": 5,
    "start_time": "2022-10-20T13:00:10.669Z"
   },
   {
    "duration": 11,
    "start_time": "2022-10-20T13:00:10.675Z"
   },
   {
    "duration": 13,
    "start_time": "2022-10-20T13:00:10.689Z"
   },
   {
    "duration": 7,
    "start_time": "2022-10-20T13:00:10.703Z"
   },
   {
    "duration": 11,
    "start_time": "2022-10-20T13:00:10.712Z"
   },
   {
    "duration": 8,
    "start_time": "2022-10-20T13:00:10.725Z"
   },
   {
    "duration": 8,
    "start_time": "2022-10-20T13:00:10.734Z"
   },
   {
    "duration": 11,
    "start_time": "2022-10-20T13:00:10.743Z"
   },
   {
    "duration": 37,
    "start_time": "2022-10-20T13:00:10.755Z"
   },
   {
    "duration": 5,
    "start_time": "2022-10-20T13:00:10.794Z"
   },
   {
    "duration": 192,
    "start_time": "2022-10-20T13:00:10.801Z"
   },
   {
    "duration": 122,
    "start_time": "2022-10-20T13:00:10.995Z"
   },
   {
    "duration": 7,
    "start_time": "2022-10-20T13:00:11.119Z"
   },
   {
    "duration": 6,
    "start_time": "2022-10-20T13:00:11.128Z"
   },
   {
    "duration": 346,
    "start_time": "2022-10-20T13:00:11.136Z"
   },
   {
    "duration": 345,
    "start_time": "2022-10-20T13:00:11.484Z"
   },
   {
    "duration": 6,
    "start_time": "2022-10-20T13:00:11.832Z"
   },
   {
    "duration": 497,
    "start_time": "2022-10-20T13:00:11.839Z"
   },
   {
    "duration": 334,
    "start_time": "2022-10-20T13:00:12.338Z"
   },
   {
    "duration": 463,
    "start_time": "2022-10-20T13:00:12.674Z"
   },
   {
    "duration": 9,
    "start_time": "2022-10-20T13:00:13.141Z"
   },
   {
    "duration": 164,
    "start_time": "2022-10-20T13:00:13.151Z"
   },
   {
    "duration": 6,
    "start_time": "2022-10-20T13:00:13.317Z"
   },
   {
    "duration": 4,
    "start_time": "2022-10-20T13:00:13.324Z"
   },
   {
    "duration": 6,
    "start_time": "2022-10-20T13:00:13.330Z"
   },
   {
    "duration": 279,
    "start_time": "2022-10-20T13:00:13.337Z"
   },
   {
    "duration": 10,
    "start_time": "2022-10-20T13:00:13.618Z"
   },
   {
    "duration": 5,
    "start_time": "2022-10-20T13:00:13.630Z"
   },
   {
    "duration": 283,
    "start_time": "2022-10-20T13:00:13.637Z"
   },
   {
    "duration": 159,
    "start_time": "2022-10-20T13:00:13.922Z"
   },
   {
    "duration": 12,
    "start_time": "2022-10-20T13:00:14.083Z"
   },
   {
    "duration": 23,
    "start_time": "2022-10-20T13:00:14.096Z"
   },
   {
    "duration": 12,
    "start_time": "2022-10-20T13:00:14.121Z"
   },
   {
    "duration": 10,
    "start_time": "2022-10-20T13:00:14.136Z"
   },
   {
    "duration": 44,
    "start_time": "2022-10-20T13:00:14.148Z"
   },
   {
    "duration": 25,
    "start_time": "2022-10-20T13:00:14.194Z"
   },
   {
    "duration": 17,
    "start_time": "2022-10-20T13:00:14.221Z"
   }
  ],
  "kernelspec": {
   "display_name": "Python 3 (ipykernel)",
   "language": "python",
   "name": "python3"
  },
  "language_info": {
   "codemirror_mode": {
    "name": "ipython",
    "version": 3
   },
   "file_extension": ".py",
   "mimetype": "text/x-python",
   "name": "python",
   "nbconvert_exporter": "python",
   "pygments_lexer": "ipython3",
   "version": "3.9.13"
  },
  "toc": {
   "base_numbering": 1,
   "nav_menu": {},
   "number_sections": true,
   "sideBar": true,
   "skip_h1_title": false,
   "title_cell": "Table of Contents",
   "title_sidebar": "Contents",
   "toc_cell": false,
   "toc_position": {},
   "toc_section_display": true,
   "toc_window_display": false
  }
 },
 "nbformat": 4,
 "nbformat_minor": 5
}
